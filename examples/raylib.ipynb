{
 "cells": [
  {
   "cell_type": "markdown",
   "id": "df2c286f-80c6-434e-8e7c-798028c0f0e0",
   "metadata": {},
   "source": [
    "## Raylib basic window example"
   ]
  },
  {
   "cell_type": "code",
   "execution_count": 1,
   "id": "09d020f4-1fae-42e8-a887-f1b00150aee6",
   "metadata": {},
   "outputs": [
    {
     "name": "stdout",
     "output_type": "stream",
     "text": [
      "\u001b[0;31m  \u001b[0m"
     ]
    }
   ],
   "source": [
    "import \"core:fmt\""
   ]
  },
  {
   "cell_type": "code",
   "execution_count": 2,
   "id": "aad1e72d-14bc-4e14-85b9-1ba3f88098db",
   "metadata": {},
   "outputs": [
    {
     "name": "stdout",
     "output_type": "stream",
     "text": [
      "normal message\n",
      " \u001b[0;31m error message\n",
      " \u001b[0m"
     ]
    }
   ],
   "source": [
    "fmt.println(\"normal message\")\n",
    "fmt.eprintln(\"error message\")"
   ]
  },
  {
   "cell_type": "code",
   "execution_count": 3,
   "id": "61cdac34-cd0e-44ac-afa1-a0fe738f350d",
   "metadata": {},
   "outputs": [
    {
     "name": "stdout",
     "output_type": "stream",
     "text": [
      "and a normal message\n",
      " \u001b[0;31m BIG FUCKING ERROR MESSAGE\n",
      " \u001b[0m"
     ]
    }
   ],
   "source": [
    "fmt.eprintln(\"BIG FUCKING ERROR MESSAGE\")\n",
    "fmt.println(\"and a normal message\")"
   ]
  },
  {
   "cell_type": "code",
   "execution_count": null,
   "id": "71c4319a-c154-4eac-841f-ff8ee31f4ee6",
   "metadata": {},
   "outputs": [],
   "source": [
    "import \"vendor:raylib\"\n",
    "import \"core:fmt\"\n",
    "import \"core:thread\"\n",
    "import \"core:sync\""
   ]
  },
  {
   "cell_type": "markdown",
   "id": "53862a16-3d65-4d24-8b2a-f80124efdbb8",
   "metadata": {},
   "source": [
    "You can change the string that is displayed while the window is live."
   ]
  },
  {
   "cell_type": "code",
   "execution_count": null,
   "id": "61bdd065-a8bf-4971-acf5-13241c3dfe6c",
   "metadata": {},
   "outputs": [],
   "source": [
    "using sync\n",
    "data_mutex: Mutex = {}"
   ]
  },
  {
   "cell_type": "code",
   "execution_count": null,
   "id": "9cbd0e8f-022e-4915-ae3b-cff0784c539f",
   "metadata": {},
   "outputs": [],
   "source": [
    "sync.mutex_lock(&data_mutex); defer sync.mutex_unlock(&data_mutex)\n",
    "window_text : cstring = \"Congrats! You created your first window!\"\n",
    "fmt.print(window_text)"
   ]
  },
  {
   "cell_type": "code",
   "execution_count": 3,
   "id": "f52be66b-6735-42f8-b332-c0b3d9945a88",
   "metadata": {},
   "outputs": [
    {
     "name": "stdout",
     "output_type": "stream",
     "text": []
    }
   ],
   "source": [
    "window_thread_proc:: proc(t: ^thread.Thread) {\n",
    "    raylib.InitWindow(540, 360, \"raylib window\")\n",
    "    raylib.SetTargetFPS(60)\n",
    "    for ! raylib.WindowShouldClose() {\n",
    "        sync.mutex_lock(&data_mutex)\n",
    "        raylib.BeginDrawing()\n",
    "        raylib.ClearBackground(raylib.RAYWHITE)\n",
    "        raylib.DrawText(window_text^, 190, 200, 20, raylib.LIGHTGRAY)\n",
    "        raylib.EndDrawing()\n",
    "        sync.mutex_unlock(&data_mutex) }\n",
    "    raylib.CloseWindow() }"
   ]
  },
  {
   "cell_type": "code",
   "execution_count": null,
   "id": "7d8fb03e-9f4e-4d46-9dc5-db6147c63fdb",
   "metadata": {},
   "outputs": [],
   "source": [
    "window_thread: = thread.create(window_thread_proc)\n",
    "thread.start(window_thread)\n",
    "thread.join(window_thread)"
   ]
  }
 ],
 "metadata": {
  "kernelspec": {
   "display_name": "JODIN",
   "language": "odin",
   "name": "odin_kernel"
  },
  "language_info": {
   "file_extension": ".odin",
   "mimetype": "text/odin",
   "name": "odin"
  }
 },
 "nbformat": 4,
 "nbformat_minor": 5
}

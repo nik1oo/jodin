{
 "cells": [
  {
   "cell_type": "markdown",
   "id": "2abaedaf-7c60-408c-9509-e959a371ab29",
   "metadata": {},
   "source": [
    "### Cell Timeout Error\n",
    "If it takes too long for a cell to execute, the cell's thread should be terminated and a timeout error should be printed to the cell's output field."
   ]
  },
  {
   "cell_type": "code",
   "execution_count": 1,
   "id": "0421771f-37ff-4802-b6cb-d8a874dda470",
   "metadata": {},
   "outputs": [
    {
     "name": "stdout",
     "output_type": "stream",
     "text": [
      "\u001b[0m\u001b[2;31m\u001b[2;31m[JodinInterpreter] \u001b[0mTimeout: C:/Code/jodin/src/interpreter/cell.odin(202:4): Cell timed out.\n",
      "\u001b[0m"
     ]
    }
   ],
   "source": [
    "import \"core:fmt\"\n",
    "i: int = 0\n",
    "for i < 10 { }"
   ]
  },
  {
   "cell_type": "markdown",
   "id": "6970e648-090d-43e2-af2a-af1e1b7c2b2f",
   "metadata": {},
   "source": [
    "### Compilation Errors\n",
    "If the Odin compiler produces an error, it should be printed to the cell's output field."
   ]
  },
  {
   "cell_type": "code",
   "execution_count": 2,
   "id": "3cffeba4-3d61-4cf2-9cd7-630980ca5877",
   "metadata": {},
   "outputs": [
    {
     "name": "stdout",
     "output_type": "stream",
     "text": [
      "\u001b[0m\u001b[2;31m\u001b[2;31m[JodinInterpreter] \u001b[0mCompiler_Error: C:/Code/jodin/src/interpreter/cell.odin(232:10): C:/Code/jodin/examples/temp/session_15_01_01/cell_15_08_21_2/cell_15_08_21_2.odin(44:7) Error: Cannot assign value 'x' of type 'int' to 'f32' in assignment \n",
      "\tf = x \n",
      "\t    ^ \n",
      "\n",
      "\u001b[0m"
     ]
    }
   ],
   "source": [
    "x: int\n",
    "f: f32\n",
    "x = 14\n",
    "f = x"
   ]
  },
  {
   "cell_type": "markdown",
   "id": "c6217646-916e-46c5-8184-d854376cfca9",
   "metadata": {},
   "source": [
    "### Preprocessing Error\n",
    "If the Jodin preprocessor produces an error, it should be printed to the cell's output field."
   ]
  },
  {
   "cell_type": "code",
   "execution_count": 3,
   "id": "7a6535c9-911f-474d-a201-b42a2db8cc93",
   "metadata": {},
   "outputs": [
    {
     "name": "stdout",
     "output_type": "stream",
     "text": [
      "\u001b[0m\u001b[2;31m\u001b[2;31m[JodinInterpreter] \u001b[0mPreprocessor_Error: C:\\Code\\jodin\\examples\\temp\\session_15_01_01\\cell_15_08_27_3\\cell_15_08_27_3.odin(1:1): JOdin cannot infer the type of y. Please declare it explicitly.\n",
      "\u001b[0m"
     ]
    }
   ],
   "source": [
    "y := 123 + 41"
   ]
  },
  {
   "cell_type": "markdown",
   "id": "d333b4f2-5e51-414b-9ac0-0056963684ed",
   "metadata": {},
   "source": [
    "### Odin Runtime Errors\n",
    "If Odin's runtime produces an error, it should be printed to the cell's output field. _This does not work yet. The error is printed to the console and the interpreter crashes._"
   ]
  },
  {
   "cell_type": "code",
   "execution_count": 4,
   "id": "f0f8fdb8-14bc-457b-8bad-ef88740e06a4",
   "metadata": {},
   "outputs": [
    {
     "name": "stdout",
     "output_type": "stream",
     "text": []
    }
   ],
   "source": [
    "m: []int = make([]int, 10)\n",
    "for j in 0 ..< 10 do m[j] = j\n",
    "for j in 0 ..< 20 do fmt.println(m[j])"
   ]
  },
  {
   "cell_type": "markdown",
   "id": "d5a166ec-3d43-4429-bde5-56f9fea7d11a",
   "metadata": {},
   "source": [
    "### Interpreter Timeout Error\n",
    "If the Jodin interpreter takes too long to respond to an execute request by the Jodin kernel, a JodinKernel error should be printed to the cell's output field, prompting the user to restart the kernel."
   ]
  },
  {
   "cell_type": "code",
   "execution_count": 2,
   "id": "08bff523-bfe6-433e-aeff-dbb6ab89cc39",
   "metadata": {},
   "outputs": [
    {
     "name": "stdout",
     "output_type": "stream",
     "text": [
      "\u001b[2;31m[JodinKernel] \u001b[0mNo response from interpreter. Restart kernel."
     ]
    }
   ],
   "source": [
    "k: int = 10"
   ]
  },
  {
   "cell_type": "markdown",
   "id": "ed981fa2-672f-42dd-96bd-55fb4b5fe57f",
   "metadata": {},
   "source": [
    "### Memory Faults\n",
    "If a Memory fault occurs, the signal raised by the operating system should be printed to the cell's output field. _This does not work yet. The error is not printed anywhere and the interpreter crashes._"
   ]
  },
  {
   "cell_type": "code",
   "execution_count": 1,
   "id": "8d323f08-e776-4e9d-9150-5c55db385977",
   "metadata": {},
   "outputs": [
    {
     "name": "stdout",
     "output_type": "stream",
     "text": []
    }
   ],
   "source": [
    "import \"core:fmt\"\n",
    "import \"core:image\"\n",
    "im: ^image.Image = auto_cast transmute(rawptr)cast(uint)0x01020390148\n",
    "fmt.println(im.width)"
   ]
  }
 ],
 "metadata": {
  "kernelspec": {
   "display_name": "JODIN",
   "language": "odin",
   "name": "jodin"
  },
  "language_info": {
   "file_extension": ".odin",
   "mimetype": "text/odin",
   "name": "odin"
  }
 },
 "nbformat": 4,
 "nbformat_minor": 5
}

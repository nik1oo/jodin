{
 "cells": [
  {
   "cell_type": "code",
   "execution_count": 1,
   "id": "ed777912-1442-42d2-a909-e555a5699a7b",
   "metadata": {
    "scrolled": true
   },
   "outputs": [
    {
     "name": "stdout",
     "output_type": "stream",
     "text": [
      "\u001b[0;31m\u001b[0m"
     ]
    }
   ],
   "source": [
    "import \"core:fmt\""
   ]
  },
  {
   "cell_type": "code",
   "execution_count": 2,
   "id": "40601aa6-ef13-47db-97fe-eb2c6677638f",
   "metadata": {
    "scrolled": true
   },
   "outputs": [
    {
     "name": "stdout",
     "output_type": "stream",
     "text": [
      "\u001b[0;31m\u001b[0m"
     ]
    }
   ],
   "source": [
    "head: string = \"dog\""
   ]
  },
  {
   "cell_type": "code",
   "execution_count": 3,
   "id": "992ae7dc-6b71-4bab-9c84-722109019a14",
   "metadata": {
    "scrolled": true
   },
   "outputs": [
    {
     "name": "stdout",
     "output_type": "stream",
     "text": [
      "\u001b[0;31m\u001b[0m"
     ]
    }
   ],
   "source": [
    "tail: string = \"cat\""
   ]
  },
  {
   "cell_type": "code",
   "execution_count": 4,
   "id": "1ae4fdd1-6ea1-422f-9891-ad8e7f00b29f",
   "metadata": {},
   "outputs": [
    {
     "name": "stdout",
     "output_type": "stream",
     "text": [
      "dog-cat\n",
      "\u001b[0;31m\u001b[0m"
     ]
    }
   ],
   "source": [
    "fmt.println(head^, \"-\", tail^, sep = \"\")"
   ]
  },
  {
   "cell_type": "code",
   "execution_count": 5,
   "id": "be4cfdf4-540b-4612-8330-0fdab29138dd",
   "metadata": {},
   "outputs": [
    {
     "name": "stdout",
     "output_type": "stream",
     "text": [
      "\u001b[0;31mcell is nil.\n",
      "\u001b[0m"
     ]
    }
   ],
   "source": [
    "jodin.clear_output(__cell__, false)"
   ]
  },
  {
   "cell_type": "code",
   "execution_count": null,
   "id": "80abaf1a-9320-495f-a311-c9c4c7856db1",
   "metadata": {},
   "outputs": [],
   "source": [
    "message: = messaging.iopub_message_stream(stream_name = \"stdout\", text = \"This should message appear under the cell.\")\n",
    "packet, _: = messaging.pack_messages({ message })\n",
    "send_packet(packet, __iopub__)"
   ]
  }
 ],
 "metadata": {
  "kernelspec": {
   "display_name": "JODIN",
   "language": "odin",
   "name": "odin_kernel"
  },
  "language_info": {
   "file_extension": ".odin",
   "mimetype": "text/odin",
   "name": "odin"
  }
 },
 "nbformat": 4,
 "nbformat_minor": 5
}

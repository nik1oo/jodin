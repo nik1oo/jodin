{
 "cells": [
  {
   "cell_type": "code",
   "execution_count": 1,
   "id": "8c727995-8d3f-437b-ba30-613e1747c246",
   "metadata": {},
   "outputs": [
    {
     "name": "stdout",
     "output_type": "stream",
     "text": [
      "\u001b[0m\u001b[0;31m\u001b[0m"
     ]
    }
   ],
   "source": [
    "import \"base:runtime\"\n",
    "import \"core:fmt\"\n",
    "import \"core:image\""
   ]
  },
  {
   "cell_type": "code",
   "execution_count": null,
   "id": "abe52249-cea7-431a-ac65-910e4f44399a",
   "metadata": {},
   "outputs": [],
   "source": [
    "#+timeout 30\n",
    "small_jupyter: []u8\n",
    "tiny_jupyter: []u8\n",
    "tiny_odin: []u8\n",
    "small_jupyter, _ = os.read_entire_file_from_filename(`C:\\Code\\jodin\\examples\\small-jupyter.png`)\n",
    "tiny_jupyter, _ = os.read_entire_file_from_filename(`C:\\Code\\jodin\\examples\\tiny-jupyter.gif`)\n",
    "tiny_odin, _ = os.read_entire_file_from_filename(`C:\\Code\\jodin\\examples\\tiny-odin.gif`)"
   ]
  },
  {
   "cell_type": "code",
   "execution_count": 3,
   "id": "c19df299-accf-46ae-b8a3-6a209676c9f0",
   "metadata": {},
   "outputs": [
    {
     "name": "stdout",
     "output_type": "stream",
     "text": [
      "\u001b[0;31m\u001b[0m\u001b[0;31m\u001b[0m"
     ]
    },
    {
     "data": {
      "image/gif": "[encoded data removed]"
     },
     "metadata": {
      "image/gif": {
       "height": 20,
       "width": 20
      }
     },
     "output_type": "display_data"
    },
    {
     "data": {
      "image/gif": "[encoded data removed]"
     },
     "metadata": {
      "image/gif": {
       "height": 20,
       "width": 20
      }
     },
     "output_type": "display_data"
    }
   ],
   "source": [
    "jodin.display_image(tiny_jupyter, .GIF, 20, 20)\n",
    "jodin.display_image(tiny_odin, .GIF, 20, 20)"
   ]
  },
  {
   "cell_type": "code",
   "execution_count": 3,
   "id": "7572bcd9-bd17-4213-a0cd-81e87067e4f8",
   "metadata": {
    "scrolled": true
   },
   "outputs": [
    {
     "name": "stdout",
     "output_type": "stream",
     "text": [
      "\u001b[0;31m\u001b[0m\u001b[0;31m\u001b[0m"
     ]
    }
   ],
   "source": [
    "#+timeout 30\n",
    "jodin.display_image(small_jupyter, .PNG, 256, 256)"
   ]
  }
 ],
 "metadata": {
  "kernelspec": {
   "display_name": "JODIN",
   "language": "odin",
   "name": "jodin"
  },
  "language_info": {
   "file_extension": ".odin",
   "mimetype": "text/odin",
   "name": "odin"
  }
 },
 "nbformat": 4,
 "nbformat_minor": 5
}

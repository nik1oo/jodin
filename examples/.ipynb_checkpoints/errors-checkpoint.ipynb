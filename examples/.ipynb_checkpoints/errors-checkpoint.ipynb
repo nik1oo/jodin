{
 "cells": [
  {
   "cell_type": "markdown",
   "id": "4b256884-0058-4f13-aa0e-347b24121e2d",
   "metadata": {},
   "source": [
    "# Errors\n",
    "\n",
    "This notebook reproduces various kinds of errors, to test whether JOdin is reporting them properly."
   ]
  },
  {
   "cell_type": "markdown",
   "id": "6970e648-090d-43e2-af2a-af1e1b7c2b2f",
   "metadata": {},
   "source": [
    "## Compilation Errors\n",
    "\n",
    "Errors reported by the Odin compiler."
   ]
  },
  {
   "cell_type": "code",
   "execution_count": 1,
   "id": "3cffeba4-3d61-4cf2-9cd7-630980ca5877",
   "metadata": {},
   "outputs": [
    {
     "name": "stdout",
     "output_type": "stream",
     "text": [
      "\u001b[0m\u001b[2;31m\u001b[2;31m[JodinInterpreter]\u001b[0m Compiler_Error: C:/Code/jodin/src/interpreter/cell.odin(232:10): C:/Code/jodin/examples/temp/session_11_57_35/cell_11_57_39_1/cell_11_57_39_1.odin(40:7) Error: Cannot assign value 'x' of type 'int' to 'f32' in assignment \n",
      "\tf = x \n",
      "\t    ^ \n",
      "\n",
      "read 0 bytes from stderr.\n",
      "\u001b[0m"
     ]
    }
   ],
   "source": [
    "x: int\n",
    "f: f32\n",
    "x = 14\n",
    "f = x"
   ]
  },
  {
   "cell_type": "markdown",
   "id": "c6217646-916e-46c5-8184-d854376cfca9",
   "metadata": {},
   "source": [
    "## Preprocessing Error\n",
    "\n",
    "Errors reported by the JOdin preprocessor."
   ]
  },
  {
   "cell_type": "code",
   "execution_count": null,
   "id": "7a6535c9-911f-474d-a201-b42a2db8cc93",
   "metadata": {},
   "outputs": [],
   "source": [
    "y := 123 + 41"
   ]
  },
  {
   "cell_type": "markdown",
   "id": "d333b4f2-5e51-414b-9ac0-0056963684ed",
   "metadata": {},
   "source": [
    "## Odin Runtime Errors\n",
    "\n",
    "Errors reported by the Odin runtime."
   ]
  },
  {
   "cell_type": "code",
   "execution_count": 3,
   "id": "f0f8fdb8-14bc-457b-8bad-ef88740e06a4",
   "metadata": {},
   "outputs": [
    {
     "name": "stdout",
     "output_type": "stream",
     "text": []
    }
   ],
   "source": [
    "import \"core:fmt\"\n",
    "m: []int = make([]int, 10)\n",
    "for i in 0 ..< 10 do m[i] = i\n",
    "for i in 0 ..< 20 do fmt.println(m[i])"
   ]
  },
  {
   "cell_type": "markdown",
   "id": "ed981fa2-672f-42dd-96bd-55fb4b5fe57f",
   "metadata": {},
   "source": [
    "## Memory Faults\n",
    "\n",
    "Memory faults caught and signaled by the operting system."
   ]
  },
  {
   "cell_type": "code",
   "execution_count": 4,
   "id": "8d323f08-e776-4e9d-9150-5c55db385977",
   "metadata": {},
   "outputs": [
    {
     "name": "stdout",
     "output_type": "stream",
     "text": [
      "Error: Could not send message to jodin."
     ]
    }
   ],
   "source": [
    "import \"core:image\"\n",
    "im: ^image.Image = auto_cast transmute(rawptr)cast(uint)0x01020390148\n",
    "fmt.println(im.width)\n",
    "// This should produce `Segmentation fault` message in stdout."
   ]
  }
 ],
 "metadata": {
  "kernelspec": {
   "display_name": "JODIN",
   "language": "odin",
   "name": "jodin"
  },
  "language_info": {
   "file_extension": ".odin",
   "mimetype": "text/odin",
   "name": "odin"
  }
 },
 "nbformat": 4,
 "nbformat_minor": 5
}

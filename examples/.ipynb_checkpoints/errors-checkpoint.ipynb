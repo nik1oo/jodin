{
 "cells": [
  {
   "cell_type": "markdown",
   "id": "4b256884-0058-4f13-aa0e-347b24121e2d",
   "metadata": {},
   "source": [
    "# Errors\n",
    "\n",
    "This notebook reproduces various kinds of errors, to test whether JOdin is reporting them properly."
   ]
  },
  {
   "cell_type": "markdown",
   "id": "6970e648-090d-43e2-af2a-af1e1b7c2b2f",
   "metadata": {},
   "source": [
    "## Compilation Errors\n",
    "\n",
    "Errors reported by the Odin compiler."
   ]
  },
  {
   "cell_type": "code",
   "execution_count": 2,
   "id": "3cffeba4-3d61-4cf2-9cd7-630980ca5877",
   "metadata": {},
   "outputs": [
    {
     "name": "stdout",
     "output_type": "stream",
     "text": [
      "\u001b[0;31mCompilation Error: C:/msys64/tmp/jodin/session_09_32_44/cell_09_33_17_2/cell_09_33_17_2.odin(34:6) Error: Cannot assign value 'x' of type 'int' to 'f32' in assignment \n",
      "\tf = x \n",
      "\t    ^ \n",
      "\n",
      "\u001b[0m"
     ]
    }
   ],
   "source": [
    "x: int\n",
    "f: f32\n",
    "x = 14\n",
    "f = x"
   ]
  },
  {
   "cell_type": "markdown",
   "id": "c6217646-916e-46c5-8184-d854376cfca9",
   "metadata": {},
   "source": [
    "## Preprocessing Error\n",
    "\n",
    "Errors reported by the JOdin preprocessor."
   ]
  },
  {
   "cell_type": "code",
   "execution_count": 3,
   "id": "7a6535c9-911f-474d-a201-b42a2db8cc93",
   "metadata": {},
   "outputs": [
    {
     "name": "stdout",
     "output_type": "stream",
     "text": [
      "\u001b[0;31mPreprocessing Error: C:\\msys64\\tmp\\jodin\\session_09_32_44\\cell_09_33_22_3\\cell_09_33_22_3.odin(1:1): JOdin cannot link cells with inferred types. Please assign explicit types to all variables in root scope.\n",
      "\u001b[0m"
     ]
    }
   ],
   "source": [
    "x := 123"
   ]
  },
  {
   "cell_type": "markdown",
   "id": "d333b4f2-5e51-414b-9ac0-0056963684ed",
   "metadata": {},
   "source": [
    "## Odin Runtime Errors\n",
    "\n",
    "Errors reported by the Odin runtime."
   ]
  },
  {
   "cell_type": "code",
   "execution_count": 4,
   "id": "f0f8fdb8-14bc-457b-8bad-ef88740e06a4",
   "metadata": {},
   "outputs": [
    {
     "name": "stdout",
     "output_type": "stream",
     "text": [
      "\u001b[0;31mCompilation Error: C:/msys64/tmp/jodin/session_08_48_51/cell_08_49_30_4/cell_08_49_30_4.odin(29:23) Error: Undeclared name: m \n",
      "\tfor i in 0 ..< 10 do m[i] = i \n",
      "\t                     ^ \n",
      "C:/msys64/tmp/jodin/session_08_48_51/cell_08_49_30_4/cell_08_49_30_4.odin(30:35) Error: Undeclared name: m \n",
      "\tfor i in 0 ..< 20 do fmt.println(m[i]) \n",
      "\t                                 ^ \n",
      "\n",
      "\u001b[0m"
     ]
    }
   ],
   "source": [
    "m: []int = make([]int, 10)\n",
    "for i in 0 ..< 10 do m[i] = i\n",
    "for i in 0 ..< 20 do fmt.println(m[i])"
   ]
  },
  {
   "cell_type": "markdown",
   "id": "ed981fa2-672f-42dd-96bd-55fb4b5fe57f",
   "metadata": {},
   "source": [
    "## OS Runtime Errors\n",
    "\n",
    "Errors reported by the operating system.\n",
    "\n",
    "Things that cause segfault:\n",
    " * Attempting to access a nonexistent memory address\n",
    " * Dereferencing a null pointer\n",
    " * Dereferencing or assigning to an uninitialized pointer\n",
    " * Dereferencing or assigning to a freed pointer\n",
    " * A buffer overflow\n",
    " * A stack overflow"
   ]
  }
 ],
 "metadata": {
  "kernelspec": {
   "display_name": "JODIN",
   "language": "odin",
   "name": "jodin"
  },
  "language_info": {
   "file_extension": ".odin",
   "mimetype": "text/odin",
   "name": "odin"
  }
 },
 "nbformat": 4,
 "nbformat_minor": 5
}

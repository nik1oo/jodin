{
 "cells": [
  {
   "cell_type": "markdown",
   "id": "df2c286f-80c6-434e-8e7c-798028c0f0e0",
   "metadata": {},
   "source": [
    "### Raylib basic window example"
   ]
  },
  {
   "cell_type": "code",
   "execution_count": 1,
   "id": "71c4319a-c154-4eac-841f-ff8ee31f4ee6",
   "metadata": {},
   "outputs": [
    {
     "name": "stdout",
     "output_type": "stream",
     "text": [
      "\u001b[0m\u001b[2;31m\u001b[0m"
     ]
    }
   ],
   "source": [
    "import \"vendor:raylib\"\n",
    "import \"core:fmt\"\n",
    "import \"core:thread\"\n",
    "import \"core:sync\""
   ]
  },
  {
   "cell_type": "code",
   "execution_count": 4,
   "id": "920c671d-87ef-48eb-9f87-91889940b55f",
   "metadata": {},
   "outputs": [
    {
     "name": "stdout",
     "output_type": "stream",
     "text": [
      "\u001b[0m\u001b[2;31m\u001b[2;31m[JodinInterpreter] \u001b[0mTimeout: C:/Code/jodin/src/interpreter/cell.odin(202:4): Cell timed out.\n",
      "\u001b[0m"
     ]
    }
   ],
   "source": [
    "raylib.InitWindow(540, 360, \"raylib window\")\n",
    "raylib.SetTargetFPS(60)\n",
    "for ! raylib.WindowShouldClose() {\n",
    "    raylib.BeginDrawing()\n",
    "    raylib.ClearBackground(raylib.RAYWHITE)\n",
    "    raylib.DrawText(window_text, 190, 200, 20, raylib.LIGHTGRAY)\n",
    "    raylib.EndDrawing() }\n",
    "raylib.CloseWindow()"
   ]
  },
  {
   "cell_type": "markdown",
   "id": "53862a16-3d65-4d24-8b2a-f80124efdbb8",
   "metadata": {},
   "source": [
    "You can change the string that is displayed while the window is live."
   ]
  },
  {
   "cell_type": "code",
   "execution_count": 2,
   "id": "61bdd065-a8bf-4971-acf5-13241c3dfe6c",
   "metadata": {},
   "outputs": [
    {
     "name": "stdout",
     "output_type": "stream",
     "text": [
      "\u001b[0m\u001b[2;31m\u001b[0m"
     ]
    }
   ],
   "source": [
    "data_mutex: sync.Mutex = {}\n",
    "window_text : cstring = \"\"\n",
    "window_thread_proc:: proc() {\n",
    "    raylib.InitWindow(540, 360, \"raylib window\")\n",
    "    raylib.SetTargetFPS(60)\n",
    "    for ! raylib.WindowShouldClose() {\n",
    "        //sync.mutex_lock(&data_mutex)\n",
    "        raylib.BeginDrawing()\n",
    "        raylib.ClearBackground(raylib.RAYWHITE)\n",
    "        raylib.DrawText(window_text, 190, 200, 20, raylib.LIGHTGRAY)\n",
    "        raylib.EndDrawing()\n",
    "        //sync.mutex_unlock(&data_mutex)\n",
    "    }\n",
    "    raylib.CloseWindow() }"
   ]
  },
  {
   "cell_type": "code",
   "execution_count": 10,
   "id": "9cbd0e8f-022e-4915-ae3b-cff0784c539f",
   "metadata": {},
   "outputs": [
    {
     "name": "stdout",
     "output_type": "stream",
     "text": [
      "\u001b[0mCongrats! You created your first window!\u001b[2;31m\u001b[0m"
     ]
    }
   ],
   "source": [
    "sync.mutex_lock(&data_mutex); defer sync.mutex_unlock(&data_mutex)\n",
    "window_text = \"Congrats! You created your first window!\"\n",
    "fmt.print(window_text)"
   ]
  },
  {
   "cell_type": "code",
   "execution_count": 3,
   "id": "7d8fb03e-9f4e-4d46-9dc5-db6147c63fdb",
   "metadata": {},
   "outputs": [
    {
     "name": "stdout",
     "output_type": "stream",
     "text": [
      "\u001b[0m\u001b[2;31m\u001b[0m"
     ]
    }
   ],
   "source": [
    "window_thread: ^thread.Thread = thread.create_and_start(window_thread_proc, thread.Thread_Priority.High, context)\n",
    "thread.join(window_thread)"
   ]
  }
 ],
 "metadata": {
  "kernelspec": {
   "display_name": "JODIN",
   "language": "odin",
   "name": "jodin"
  },
  "language_info": {
   "file_extension": ".odin",
   "mimetype": "text/odin",
   "name": "odin"
  }
 },
 "nbformat": 4,
 "nbformat_minor": 5
}

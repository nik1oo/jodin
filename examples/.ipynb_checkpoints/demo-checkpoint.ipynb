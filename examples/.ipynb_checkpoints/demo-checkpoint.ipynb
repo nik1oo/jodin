{
 "cells": [
  {
   "cell_type": "markdown",
   "id": "8b5a8a3f-ce69-4e55-adba-cd3caea0a3aa",
   "metadata": {},
   "source": [
    "# ODIN\n",
    "\n",
    "Odin is a general-purpose programming language with distinct typing built for high performance, modern systems and data-oriented programming. Odin is the C alternative for the Joy of Programming.\n",
    "\n",
    "## Installing Odin\n",
    "\n",
    "[Getting Started](https://odin-lang.org/docs/install/) — Instructions for downloading and install the Odin compiler and libraries.\n",
    "\n",
    "## Learning Odin\n",
    "\n",
    "[Getting Started](https://odin-lang.org/docs/install/) — Getting Started with Odin. Downloading, installing, and getting your first program to compile and run.\n",
    "\n",
    "[Overview of Odin](https://odin-lang.org/docs/overview/) — An overview of the Odin programming language and its features.\n",
    "\n",
    "[Frequently Asked Questions (FAQ)](https://odin-lang.org/docs/faq/) — Answers to common questions about Odin.\n",
    "\n",
    "[Packages](https://pkg.odin-lang.org/) — Documentation for all the official packages part of the core and vendor library collections.\n",
    "\n",
    "[Nightly Builds](https://odin-lang.org/docs/nightly/) — Get the latest nightly builds of Odin.\n",
    "\n",
    "[More Odin Examples](https://github.com/odin-lang/examples) — This repository contains examples of how certain things can be accomplished in idiomatic Odin, allowing you learn its semantics, as well as how to use parts of the core and vendor package collections.\n"
   ]
  },
  {
   "cell_type": "markdown",
   "id": "2094fa08-b86f-495e-bf50-f7e7416a44fb",
   "metadata": {},
   "source": [
    "# THE BASICS"
   ]
  },
  {
   "cell_type": "code",
   "execution_count": 1,
   "id": "632ee2b9-81d4-4abb-a92f-32ffc85ce2d3",
   "metadata": {},
   "outputs": [
    {
     "name": "stdout",
     "output_type": "stream",
     "text": [
      "\u001b[0m\u001b[2;31m\u001b[0m"
     ]
    }
   ],
   "source": [
    "// #+vet !using-stmt !using-param\n",
    "// #+feature dynamic-literals\n",
    "\n",
    "import \"core:fmt\"\n",
    "import \"core:mem\"\n",
    "import \"core:thread\"\n",
    "import \"core:time\"\n",
    "import \"core:reflect\"\n",
    "import \"base:runtime\"\n",
    "import \"base:intrinsics\"\n",
    "import \"core:math/big\""
   ]
  },
  {
   "cell_type": "markdown",
   "id": "bcaf2a5f-5cd9-4b87-b408-247f76b2ac8b",
   "metadata": {},
   "source": [
    "`os.args` holds the path to the current executable and any arguments passed to it:"
   ]
  },
  {
   "cell_type": "code",
   "execution_count": 2,
   "id": "afd52a48-6017-4ac8-aa7b-b61156a3bba9",
   "metadata": {},
   "outputs": [
    {
     "name": "stdout",
     "output_type": "stream",
     "text": [
      "\u001b[0mHellope from jodin.exe.\n",
      "\u001b[2;31m\u001b[0m"
     ]
    }
   ],
   "source": [
    "if len(os.args) == 1 {\n",
    "    fmt.printf(\"Hellope from %v.\\n\", os.args[0])\n",
    "} else if len(os.args) > 2 {\n",
    "    fmt.printf(\"%v, %v! from %v.\\n\", os.args[1], os.args[2], os.args[0])\n",
    "}"
   ]
  },
  {
   "cell_type": "markdown",
   "id": "3b98ce96-90c6-482d-82a0-6b06a7759215",
   "metadata": {},
   "source": [
    "## Lexical elements and literals."
   ]
  },
  {
   "cell_type": "code",
   "execution_count": 3,
   "id": "cb225091-9b70-4b2c-a70f-c790d59551c0",
   "metadata": {},
   "outputs": [
    {
     "name": "stdout",
     "output_type": "stream",
     "text": [
      "\u001b[0m\u001b[2;31m\u001b[0m"
     ]
    }
   ],
   "source": [
    "// A comment\n",
    "\n",
    "my_integer_variable: int // A comment for documentaton"
   ]
  },
  {
   "cell_type": "markdown",
   "id": "c1973a5f-20e0-409e-bc5d-41cb8e9f1694",
   "metadata": {},
   "source": [
    "Multi-line comments begin with `/*` and end with `*/`. Multi-line comments can also be nested (unlike in C):"
   ]
  },
  {
   "cell_type": "code",
   "execution_count": 4,
   "id": "0f5c9fe2-602d-4a19-a654-cf9b284d0451",
   "metadata": {},
   "outputs": [
    {
     "name": "stdout",
     "output_type": "stream",
     "text": [
      "\u001b[0m\u001b[2;31m\u001b[0m"
     ]
    }
   ],
   "source": [
    "/*\n",
    "\tYou can have any text or code here and\n",
    "\thave it be commented.\n",
    "\t/*\n",
    "\t\tNOTE: comments can be nested!\n",
    "\t*/\n",
    "*/"
   ]
  },
  {
   "cell_type": "markdown",
   "id": "648b7e6d-fdc5-4db3-b7fe-a91acb7e1d8b",
   "metadata": {},
   "source": [
    "String literals are enclosed in double quotes and character literals in single quotes.\n",
    "Special characters are escaped with a backslash `\\`:"
   ]
  },
  {
   "cell_type": "code",
   "execution_count": 5,
   "id": "1ae83105-928f-4cf3-a296-94639f0e1357",
   "metadata": {},
   "outputs": [
    {
     "name": "stdout",
     "output_type": "stream",
     "text": [
      "\u001b[0m\u001b[2;31m\u001b[0m"
     ]
    }
   ],
   "source": [
    "some_string : string = \"This is a string\"\n",
    "_ = 'A' // unicode codepoint literal\n",
    "_ = '\\n'\n",
    "_ = \"C:\\\\Windows\\\\notepad.exe\""
   ]
  },
  {
   "cell_type": "markdown",
   "id": "70dce975-441b-4c82-9a7b-10d7f54bf5c9",
   "metadata": {},
   "source": [
    "Raw string literals are enclosed with single back ticks:"
   ]
  },
  {
   "cell_type": "code",
   "execution_count": 6,
   "id": "656cfeae-fa6d-4db4-a22d-0dc0b120a33f",
   "metadata": {},
   "outputs": [
    {
     "name": "stdout",
     "output_type": "stream",
     "text": [
      "\u001b[0m\u001b[2;31m\u001b[0m"
     ]
    }
   ],
   "source": [
    "_ = `C:\\Windows\\notepad.exe`"
   ]
  },
  {
   "cell_type": "markdown",
   "id": "ea69bdc0-ea2d-4c00-9b37-f5645163d7c7",
   "metadata": {},
   "source": [
    "The length of a string in bytes can be found using the built-in `len` procedure:"
   ]
  },
  {
   "cell_type": "code",
   "execution_count": 7,
   "id": "89fa985c-69a7-4783-b855-532fd2da6680",
   "metadata": {},
   "outputs": [
    {
     "name": "stdout",
     "output_type": "stream",
     "text": [
      "\u001b[0m\u001b[2;31m\u001b[0m"
     ]
    }
   ],
   "source": [
    "_ = len(\"Foo\")\n",
    "_ = len(some_string)"
   ]
  },
  {
   "cell_type": "markdown",
   "id": "c46efb1c-674b-4647-a852-2aa31fdd6979",
   "metadata": {},
   "source": [
    "## Numbers\n",
    "\n",
    "Numerical literals are written similar to most other programming languages.\n",
    "A useful feature in Odin is that underscores are allowed for better\n",
    "readability: `1_000_000_000` (one billion). A number that contains a dot is a\n",
    "floating point literal: `1.0e9` (one billion). If a number literal is suffixed\n",
    "with `i`, is an imaginary number literal: `2i` (2 multiply the square root of -1).\n",
    "\n",
    "Binary literals are prefixed with `0b`, octal literals with `0o`, and hexadecimal\n",
    "literals `0x`. A leading zero does not produce an octal constant (unlike C).\n",
    "\n",
    "In Odin, if a numeric constant can be represented by a type without\n",
    "precision loss, it will automatically convert to that type."
   ]
  },
  {
   "cell_type": "code",
   "execution_count": 8,
   "id": "7546f495-596f-4f43-8c9c-27f283ee8dda",
   "metadata": {},
   "outputs": [
    {
     "name": "stdout",
     "output_type": "stream",
     "text": [
      "\u001b[0m\u001b[2;31m\u001b[0m"
     ]
    }
   ],
   "source": [
    "x: int = 1.0 // A float literal but it can be represented by an integer without precision loss"
   ]
  },
  {
   "cell_type": "markdown",
   "id": "948f1961-7d28-437f-bac6-23004538783e",
   "metadata": {},
   "source": [
    "Constant literals are “untyped” which means that they can implicitly convert to a type:"
   ]
  },
  {
   "cell_type": "code",
   "execution_count": 9,
   "id": "63bd4be0-59de-4c32-a34f-9fdd005f715f",
   "metadata": {},
   "outputs": [
    {
     "name": "stdout",
     "output_type": "stream",
     "text": [
      "\u001b[0m\u001b[2;31m\u001b[0m"
     ]
    }
   ],
   "source": [
    "y: int // `y` is typed of type `int`\n",
    "y = 1  // `1` is an untyped integer literal which can implicitly convert to `int`\n",
    "\n",
    "z: f64 // `z` is typed of type `f64` (64-bit floating point number)\n",
    "z = 1  // `1` is an untyped integer literal which can be implicitly converted to `f64`\n",
    "\t\t// No need for any suffixes or decimal places like in other languages\n",
    "\t\t// (with the exception of negative zero, which must be given as `-0.0`)\n",
    "\t\t// CONSTANTS JUST WORK!!!"
   ]
  },
  {
   "cell_type": "markdown",
   "id": "86cf8ce5-30cb-41fb-ac0a-5d7f3bdaec26",
   "metadata": {},
   "source": [
    "## Assignment statements"
   ]
  },
  {
   "cell_type": "code",
   "execution_count": 10,
   "id": "a0d52a03-f65e-406e-9494-12c5f4b55c1f",
   "metadata": {},
   "outputs": [
    {
     "name": "stdout",
     "output_type": "stream",
     "text": [
      "\u001b[0m\u001b[2;31m\u001b[0m"
     ]
    }
   ],
   "source": [
    "h: int = 123 // declares a new variable `h` with type `int` and assigns a value to it\n",
    "h = 637 // assigns a new value to `h`"
   ]
  },
  {
   "cell_type": "markdown",
   "id": "bab51043-c315-4a60-b43d-4f3eda3ed87b",
   "metadata": {},
   "source": [
    "`=` is the assignment operator. You can assign multiple variables with it:"
   ]
  },
  {
   "cell_type": "code",
   "execution_count": 11,
   "id": "ecddec78-a8c2-4894-85f0-888a9952de7e",
   "metadata": {},
   "outputs": [
    {
     "name": "stdout",
     "output_type": "stream",
     "text": [
      "\u001b[0m\u001b[2;31m\u001b[0m"
     ]
    }
   ],
   "source": [
    "a, b : string = \"1\", \"hello\"\n",
    "b, a = \"byte\", \"0\""
   ]
  },
  {
   "cell_type": "markdown",
   "id": "350139ac-6a47-4e75-9207-c91e48e95036",
   "metadata": {},
   "source": [
    "_Note:_ `:=` is two tokens, `:` and `=`. The following are equivalent:\n",
    "```\n",
    "i: int = 123\n",
    "i:     = 123\n",
    "i := 123\n",
    "```"
   ]
  },
  {
   "cell_type": "markdown",
   "id": "d6f5c3bb-7fa0-49ae-a4ab-638ea359acb0",
   "metadata": {},
   "source": [
    "## Constant declarations\n",
    "Constants are entities (symbols) which have an assigned value.\n",
    "The constant’s value cannot be changed.\n",
    "The constant’s value must be able to be evaluated at compile time:"
   ]
  },
  {
   "cell_type": "code",
   "execution_count": 12,
   "id": "89bb46d7-108d-40c7-a21e-ca1738a7dcf9",
   "metadata": {},
   "outputs": [
    {
     "name": "stdout",
     "output_type": "stream",
     "text": [
      "\u001b[0m\u001b[2;31m\u001b[0m"
     ]
    }
   ],
   "source": [
    "X :: \"what\" // constant `X` has the untyped string value \"what\""
   ]
  },
  {
   "cell_type": "markdown",
   "id": "5b06f813-b1a8-44f7-bb2f-1466df51a1cc",
   "metadata": {},
   "source": [
    "Constants can be explicitly typed like a variable declaration:"
   ]
  },
  {
   "cell_type": "code",
   "execution_count": 13,
   "id": "e6412fa5-514e-4ea5-a180-5f4d8ce5a141",
   "metadata": {},
   "outputs": [
    {
     "name": "stdout",
     "output_type": "stream",
     "text": [
      "\u001b[0m\u001b[2;31m\u001b[0m"
     ]
    }
   ],
   "source": [
    "Y : int : 123\n",
    "Z :: Y + 7 // constant computations are possible"
   ]
  },
  {
   "cell_type": "code",
   "execution_count": 14,
   "id": "dbd6eb66-cd5d-4a60-ae35-7b7a5ac3dc34",
   "metadata": {},
   "outputs": [
    {
     "name": "stdout",
     "output_type": "stream",
     "text": [
      "\u001b[0m\u001b[2;31m\u001b[0m"
     ]
    }
   ],
   "source": [
    "_ = my_integer_variable\n",
    "_ = x"
   ]
  },
  {
   "cell_type": "markdown",
   "id": "2660c32e-9283-4178-80a8-5629af32a07c",
   "metadata": {},
   "source": [
    "# CONTROL FLOW"
   ]
  },
  {
   "cell_type": "markdown",
   "id": "e2271f04-6128-4bbd-8501-c88619ae4b69",
   "metadata": {},
   "source": [
    "## For loop\n",
    "Odin has only one loop statement, the `for` loop. Basic for loop:"
   ]
  },
  {
   "cell_type": "code",
   "execution_count": 15,
   "id": "7ce28873-1f7f-4c39-8532-a9e7eeaf3eae",
   "metadata": {},
   "outputs": [
    {
     "name": "stdout",
     "output_type": "stream",
     "text": [
      "\u001b[0m0\n",
      "1\n",
      "2\n",
      "3\n",
      "4\n",
      "5\n",
      "6\n",
      "7\n",
      "8\n",
      "9\n",
      "\u001b[2;31m\u001b[0m"
     ]
    }
   ],
   "source": [
    "for i := 0; i < 10; i += 1 {\n",
    "    fmt.println(i)\n",
    "}"
   ]
  },
  {
   "cell_type": "markdown",
   "id": "e8b9d811-c8dc-4345-8806-5ee83eed95cd",
   "metadata": {},
   "source": [
    "_NOTE:_ Unlike other languages like C, there are no parentheses `( )` surrounding the three components. Braces `{ }` or a `do` are always required:"
   ]
  },
  {
   "cell_type": "code",
   "execution_count": 16,
   "id": "7015ed3a-622f-4763-8527-38fc2bbea6d9",
   "metadata": {},
   "outputs": [
    {
     "name": "stdout",
     "output_type": "stream",
     "text": [
      "\u001b[0m\u001b[2;31m\u001b[0m"
     ]
    }
   ],
   "source": [
    "for i := 0; i < 10; i += 1 { }\n",
    "for i := 0; i < 10; i += 1 do fmt.print()"
   ]
  },
  {
   "cell_type": "markdown",
   "id": "2072874b-9a37-4d99-a0c2-3eace25b1125",
   "metadata": {},
   "source": [
    "The initial and post statements are optional:"
   ]
  },
  {
   "cell_type": "code",
   "execution_count": 17,
   "id": "d6fc3ef7-fc9a-48e6-abdd-1f1936bd9102",
   "metadata": {},
   "outputs": [
    {
     "name": "stdout",
     "output_type": "stream",
     "text": [
      "\u001b[0m\u001b[2;31m\u001b[0m"
     ]
    }
   ],
   "source": [
    "i : int = 0\n",
    "for ; i < 10; {\n",
    "    i += 1\n",
    "}"
   ]
  },
  {
   "cell_type": "markdown",
   "id": "b7f070bd-c2a3-4994-a129-b7da19763de7",
   "metadata": {},
   "source": [
    "These semicolons can be dropped. This `for` loop is equivalent to C's `while` loop—"
   ]
  },
  {
   "cell_type": "code",
   "execution_count": 18,
   "id": "d44b1bfc-432a-4715-88b8-4eaae3e95166",
   "metadata": {},
   "outputs": [
    {
     "name": "stdout",
     "output_type": "stream",
     "text": [
      "\u001b[0m2\n",
      "3\n",
      "4\n",
      "5\n",
      "6\n",
      "7\n",
      "8\n",
      "9\n",
      "\u001b[2;31m\u001b[0m"
     ]
    }
   ],
   "source": [
    "k: int = 1\n",
    "for k < 9 {\n",
    "    k += 1\n",
    "    fmt.println(k)\n",
    "}"
   ]
  },
  {
   "cell_type": "code",
   "execution_count": 19,
   "id": "c8219307-7dac-42c0-a3ed-ccbbde92084c",
   "metadata": {},
   "outputs": [
    {
     "name": "stdout",
     "output_type": "stream",
     "text": [
      "\u001b[0m\u001b[2;31m\u001b[0m"
     ]
    }
   ],
   "source": [
    "i = 0\n",
    "for i < 10 {\n",
    "    i += 1\n",
    "}"
   ]
  },
  {
   "cell_type": "markdown",
   "id": "b51c9190-09a4-49a7-8bce-b9bc6ed391ac",
   "metadata": {},
   "source": [
    "If the condition is omitted, an infinite loop is produced—"
   ]
  },
  {
   "cell_type": "code",
   "execution_count": 20,
   "id": "bac94ec5-46b7-4fcb-987e-b648581fd28d",
   "metadata": {},
   "outputs": [
    {
     "name": "stdout",
     "output_type": "stream",
     "text": [
      "\u001b[0m\u001b[2;31m\u001b[0m"
     ]
    }
   ],
   "source": [
    "for {\n",
    "    break\n",
    "}"
   ]
  },
  {
   "cell_type": "markdown",
   "id": "14793f3f-c4ad-46fb-89b4-7234d77de24e",
   "metadata": {},
   "source": [
    "## Range-based for loop\n",
    "The basic for loop—"
   ]
  },
  {
   "cell_type": "code",
   "execution_count": 21,
   "id": "0e907cfc-b635-4ccd-8d0a-2655340548e5",
   "metadata": {},
   "outputs": [
    {
     "name": "stdout",
     "output_type": "stream",
     "text": [
      "\u001b[0m0\n",
      "1\n",
      "2\n",
      "3\n",
      "4\n",
      "5\n",
      "6\n",
      "7\n",
      "8\n",
      "9\n",
      "\u001b[2;31m\u001b[0m"
     ]
    }
   ],
   "source": [
    "for j := 0; j < 10; j += 1 {\n",
    "    fmt.println(j)\n",
    "}"
   ]
  },
  {
   "cell_type": "markdown",
   "id": "a13db28c-20de-401e-ab24-f901d2769ed8",
   "metadata": {},
   "source": [
    "—can also be written—"
   ]
  },
  {
   "cell_type": "code",
   "execution_count": 22,
   "id": "31eb2075-f291-481f-aabe-f7de5ef8572e",
   "metadata": {},
   "outputs": [
    {
     "name": "stdout",
     "output_type": "stream",
     "text": [
      "\u001b[0m0\n",
      "1\n",
      "2\n",
      "3\n",
      "4\n",
      "5\n",
      "6\n",
      "7\n",
      "8\n",
      "9\n",
      "0\n",
      "1\n",
      "2\n",
      "3\n",
      "4\n",
      "5\n",
      "6\n",
      "7\n",
      "8\n",
      "9\n",
      "\u001b[2;31m\u001b[0m"
     ]
    }
   ],
   "source": [
    "for j in 0..<10 {\n",
    "    fmt.println(j)\n",
    "}\n",
    "for j in 0..=9 {\n",
    "    fmt.println(j)\n",
    "}"
   ]
  },
  {
   "cell_type": "markdown",
   "id": "25ce661b-5c2a-43a0-8131-31a79d21b0b5",
   "metadata": {},
   "source": [
    "Certain built-in types can be iterated over—"
   ]
  },
  {
   "cell_type": "code",
   "execution_count": 24,
   "id": "02cc0164-0f8c-47a2-b8a4-beeb35e71b73",
   "metadata": {},
   "outputs": [
    {
     "name": "stdout",
     "output_type": "stream",
     "text": [
      "\u001b[0mH\n",
      "e\n",
      "l\n",
      "l\n",
      "o\n",
      ",\n",
      " \n",
      "世\n",
      "界\n",
      "1\n",
      "4\n",
      "9\n",
      "1\n",
      "4\n",
      "9\n",
      "1\n",
      "4\n",
      "9\n",
      "A\n",
      "B\n",
      "C\n",
      "\u001b[2;31m\u001b[0m"
     ]
    }
   ],
   "source": [
    "#+feature dynamic-literals\n",
    "some_string = \"Hello, 世界\"\n",
    "for character in some_string { // Strings are assumed to be UTF-8\n",
    "    fmt.println(character)\n",
    "}\n",
    "\n",
    "some_array : [3]int = [3]int{1, 4, 9}\n",
    "for value in some_array {\n",
    "    fmt.println(value)\n",
    "}\n",
    "\n",
    "some_slice : []int = []int{1, 4, 9}\n",
    "for value in some_slice {\n",
    "    fmt.println(value)\n",
    "}\n",
    "\n",
    "some_dynamic_array : [dynamic]int = [dynamic]int{1, 4, 9}\n",
    "defer delete(some_dynamic_array)\n",
    "for value in some_dynamic_array {\n",
    "    fmt.println(value)\n",
    "}\n",
    "\n",
    "\n",
    "some_map : map[string]int = map[string]int{\"A\" = 1, \"C\" = 9, \"B\" = 4}\n",
    "defer delete(some_map)\n",
    "for key in some_map {\n",
    "    fmt.println(key)\n",
    "}"
   ]
  },
  {
   "cell_type": "markdown",
   "id": "d13d9d20-e1bc-4ef0-bb1f-d89c528167a0",
   "metadata": {},
   "source": [
    "Alternatively a second index value can be added—"
   ]
  },
  {
   "cell_type": "code",
   "execution_count": 25,
   "id": "a8466617-c02f-4dc5-89f7-d31d4b636890",
   "metadata": {},
   "outputs": [
    {
     "name": "stdout",
     "output_type": "stream",
     "text": [
      "\u001b[0m0 H\n",
      "1 e\n",
      "2 l\n",
      "3 l\n",
      "4 o\n",
      "5 ,\n",
      "6  \n",
      "7 世\n",
      "10 界\n",
      "0 1\n",
      "1 4\n",
      "2 9\n",
      "0 1033179756608\n",
      "1 2361765853560\n",
      "2 2361764881752\n",
      "0 6643995219865070940\n",
      "1 6660376770106258293\n",
      "2 7311705245031293282\n",
      " 0\n",
      " 0\n",
      "\u0000\u0000 0\n",
      "C:\\Code\\jodin\\examples\\temp\\session_18_12_55\\cell_18_14_09_25\\cell_18_14_09_25.odin 79\n",
      "package cell_18_14_09_25\n",
      "for character, index in some_string {\n",
      "    fmt.println(index, character)\n",
      "}\n",
      "for value, index in some_array {\n",
      "    fmt.println(index, value)\n",
      "}\n",
      "for value, index in some_slice {\n",
      "    fmt.println(index, value)\n",
      "}\n",
      "for value, index in some_dynamic_array {\n",
      "    fmt.println(index, value)\n",
      "}\n",
      "for key, value in some_map {\n",
      "    fmt.println(key, value)\n",
      "} 2361714911768\n",
      " 7\n",
      "\u001b[2;31m\u001b[0m"
     ]
    }
   ],
   "source": [
    "for character, index in some_string {\n",
    "    fmt.println(index, character)\n",
    "}\n",
    "for value, index in some_array {\n",
    "    fmt.println(index, value)\n",
    "}\n",
    "for value, index in some_slice {\n",
    "    fmt.println(index, value)\n",
    "}\n",
    "for value, index in some_dynamic_array {\n",
    "    fmt.println(index, value)\n",
    "}\n",
    "for key, value in some_map {\n",
    "    fmt.println(key, value)\n",
    "}"
   ]
  },
  {
   "cell_type": "markdown",
   "id": "2b1803b1-20dc-420d-b90c-a56dc7edfc91",
   "metadata": {},
   "source": [
    "The iterated values are copies and cannot be written to.\n",
    "The following idiom is useful for iterating over a container in a by-reference manner—"
   ]
  },
  {
   "cell_type": "code",
   "execution_count": 26,
   "id": "d669cd5a-a95d-46f5-a2c4-a159a6393538",
   "metadata": {},
   "outputs": [
    {
     "name": "stdout",
     "output_type": "stream",
     "text": [
      "\u001b[0m\u001b[2;31m\u001b[0m"
     ]
    }
   ],
   "source": [
    "for _, idx in some_slice {\n",
    "    some_slice[idx] = (idx+1)*(idx+1)\n",
    "}"
   ]
  },
  {
   "cell_type": "markdown",
   "id": "0c494e35-3616-457a-925b-106311e92ba7",
   "metadata": {},
   "source": [
    "## If statements"
   ]
  },
  {
   "cell_type": "markdown",
   "id": "37523adc-e319-4e98-b41a-5f6d2bdfedac",
   "metadata": {},
   "source": [
    "<span style=\"color:red\"><b>This does not work yet:</b></span>"
   ]
  },
  {
   "cell_type": "code",
   "execution_count": 27,
   "id": "db05c855-7351-4f4c-bb7f-a657db6ca281",
   "metadata": {},
   "outputs": [
    {
     "name": "stdout",
     "output_type": "stream",
     "text": [
      "\u001b[0m\u001b[2;31m\u001b[0m"
     ]
    }
   ],
   "source": [
    "x = 123\n",
    "if x >= 0 {\n",
    "    fmt.println(\"x is positive\")\n",
    "}\n",
    "\n",
    "if y := -34; y < 0 {\n",
    "    fmt.println(\"y is negative\")\n",
    "}\n",
    "\n",
    "if y := 123; y < 0 {\n",
    "    fmt.println(\"y is negative\")\n",
    "} else if y == 0 {\n",
    "    fmt.println(\"y is zero\")\n",
    "} else {\n",
    "    fmt.println(\"y is positive\")\n",
    "}"
   ]
  },
  {
   "cell_type": "markdown",
   "id": "c5e89897-d632-4758-9d6a-82bb37ff315e",
   "metadata": {},
   "source": [
    "## Switch statement\n",
    "A switch statement is another way to write a sequence of if-else statements.\n",
    "In Odin, the default case is denoted as a case without any expression—"
   ]
  },
  {
   "cell_type": "code",
   "execution_count": 37,
   "id": "977df1d8-2b0e-4876-b642-eb349b603c14",
   "metadata": {},
   "outputs": [
    {
     "name": "stdout",
     "output_type": "stream",
     "text": [
      "\u001b[0m64-bit\n",
      "\u001b[2;31m\u001b[0m"
     ]
    }
   ],
   "source": [
    "#partial switch arch := ODIN_ARCH; arch {\n",
    "case .i386:\n",
    "    fmt.println(\"32-bit\")\n",
    "case .amd64:\n",
    "    fmt.println(\"64-bit\")\n",
    "case: // default\n",
    "    fmt.println(\"Unsupported architecture\")\n",
    "}"
   ]
  },
  {
   "cell_type": "markdown",
   "id": "e9f458a4-c888-4dbe-8333-ea539ae2736e",
   "metadata": {},
   "source": [
    "Odin’s `switch` is like one in C or C++, except that Odin only runs the selected case.\n",
    "This means that a `break` statement is not needed at the end of each case.\n",
    "Another important difference is that the case values need not be integers nor constants.\n",
    "\n",
    "To achieve a C-like fall through into the next case block, the keyword `fallthrough` can be used—"
   ]
  },
  {
   "cell_type": "code",
   "execution_count": 38,
   "id": "239dcbb1-fe9d-4e0b-b3a7-622163e24f35",
   "metadata": {},
   "outputs": [
    {
     "name": "stdout",
     "output_type": "stream",
     "text": [
      "\u001b[0m\u001b[2;31m\u001b[0m"
     ]
    }
   ],
   "source": [
    "one_angry_dwarf :: proc() -> int {\n",
    "    fmt.println(\"one_angry_dwarf was called\")\n",
    "    return 1\n",
    "}\n",
    "\n",
    "switch j := 0; j {\n",
    "case 0:\n",
    "case one_angry_dwarf():\n",
    "}"
   ]
  },
  {
   "cell_type": "markdown",
   "id": "ad33b8b2-be0b-4f1c-9507-99222deedfc0",
   "metadata": {},
   "source": [
    "A switch statement without a condition is the same as `switch true`.\n",
    "This can be used to write a clean and long if-else chain and have the\n",
    "ability to break if needed—"
   ]
  },
  {
   "cell_type": "code",
   "execution_count": 39,
   "id": "3544dc8c-996b-4903-9e9b-0a99b6af0c71",
   "metadata": {},
   "outputs": [
    {
     "name": "stdout",
     "output_type": "stream",
     "text": [
      "\u001b[0mx is positive\n",
      "\u001b[2;31m\u001b[0m"
     ]
    }
   ],
   "source": [
    "switch {\n",
    "case x < 0:\n",
    "    fmt.println(\"x is negative\")\n",
    "case x == 0:\n",
    "    fmt.println(\"x is zero\")\n",
    "case:\n",
    "    fmt.println(\"x is positive\")\n",
    "}"
   ]
  },
  {
   "cell_type": "markdown",
   "id": "f1caedd6-99e6-4bdd-8633-46af8feed725",
   "metadata": {},
   "source": [
    "A `switch` statement can also use ranges like a range-based loop—"
   ]
  },
  {
   "cell_type": "code",
   "execution_count": 40,
   "id": "73235d74-6769-4e00-b008-1ae30aabb5a8",
   "metadata": {},
   "outputs": [
    {
     "name": "stdout",
     "output_type": "stream",
     "text": [
      "\u001b[0mc is alphanumeric\n",
      "units\n",
      "\u001b[2;31m\u001b[0m"
     ]
    }
   ],
   "source": [
    "switch c := 'j'; c {\n",
    "case 'A'..='Z', 'a'..='z', '0'..='9':\n",
    "    fmt.println(\"c is alphanumeric\")\n",
    "}\n",
    "\n",
    "switch x {\n",
    "case 0..<10:\n",
    "    fmt.println(\"units\")\n",
    "case 10..<13:\n",
    "    fmt.println(\"pre-teens\")\n",
    "case 13..<20:\n",
    "    fmt.println(\"teens\")\n",
    "case 20..<30:\n",
    "    fmt.println(\"twenties\")\n",
    "}"
   ]
  },
  {
   "cell_type": "markdown",
   "id": "453abe8e-7a76-4850-af87-e70f1c941dfd",
   "metadata": {},
   "source": [
    "## Defer statement\n",
    "A defer statement defers the execution of a statement until the end of\n",
    "the scope it is in.\n",
    "\n",
    "The following will print 4 then 234—"
   ]
  },
  {
   "cell_type": "markdown",
   "id": "81075487-12bc-4211-822f-1a585a066ecc",
   "metadata": {},
   "source": [
    "<span style=\"color:red\"><b>This does not work yet:</b></span>"
   ]
  },
  {
   "cell_type": "code",
   "execution_count": 41,
   "id": "0dfb9a79-599f-4047-bac2-4ffe377009c6",
   "metadata": {},
   "outputs": [
    {
     "name": "stdout",
     "output_type": "stream",
     "text": [
      "\u001b[0m\u001b[2;31m\u001b[0m"
     ]
    }
   ],
   "source": [
    "{\n",
    "    x := 123\n",
    "    defer fmt.println(x)\n",
    "    {\n",
    "        defer x = 4\n",
    "        x = 2\n",
    "    }\n",
    "    fmt.println(x)\n",
    "\n",
    "    x = 234\n",
    "}"
   ]
  },
  {
   "cell_type": "markdown",
   "id": "d6643a5a-ddae-4c5e-a253-390c9844df80",
   "metadata": {},
   "source": [
    "You can defer an entire block too—"
   ]
  },
  {
   "cell_type": "markdown",
   "id": "8d416a28-8992-4de0-bacb-1399e74d4a15",
   "metadata": {},
   "source": [
    "<span style=\"color:red\"><b>This does not work yet:</b></span>"
   ]
  },
  {
   "cell_type": "code",
   "execution_count": 42,
   "id": "2d9cee3f-63d3-4e70-8747-cba193766dfc",
   "metadata": {},
   "outputs": [
    {
     "name": "stdout",
     "output_type": "stream",
     "text": [
      "\u001b[0m1\n",
      "2\n",
      "\u001b[2;31m\u001b[0m"
     ]
    }
   ],
   "source": [
    "{\n",
    "    bar :: proc() {}\n",
    "\n",
    "    defer {\n",
    "        fmt.println(\"1\")\n",
    "        fmt.println(\"2\")\n",
    "    }\n",
    "\n",
    "    cond := false\n",
    "    defer if cond {\n",
    "        bar()\n",
    "    }\n",
    "}"
   ]
  },
  {
   "cell_type": "markdown",
   "id": "8742fdcc-ad44-4e11-a749-0c5542f07cd3",
   "metadata": {},
   "source": [
    "Defer statements are executed in the reverse order that they were declared."
   ]
  },
  {
   "cell_type": "code",
   "execution_count": 43,
   "id": "80f6dcd6-cf80-4a64-aae6-eaa086e7db50",
   "metadata": {},
   "outputs": [
    {
     "name": "stdout",
     "output_type": "stream",
     "text": [
      "\u001b[0m3\n",
      "2\n",
      "1\n",
      "\u001b[2;31m\u001b[0m"
     ]
    }
   ],
   "source": [
    "{\n",
    "    defer fmt.println(\"1\")\n",
    "    defer fmt.println(\"2\")\n",
    "    defer fmt.println(\"3\")\n",
    "}"
   ]
  },
  {
   "cell_type": "markdown",
   "id": "4f64210a-38a0-40df-a676-b3b23f190ec9",
   "metadata": {},
   "source": [
    "—will print 3, 2, and then 1."
   ]
  },
  {
   "cell_type": "code",
   "execution_count": 44,
   "id": "d06ccfbf-5725-430d-99a5-4e08f9f8a194",
   "metadata": {},
   "outputs": [
    {
     "name": "stdout",
     "output_type": "stream",
     "text": [
      "\u001b[0m\u001b[2;31m\u001b[0m"
     ]
    }
   ],
   "source": [
    "if false {\n",
    "    f, err := os.open(\"my_file.txt\")\n",
    "    if err != nil {\n",
    "        // handle error\n",
    "    }\n",
    "    defer os.close(f)\n",
    "    // rest of code\n",
    "}"
   ]
  },
  {
   "cell_type": "markdown",
   "id": "bf532e23-4ec3-4fac-8852-75de1e616a88",
   "metadata": {},
   "source": [
    "## When statement\n",
    "The when statement is almost identical to the if statement but with some differences:\n",
    "\n",
    "* Each condition must be a constant expression as a when\n",
    "  statement is evaluated at compile time.\n",
    "* The statements within a branch do not create a new scope\n",
    "* The compiler checks the semantics and code only for statements\n",
    "  that belong to the first condition that is true\n",
    "* An initial statement is not allowed in a when statement\n",
    "* when statements are allowed at file scope\n",
    "\n",
    "Example—"
   ]
  },
  {
   "cell_type": "code",
   "execution_count": 45,
   "id": "8040973a-61cd-4071-8542-a5153ce11e12",
   "metadata": {},
   "outputs": [
    {
     "name": "stdout",
     "output_type": "stream",
     "text": [
      "\u001b[0m64 bit\n",
      "\u001b[2;31m\u001b[0m"
     ]
    }
   ],
   "source": [
    "when ODIN_ARCH == .i386 {\n",
    "    fmt.println(\"32 bit\")\n",
    "} else when ODIN_ARCH == .amd64 {\n",
    "    fmt.println(\"64 bit\")\n",
    "} else {\n",
    "    fmt.println(\"Unknown architecture\")\n",
    "}"
   ]
  },
  {
   "cell_type": "markdown",
   "id": "5ae4c4c9-15cf-4e6b-b4b4-0ec15b534d91",
   "metadata": {},
   "source": [
    "The when statement is very useful for writing platform specific code.\n",
    "This is akin to the #if construct in C’s preprocessor however, in Odin,\n",
    "it is type checked."
   ]
  },
  {
   "cell_type": "markdown",
   "id": "aee6cb09-6704-4516-ae3d-f30938fef9ad",
   "metadata": {},
   "source": [
    "## Branch statements"
   ]
  },
  {
   "cell_type": "code",
   "execution_count": 46,
   "id": "b8073513-e3ce-40ba-a7b5-c222845ea141",
   "metadata": {},
   "outputs": [
    {
     "name": "stdout",
     "output_type": "stream",
     "text": [
      "\u001b[0m\u001b[2;31m\u001b[0m"
     ]
    }
   ],
   "source": [
    "cond, cond1, cond2 : bool = true, true, false\n",
    "one_step :: proc() { fmt.println(\"one_step\") }\n",
    "beyond :: proc() { fmt.println(\"beyond\") }"
   ]
  },
  {
   "cell_type": "markdown",
   "id": "41cad199-eb74-4874-a22a-03de403c9693",
   "metadata": {},
   "source": [
    "## Break statement"
   ]
  },
  {
   "cell_type": "code",
   "execution_count": 47,
   "id": "b38ab76e-794f-430b-af31-a7ae4392871c",
   "metadata": {},
   "outputs": [
    {
     "name": "stdout",
     "output_type": "stream",
     "text": [
      "\u001b[0m\u001b[2;31m\u001b[0m"
     ]
    }
   ],
   "source": [
    "for cond {\n",
    "    switch {\n",
    "    case:\n",
    "        if cond {\n",
    "            break // break out of the `switch` statement\n",
    "        }\n",
    "    }\n",
    "\n",
    "    break // break out of the `for` statement\n",
    "}"
   ]
  },
  {
   "cell_type": "code",
   "execution_count": 48,
   "id": "e618f4ce-733e-4dc4-a994-3a8da3a8cb0f",
   "metadata": {},
   "outputs": [
    {
     "name": "stdout",
     "output_type": "stream",
     "text": [
      "\u001b[0m\u001b[2;31m\u001b[0m"
     ]
    }
   ],
   "source": [
    "loop: for cond1 {\n",
    "    for cond2 {\n",
    "        break loop // leaves both loops\n",
    "    }\n",
    "}"
   ]
  },
  {
   "cell_type": "markdown",
   "id": "143c9ae5-f47f-46ea-a15a-94a3233f3638",
   "metadata": {},
   "source": [
    "## Continue statement"
   ]
  },
  {
   "cell_type": "code",
   "execution_count": 49,
   "id": "6e8b9441-9e8d-4dae-8621-5e9ce59d591c",
   "metadata": {},
   "outputs": [
    {
     "name": "stdout",
     "output_type": "stream",
     "text": [
      "\u001b[0m\u001b[2;31m\u001b[0m"
     ]
    }
   ],
   "source": [
    "for cond {\n",
    "    if cond2 {\n",
    "        continue\n",
    "    }\n",
    "    fmt.println(\"Hellope\")\n",
    "}"
   ]
  },
  {
   "cell_type": "markdown",
   "id": "e1be9059-ce7c-4b7c-ae32-7392e05a9af7",
   "metadata": {},
   "source": [
    "## Fallthrough statement\n",
    "\n",
    "Odin’s switch is like one in C or C++, except that Odin only runs the selected\n",
    "case. This means that a break statement is not needed at the end of each case.\n",
    "Another important difference is that the case values need not be integers nor\n",
    "constants.\n",
    "\n",
    "`fallthrough` can be used to explicitly fall through into the next case block—"
   ]
  },
  {
   "cell_type": "markdown",
   "id": "f67244e3-327c-4e14-8b59-df90a8ae78ab",
   "metadata": {},
   "source": [
    "<span style=\"color:red\"><b>This does not work yet:</b></span>"
   ]
  },
  {
   "cell_type": "code",
   "execution_count": 50,
   "id": "3b39c6c7-b1d6-440e-a45f-169dcdf57506",
   "metadata": {},
   "outputs": [
    {
     "name": "stdout",
     "output_type": "stream",
     "text": [
      "\u001b[0m\u001b[2;31m\u001b[0m"
     ]
    }
   ],
   "source": [
    "switch i := 0; i {\n",
    "case 0:\n",
    "    one_step()\n",
    "    fallthrough\n",
    "case 1:\n",
    "    beyond()\n",
    "}"
   ]
  },
  {
   "cell_type": "markdown",
   "id": "b6feecc8-cff2-4ef8-9d29-5f9a76e5ff26",
   "metadata": {},
   "source": [
    "# NAMED PROC RETURN PARAMETERS"
   ]
  },
  {
   "cell_type": "code",
   "execution_count": 51,
   "id": "d44565c6-ee8a-4f90-ae33-b7d0bb3c7e0c",
   "metadata": {},
   "outputs": [
    {
     "name": "stdout",
     "output_type": "stream",
     "text": [
      "\u001b[0m\u001b[2;31m\u001b[0m"
     ]
    }
   ],
   "source": [
    "foo0 :: proc() -> int {\n",
    "    return 123\n",
    "}\n",
    "foo1 :: proc() -> (a: int) {\n",
    "    a = 123\n",
    "    return\n",
    "}"
   ]
  },
  {
   "cell_type": "markdown",
   "id": "b08a6eef-86e2-45df-85f2-3b13afef0a2a",
   "metadata": {},
   "source": [
    "Named return values act like variables within the scope."
   ]
  },
  {
   "cell_type": "code",
   "execution_count": null,
   "id": "fe24b58d-9166-4447-8f98-19128dc41d95",
   "metadata": {},
   "outputs": [],
   "source": [
    "foo2 :: proc() -> (a, b: int) {\n",
    "    a = 321\n",
    "    b = 567\n",
    "    return b, a\n",
    "}"
   ]
  },
  {
   "cell_type": "code",
   "execution_count": null,
   "id": "8c920b22-dcc9-4c49-a64a-ddae97c69a26",
   "metadata": {},
   "outputs": [
    {
     "name": "stdout",
     "output_type": "stream",
     "text": [
      "\u001b[0;31m\u001b[0m\u001b[0;31m\u001b[0m"
     ]
    }
   ],
   "source": [
    "fmt.println(\"foo0 =\", foo0())\n",
    "fmt.println(\"foo1 =\", foo1())\n",
    "fmt.println(\"foo2 =\", foo2())"
   ]
  },
  {
   "cell_type": "markdown",
   "id": "84676e51-8def-4417-9e30-ba25d905e946",
   "metadata": {},
   "source": [
    "# VARIADIC PROCEDURES"
   ]
  },
  {
   "cell_type": "code",
   "execution_count": 52,
   "id": "26f7df34-25a8-40fa-a01d-d563a944d8a3",
   "metadata": {},
   "outputs": [
    {
     "name": "stdout",
     "output_type": "stream",
     "text": [
      "\u001b[0m\u001b[2;31m\u001b[0m"
     ]
    }
   ],
   "source": [
    "sum :: proc(nums: ..int, init_value:= 0) -> (result: int) {\n",
    "    result = init_value\n",
    "    for n in nums {\n",
    "        result += n\n",
    "    }\n",
    "    return\n",
    "}"
   ]
  },
  {
   "cell_type": "code",
   "execution_count": 34,
   "id": "b0eb4953-c587-4064-baf0-3597610306ad",
   "metadata": {},
   "outputs": [
    {
     "name": "stdout",
     "output_type": "stream",
     "text": [
      "\u001b[0msum(()) = 0\n",
      "sum(1, 2) = 3\n",
      "sum(1, 2, 3, 4, 5) = 15\n",
      "sum(1, 2, 3, 4, 5, init_value = 5) = 20\n",
      "\u001b[2;31m\u001b[0m"
     ]
    }
   ],
   "source": [
    "fmt.println(\"sum(()) =\", sum())\n",
    "fmt.println(\"sum(1, 2) =\", sum(1, 2))\n",
    "fmt.println(\"sum(1, 2, 3, 4, 5) =\", sum(1, 2, 3, 4, 5))\n",
    "fmt.println(\"sum(1, 2, 3, 4, 5, init_value = 5) =\", sum(1, 2, 3, 4, 5, init_value = 5))"
   ]
  },
  {
   "cell_type": "markdown",
   "id": "feb5f2ec-7625-417a-98c9-836f485be573",
   "metadata": {},
   "source": [
    "Pass a slice as varargs."
   ]
  },
  {
   "cell_type": "code",
   "execution_count": 36,
   "id": "b844e00e-9248-4eea-8efc-52201a65f22f",
   "metadata": {},
   "outputs": [
    {
     "name": "stdout",
     "output_type": "stream",
     "text": [
      "\u001b[0modds = [1, 3, 5]\n",
      "sum(..odds) = 9\n",
      "sum(..odds, init_value = 5) = 14\n",
      "\u001b[2;31m\u001b[0m"
     ]
    }
   ],
   "source": [
    "odds : []int = []int{1, 3, 5}\n",
    "fmt.println(\"odds =\", odds)\n",
    "fmt.println(\"sum(..odds) =\", sum(..odds))\n",
    "fmt.println(\"sum(..odds, init_value = 5) =\", sum(..odds, init_value = 5))"
   ]
  },
  {
   "cell_type": "markdown",
   "id": "fc6930d6-48d5-4bfe-83cd-09e4628033df",
   "metadata": {},
   "source": [
    "# EXPLICIT PROCEDURE OVERLOADING"
   ]
  },
  {
   "cell_type": "markdown",
   "id": "2539ec6d-d66e-4e92-860e-c9d1cc59b5c1",
   "metadata": {},
   "source": [
    "<span style=\"color:red;font-size:42px\">HERE</span>."
   ]
  },
  {
   "cell_type": "code",
   "execution_count": 48,
   "id": "d954c072-b296-4aa5-a565-a7f431e7feed",
   "metadata": {},
   "outputs": [
    {
     "name": "stdout",
     "output_type": "stream",
     "text": [
      "\u001b[0;31m\u001b[0m\u001b[0;31m\u001b[0m"
     ]
    }
   ],
   "source": [
    "explicit_procedure_overloading :: proc() {\n",
    "\tfmt.println(\"\\n# explicit procedure overloading\")\n",
    "\n",
    "\tadd_ints :: proc(a, b: int) -> int {\n",
    "\t\tx := a + b\n",
    "\t\tfmt.println(\"add_ints\", x)\n",
    "\t\treturn x\n",
    "\t}\n",
    "\tadd_floats :: proc(a, b: f32) -> f32 {\n",
    "\t\tx := a + b\n",
    "\t\tfmt.println(\"add_floats\", x)\n",
    "\t\treturn x\n",
    "\t}\n",
    "\tadd_numbers :: proc(a: int, b: f32, c: u8) -> int {\n",
    "\t\tx := int(a) + int(b) + int(c)\n",
    "\t\tfmt.println(\"add_numbers\", x)\n",
    "\t\treturn x\n",
    "\t}\n",
    "\n",
    "\tadd :: proc{add_ints, add_floats, add_numbers}\n",
    "\n",
    "\tadd(int(1), int(2))\n",
    "\tadd(f32(1), f32(2))\n",
    "\tadd(int(1), f32(2), u8(3))\n",
    "\n",
    "\tadd(1, 2)     // untyped ints coerce to int tighter than f32\n",
    "\tadd(1.0, 2.0) // untyped floats coerce to f32 tighter than int\n",
    "\tadd(1, 2, 3)  // three parameters\n",
    "\n",
    "\t// Ambiguous answers\n",
    "\t// add(1.0, 2)\n",
    "\t// add(1, 2.0)\n",
    "}"
   ]
  },
  {
   "cell_type": "markdown",
   "id": "287a2f4f-edae-4d6e-b4f5-1dc0c3005d4d",
   "metadata": {},
   "source": [
    "# STRUCT TYPE"
   ]
  },
  {
   "cell_type": "code",
   "execution_count": null,
   "id": "3528ed28-c173-49ba-a520-e389b18ce3a0",
   "metadata": {},
   "outputs": [],
   "source": [
    "struct_type :: proc() {\n",
    "\tfmt.println(\"\\n# struct type\")\n",
    "\t// A struct is a record type in Odin. It is a collection of fields.\n",
    "\t// Struct fields are accessed by using a dot:\n",
    "\t{\n",
    "\t\tVector2 :: struct {\n",
    "\t\t\tx: f32,\n",
    "\t\t\ty: f32,\n",
    "\t\t}\n",
    "\t\tv := Vector2{1, 2}\n",
    "\t\tv.x = 4\n",
    "\t\tfmt.println(v.x)\n",
    "\n",
    "\t\t// Struct fields can be accessed through a struct pointer:\n",
    "\n",
    "\t\tv = Vector2{1, 2}\n",
    "\t\tp := &v\n",
    "\t\tp.x = 1335\n",
    "\t\tfmt.println(v)\n",
    "\n",
    "\t\t// We could write p^.x, however, it is nice to abstract the ability\n",
    "\t\t// to not explicitly dereference the pointer. This is very useful when\n",
    "\t\t// refactoring code to use a pointer rather than a value, and vice versa.\n",
    "\t}\n",
    "\t{\n",
    "\t\t// A struct literal can be denoted by providing the struct’s type\n",
    "\t\t// followed by {}. A struct literal must either provide all the\n",
    "\t\t// arguments or none:\n",
    "\t\tVector3 :: struct {\n",
    "\t\t\tx, y, z: f32,\n",
    "\t\t}\n",
    "\t\tv: Vector3\n",
    "\t\tv = Vector3{} // Zero value\n",
    "\t\tv = Vector3{1, 4, 9}\n",
    "\n",
    "\t\t// You can list just a subset of the fields if you specify the\n",
    "\t\t// field by name (the order of the named fields does not matter):\n",
    "\t\tv = Vector3{z=1, y=2}\n",
    "\t\tassert(v.x == 0)\n",
    "\t\tassert(v.y == 2)\n",
    "\t\tassert(v.z == 1)\n",
    "\t}\n",
    "\t{\n",
    "\t\t// Structs can tagged with different memory layout and alignment requirements:\n",
    "\n",
    "\t\ta :: struct #align(4)  {} // align to 4 bytes\n",
    "\t\tb :: struct #packed    {} // remove padding between fields\n",
    "\t\tc :: struct #raw_union {} // all fields share the same offset (0). This is the same as C's union\n",
    "\t}\n",
    "\n",
    "}"
   ]
  },
  {
   "cell_type": "markdown",
   "id": "e7be9092-df84-4644-aa98-47318927f7a8",
   "metadata": {},
   "source": [
    "# UNION TYPE"
   ]
  },
  {
   "cell_type": "code",
   "execution_count": null,
   "id": "76d6b694-16cf-4369-92fc-c0f27951b0e6",
   "metadata": {},
   "outputs": [],
   "source": [
    "union_type :: proc() {\n",
    "\tfmt.println(\"\\n# union type\")\n",
    "\t{\n",
    "\t\tval: union{int, bool}\n",
    "\t\tval = 137\n",
    "\t\tif i, ok := val.(int); ok {\n",
    "\t\t\tfmt.println(i)\n",
    "\t\t}\n",
    "\t\tval = true\n",
    "\t\tfmt.println(val)\n",
    "\n",
    "\t\tval = nil\n",
    "\n",
    "\t\tswitch v in val {\n",
    "\t\tcase int:  fmt.println(\"int\",  v)\n",
    "\t\tcase bool: fmt.println(\"bool\", v)\n",
    "\t\tcase:      fmt.println(\"nil\")\n",
    "\t\t}\n",
    "\t}\n",
    "\t{\n",
    "\t\t// There is a duality between `any` and `union`\n",
    "\t\t// An `any` has a pointer to the data and allows for any type (open)\n",
    "\t\t// A `union` has as binary blob to store the data and allows only certain types (closed)\n",
    "\t\t// The following code is with `any` but has the same syntax\n",
    "\t\tval: any\n",
    "\t\tval = 137\n",
    "\t\tif i, ok := val.(int); ok {\n",
    "\t\t\tfmt.println(i)\n",
    "\t\t}\n",
    "\t\tval = true\n",
    "\t\tfmt.println(val)\n",
    "\n",
    "\t\tval = nil\n",
    "\n",
    "\t\tswitch v in val {\n",
    "\t\tcase int:  fmt.println(\"int\",  v)\n",
    "\t\tcase bool: fmt.println(\"bool\", v)\n",
    "\t\tcase:      fmt.println(\"nil\")\n",
    "\t\t}\n",
    "\t}\n",
    "\n",
    "\tVector3 :: distinct [3]f32\n",
    "\tQuaternion :: distinct quaternion128\n",
    "\n",
    "\t// More realistic examples\n",
    "\t{\n",
    "\t\t// NOTE(bill): For the above basic examples, you may not have any\n",
    "\t\t// particular use for it. However, my main use for them is not for these\n",
    "\t\t// simple cases. My main use is for hierarchical types. Many prefer\n",
    "\t\t// subtyping, embedding the base data into the derived types. Below is\n",
    "\t\t// an example of this for a basic game Entity.\n",
    "\n",
    "\t\tEntity :: struct {\n",
    "\t\t\tid:          u64,\n",
    "\t\t\tname:        string,\n",
    "\t\t\tposition:    Vector3,\n",
    "\t\t\torientation: Quaternion,\n",
    "\n",
    "\t\t\tderived: any,\n",
    "\t\t}\n",
    "\n",
    "\t\tFrog :: struct {\n",
    "\t\t\tusing entity: Entity,\n",
    "\t\t\tjump_height:  f32,\n",
    "\t\t}\n",
    "\n",
    "\t\tMonster :: struct {\n",
    "\t\t\tusing entity: Entity,\n",
    "\t\t\tis_robot:     bool,\n",
    "\t\t\tis_zombie:    bool,\n",
    "\t\t}\n",
    "\n",
    "\t\t// See `parametric_polymorphism` procedure for details\n",
    "\t\tnew_entity :: proc($T: typeid) -> ^Entity {\n",
    "\t\t\tt := new(T)\n",
    "\t\t\tt.derived = t^\n",
    "\t\t\treturn t\n",
    "\t\t}\n",
    "\n",
    "\t\tentity := new_entity(Monster)\n",
    "\n",
    "\t\tswitch e in entity.derived {\n",
    "\t\tcase Frog:\n",
    "\t\t\tfmt.println(\"Ribbit\")\n",
    "\t\tcase Monster:\n",
    "\t\t\tif e.is_robot  { fmt.println(\"Robotic\") }\n",
    "\t\t\tif e.is_zombie { fmt.println(\"Grrrr!\")  }\n",
    "\t\t\tfmt.println(\"I'm a monster\")\n",
    "\t\t}\n",
    "\t}\n",
    "\n",
    "\t{\n",
    "\t\t// NOTE(bill): A union can be used to achieve something similar. Instead\n",
    "\t\t// of embedding the base data into the derived types, the derived data\n",
    "\t\t// in embedded into the base type. Below is the same example of the\n",
    "\t\t// basic game Entity but using an union.\n",
    "\n",
    "\t\tEntity :: struct {\n",
    "\t\t\tid:          u64,\n",
    "\t\t\tname:        string,\n",
    "\t\t\tposition:    Vector3,\n",
    "\t\t\torientation: Quaternion,\n",
    "\n",
    "\t\t\tderived: union {Frog, Monster},\n",
    "\t\t}\n",
    "\n",
    "\t\tFrog :: struct {\n",
    "\t\t\tusing entity: ^Entity,\n",
    "\t\t\tjump_height:  f32,\n",
    "\t\t}\n",
    "\n",
    "\t\tMonster :: struct {\n",
    "\t\t\tusing entity: ^Entity,\n",
    "\t\t\tis_robot:     bool,\n",
    "\t\t\tis_zombie:    bool,\n",
    "\t\t}\n",
    "\n",
    "\t\t// See `parametric_polymorphism` procedure for details\n",
    "\t\tnew_entity :: proc($T: typeid) -> ^Entity {\n",
    "\t\t\tt := new(Entity)\n",
    "\t\t\tt.derived = T{entity = t}\n",
    "\t\t\treturn t\n",
    "\t\t}\n",
    "\n",
    "\t\tentity := new_entity(Monster)\n",
    "\n",
    "\t\tswitch e in entity.derived {\n",
    "\t\tcase Frog:\n",
    "\t\t\tfmt.println(\"Ribbit\")\n",
    "\t\tcase Monster:\n",
    "\t\t\tif e.is_robot  { fmt.println(\"Robotic\") }\n",
    "\t\t\tif e.is_zombie { fmt.println(\"Grrrr!\")  }\n",
    "\t\t}\n",
    "\n",
    "\t\t// NOTE(bill): As you can see, the usage code has not changed, only its\n",
    "\t\t// memory layout. Both approaches have their own advantages but they can\n",
    "\t\t// be used together to achieve different results. The subtyping approach\n",
    "\t\t// can allow for a greater control of the memory layout and memory\n",
    "\t\t// allocation, e.g. storing the derivatives together. However, this is\n",
    "\t\t// also its disadvantage. You must either preallocate arrays for each\n",
    "\t\t// derivative separation (which can be easily missed) or preallocate a\n",
    "\t\t// bunch of \"raw\" memory; determining the maximum size of the derived\n",
    "\t\t// types would require the aid of metaprogramming. Unions solve this\n",
    "\t\t// particular problem as the data is stored with the base data.\n",
    "\t\t// Therefore, it is possible to preallocate, e.g. [100]Entity.\n",
    "\n",
    "\t\t// It should be noted that the union approach can have the same memory\n",
    "\t\t// layout as the any and with the same type restrictions by using a\n",
    "\t\t// pointer type for the derivatives.\n",
    "\n",
    "\t\t/*\n",
    "\t\t\tEntity :: struct {\n",
    "\t\t\t\t...\n",
    "\t\t\t\tderived: union{^Frog, ^Monster},\n",
    "\t\t\t}\n",
    "\n",
    "\t\t\tFrog :: struct {\n",
    "\t\t\t\tusing entity: Entity,\n",
    "\t\t\t\t...\n",
    "\t\t\t}\n",
    "\t\t\tMonster :: struct {\n",
    "\t\t\t\tusing entity: Entity,\n",
    "\t\t\t\t...\n",
    "\n",
    "\t\t\t}\n",
    "\t\t\tnew_entity :: proc(T: type) -> ^Entity {\n",
    "\t\t\t\tt := new(T)\n",
    "\t\t\t\tt.derived = t\n",
    "\t\t\t\treturn t\n",
    "\t\t\t}\n",
    "\t\t*/\n",
    "\t}\n",
    "}"
   ]
  },
  {
   "cell_type": "markdown",
   "id": "4e5febca-b856-4d5c-b4e2-0ecf635e4c03",
   "metadata": {},
   "source": [
    "# USING STATEMENT"
   ]
  },
  {
   "cell_type": "code",
   "execution_count": null,
   "id": "eaf5d41f-1935-4448-8cd6-d4b690a1da0f",
   "metadata": {},
   "outputs": [],
   "source": [
    "using_statement :: proc() {\n",
    "\tfmt.println(\"\\n# using statement\")\n",
    "\t// using can used to bring entities declared in a scope/namespace\n",
    "\t// into the current scope. This can be applied to import names, struct\n",
    "\t// fields, procedure fields, and struct values.\n",
    "\n",
    "\tVector3 :: struct{x, y, z: f32}\n",
    "\t{\n",
    "\t\tEntity :: struct {\n",
    "\t\t\tposition: Vector3,\n",
    "\t\t\torientation: quaternion128,\n",
    "\t\t}\n",
    "\n",
    "\t\t// It can used like this:\n",
    "\t\tfoo0 :: proc(entity: ^Entity) {\n",
    "\t\t\tfmt.println(entity.position.x, entity.position.y, entity.position.z)\n",
    "\t\t}\n",
    "\n",
    "\t\t// The entity members can be brought into the procedure scope by using it:\n",
    "\t\tfoo1 :: proc(entity: ^Entity) {\n",
    "\t\t\tusing entity\n",
    "\t\t\tfmt.println(position.x, position.y, position.z)\n",
    "\t\t}\n",
    "\n",
    "\t\t// The using can be applied to the parameter directly:\n",
    "\t\tfoo2 :: proc(using entity: ^Entity) {\n",
    "\t\t\tfmt.println(position.x, position.y, position.z)\n",
    "\t\t}\n",
    "\n",
    "\t\t// It can also be applied to sub-fields:\n",
    "\t\tfoo3 :: proc(entity: ^Entity) {\n",
    "\t\t\tusing entity.position\n",
    "\t\t\tfmt.println(x, y, z)\n",
    "\t\t}\n",
    "\t}\n",
    "\t{\n",
    "\t\t// We can also apply the using statement to the struct fields directly,\n",
    "\t\t// making all the fields of position appear as if they on Entity itself:\n",
    "\t\tEntity :: struct {\n",
    "\t\t\tusing position: Vector3,\n",
    "\t\t\torientation: quaternion128,\n",
    "\t\t}\n",
    "\t\tfoo :: proc(entity: ^Entity) {\n",
    "\t\t\tfmt.println(entity.x, entity.y, entity.z)\n",
    "\t\t}\n",
    "\n",
    "\n",
    "\t\t// Subtype polymorphism\n",
    "\t\t// It is possible to get subtype polymorphism, similar to inheritance-like\n",
    "\t\t// functionality in C++, but without the requirement of vtables or unknown\n",
    "\t\t// struct layout:\n",
    "\n",
    "\t\tColour :: struct {r, g, b, a: u8}\n",
    "\t\tFrog :: struct {\n",
    "\t\t\tribbit_volume: f32,\n",
    "\t\t\tusing entity: Entity,\n",
    "\t\t\tcolour: Colour,\n",
    "\t\t}\n",
    "\n",
    "\t\tfrog: Frog\n",
    "\t\t// Both work\n",
    "\t\tfoo(&frog.entity)\n",
    "\t\tfoo(&frog)\n",
    "\t\tfrog.x = 123\n",
    "\n",
    "\t\t// Note: using can be applied to arbitrarily many things, which allows\n",
    "\t\t// the ability to have multiple subtype polymorphism (but also its issues).\n",
    "\n",
    "\t\t// Note: using’d fields can still be referred by name.\n",
    "\t}\n",
    "}"
   ]
  },
  {
   "cell_type": "markdown",
   "id": "0c44e15b-e415-4173-b50c-c9f4f8d9dccb",
   "metadata": {},
   "source": [
    "# IMPLICIT CONTEXT SYSTEM"
   ]
  },
  {
   "cell_type": "code",
   "execution_count": null,
   "id": "fe4cb2bc-bd63-4a45-b7ef-900ff67ddecd",
   "metadata": {},
   "outputs": [],
   "source": [
    "implicit_context_system :: proc() {\n",
    "\tfmt.println(\"\\n# implicit context system\")\n",
    "\t// In each scope, there is an implicit value named context. This\n",
    "\t// context variable is local to each scope and is implicitly passed\n",
    "\t// by pointer to any procedure call in that scope (if the procedure\n",
    "\t// has the Odin calling convention).\n",
    "\n",
    "\t// The main purpose of the implicit context system is for the ability\n",
    "\t// to intercept third-party code and libraries and modify their\n",
    "\t// functionality. One such case is modifying how a library allocates\n",
    "\t// something or logs something. In C, this was usually achieved with\n",
    "\t// the library defining macros which could be overridden so that the\n",
    "\t// user could define what he wanted. However, not many libraries\n",
    "\t// supported this in many languages by default which meant intercepting\n",
    "\t// third-party code to see what it does and to change how it does it is\n",
    "\t// not possible.\n",
    "\n",
    "\tc := context // copy the current scope's context\n",
    "\n",
    "\tcontext.user_index = 456\n",
    "\t{\n",
    "\t\tcontext.allocator = my_custom_allocator()\n",
    "\t\tcontext.user_index = 123\n",
    "\t\twhat_a_fool_believes() // the `context` for this scope is implicitly passed to `what_a_fool_believes`\n",
    "\t}\n",
    "\n",
    "\t// `context` value is local to the scope it is in\n",
    "\tassert(context.user_index == 456)\n",
    "\n",
    "\twhat_a_fool_believes :: proc() {\n",
    "\t\tc := context // this `context` is the same as the parent procedure that it was called from\n",
    "\t\t// From this example, context.user_index == 123\n",
    "\t\t// A context.allocator is assigned to the return value of `my_custom_allocator()`\n",
    "\t\tassert(context.user_index == 123)\n",
    "\n",
    "\t\t// The memory management procedure use the `context.allocator` by\n",
    "\t\t// default unless explicitly specified otherwise\n",
    "\t\tchina_grove := new(int)\n",
    "\t\tfree(china_grove)\n",
    "\n",
    "\t\t_ = c\n",
    "\t}\n",
    "\n",
    "\tmy_custom_allocator :: mem.nil_allocator\n",
    "\t_ = c\n",
    "\n",
    "\t// By default, the context value has default values for its parameters which is\n",
    "\t// decided in the package runtime. What the defaults are are compiler specific.\n",
    "\n",
    "\t// To see what the implicit context value contains, please see the following\n",
    "\t// definition in package runtime.\n",
    "}"
   ]
  },
  {
   "cell_type": "markdown",
   "id": "eff17e8b-7364-4d0f-b811-d532e9d1e19b",
   "metadata": {},
   "source": [
    "# PARAMETRIC POLYMORPHISM"
   ]
  },
  {
   "cell_type": "code",
   "execution_count": null,
   "id": "402409e6-6dd5-49e6-81b2-06b95d39e2fc",
   "metadata": {},
   "outputs": [],
   "source": [
    "parametric_polymorphism :: proc() {\n",
    "\tfmt.println(\"\\n# parametric polymorphism\")\n",
    "\n",
    "\tprint_value :: proc(value: $T) {\n",
    "\t\tfmt.printf(\"print_value: %T %v\\n\", value, value)\n",
    "\t}\n",
    "\n",
    "\tv1: int    = 1\n",
    "\tv2: f32    = 2.1\n",
    "\tv3: f64    = 3.14\n",
    "\tv4: string = \"message\"\n",
    "\n",
    "\tprint_value(v1)\n",
    "\tprint_value(v2)\n",
    "\tprint_value(v3)\n",
    "\tprint_value(v4)\n",
    "\n",
    "\tfmt.println()\n",
    "\n",
    "\tadd :: proc(p, q: $T) -> T {\n",
    "\t\tx: T = p + q\n",
    "\t\treturn x\n",
    "\t}\n",
    "\n",
    "\ta := add(3, 4)\n",
    "\tfmt.printf(\"a: %T = %v\\n\", a, a)\n",
    "\n",
    "\tb := add(3.2, 4.3)\n",
    "\tfmt.printf(\"b: %T = %v\\n\", b, b)\n",
    "\n",
    "\t// This is how `new` is implemented\n",
    "\talloc_type :: proc($T: typeid) -> ^T {\n",
    "\t\tt := cast(^T)mem.alloc(size_of(T), align_of(T))\n",
    "\t\tt^ = T{} // Use default initialization value\n",
    "\t\treturn t\n",
    "\t}\n",
    "\n",
    "\tcopy_slice :: proc(dst, src: []$T) -> int {\n",
    "\t\tn := min(len(dst), len(src))\n",
    "\t\tif n > 0 {\n",
    "\t\t\tmem.copy(&dst[0], &src[0], n*size_of(T))\n",
    "\t\t}\n",
    "\t\treturn n\n",
    "\t}\n",
    "\n",
    "\tdouble_params :: proc(a: $A, b: $B) -> A {\n",
    "\t\treturn a + A(b)\n",
    "\t}\n",
    "\n",
    "\tfmt.println(double_params(12, 1.345))\n",
    "\n",
    "\n",
    "\n",
    "\t{ // Polymorphic Types and Type Specialization\n",
    "\t\tTable_Slot :: struct($Key, $Value: typeid) {\n",
    "\t\t\toccupied: bool,\n",
    "\t\t\thash:     u32,\n",
    "\t\t\tkey:      Key,\n",
    "\t\t\tvalue:    Value,\n",
    "\t\t}\n",
    "\t\tTABLE_SIZE_MIN :: 32\n",
    "\t\tTable :: struct($Key, $Value: typeid) {\n",
    "\t\t\tcount:     int,\n",
    "\t\t\tallocator: mem.Allocator,\n",
    "\t\t\tslots:     []Table_Slot(Key, Value),\n",
    "\t\t}\n",
    "\n",
    "\t\t// Only allow types that are specializations of a (polymorphic) slice\n",
    "\t\tmake_slice :: proc($T: typeid/[]$E, len: int) -> T {\n",
    "\t\t\treturn make(T, len)\n",
    "\t\t}\n",
    "\n",
    "\t\t// Only allow types that are specializations of `Table`\n",
    "\t\tallocate :: proc(table: ^$T/Table, capacity: int) {\n",
    "\t\t\tc := context\n",
    "\t\t\tif table.allocator.procedure != nil {\n",
    "\t\t\t\tc.allocator = table.allocator\n",
    "\t\t\t}\n",
    "\t\t\tcontext = c\n",
    "\n",
    "\t\t\ttable.slots = make_slice(type_of(table.slots), max(capacity, TABLE_SIZE_MIN))\n",
    "\t\t}\n",
    "\n",
    "\t\texpand :: proc(table: ^$T/Table) {\n",
    "\t\t\tc := context\n",
    "\t\t\tif table.allocator.procedure != nil {\n",
    "\t\t\t\tc.allocator = table.allocator\n",
    "\t\t\t}\n",
    "\t\t\tcontext = c\n",
    "\n",
    "\t\t\told_slots := table.slots\n",
    "\t\t\tdefer delete(old_slots)\n",
    "\n",
    "\t\t\tcap := max(2*len(table.slots), TABLE_SIZE_MIN)\n",
    "\t\t\tallocate(table, cap)\n",
    "\n",
    "\t\t\tfor s in old_slots {\n",
    "\t\t\t\tif s.occupied {\n",
    "\t\t\t\t\tput(table, s.key, s.value)\n",
    "\t\t\t\t}\n",
    "\t\t\t}\n",
    "\t\t}\n",
    "\n",
    "\t\t// Polymorphic determination of a polymorphic struct\n",
    "\t\t// put :: proc(table: ^$T/Table, key: T.Key, value: T.Value) {\n",
    "\t\tput :: proc(table: ^Table($Key, $Value), key: Key, value: Value) {\n",
    "\t\t\thash := get_hash(key) // Ad-hoc method which would fail in a different scope\n",
    "\t\t\tindex := find_index(table, key, hash)\n",
    "\t\t\tif index < 0 {\n",
    "\t\t\t\tif f64(table.count) >= 0.75*f64(len(table.slots)) {\n",
    "\t\t\t\t\texpand(table)\n",
    "\t\t\t\t}\n",
    "\t\t\t\tassert(table.count <= len(table.slots))\n",
    "\n",
    "\t\t\t\tindex = int(hash % u32(len(table.slots)))\n",
    "\n",
    "\t\t\t\tfor table.slots[index].occupied {\n",
    "\t\t\t\t\tif index += 1; index >= len(table.slots) {\n",
    "\t\t\t\t\t\tindex = 0\n",
    "\t\t\t\t\t}\n",
    "\t\t\t\t}\n",
    "\n",
    "\t\t\t\ttable.count += 1\n",
    "\t\t\t}\n",
    "\n",
    "\t\t\tslot := &table.slots[index]\n",
    "\t\t\tslot.occupied = true\n",
    "\t\t\tslot.hash     = hash\n",
    "\t\t\tslot.key      = key\n",
    "\t\t\tslot.value    = value\n",
    "\t\t}\n",
    "\n",
    "\n",
    "\t\t// find :: proc(table: ^$T/Table, key: T.Key) -> (T.Value, bool) {\n",
    "\t\tfind :: proc(table: ^Table($Key, $Value), key: Key) -> (Value, bool) {\n",
    "\t\t\thash := get_hash(key)\n",
    "\t\t\tindex := find_index(table, key, hash)\n",
    "\t\t\tif index < 0 {\n",
    "\t\t\t\treturn Value{}, false\n",
    "\t\t\t}\n",
    "\t\t\treturn table.slots[index].value, true\n",
    "\t\t}\n",
    "\n",
    "\t\tfind_index :: proc(table: ^Table($Key, $Value), key: Key, hash: u32) -> int {\n",
    "\t\t\tif len(table.slots) <= 0 {\n",
    "\t\t\t\treturn -1\n",
    "\t\t\t}\n",
    "\n",
    "\t\t\tindex := int(hash % u32(len(table.slots)))\n",
    "\t\t\tfor table.slots[index].occupied {\n",
    "\t\t\t\tif table.slots[index].hash == hash {\n",
    "\t\t\t\t\tif table.slots[index].key == key {\n",
    "\t\t\t\t\t\treturn index\n",
    "\t\t\t\t\t}\n",
    "\t\t\t\t}\n",
    "\n",
    "\t\t\t\tif index += 1; index >= len(table.slots) {\n",
    "\t\t\t\t\tindex = 0\n",
    "\t\t\t\t}\n",
    "\t\t\t}\n",
    "\n",
    "\t\t\treturn -1\n",
    "\t\t}\n",
    "\n",
    "\t\tget_hash :: proc(s: string) -> u32 { // fnv32a\n",
    "\t\t\th: u32 = 0x811c9dc5\n",
    "\t\t\tfor i in 0..<len(s) {\n",
    "\t\t\t\th = (h ~ u32(s[i])) * 0x01000193\n",
    "\t\t\t}\n",
    "\t\t\treturn h\n",
    "\t\t}\n",
    "\n",
    "\n",
    "\t\ttable: Table(string, int)\n",
    "\n",
    "\t\tfor i in 0..=36 { put(&table, \"Hellope\", i) }\n",
    "\t\tfor i in 0..=42 { put(&table, \"World!\",  i) }\n",
    "\n",
    "\t\tfound, _ := find(&table, \"Hellope\")\n",
    "\t\tfmt.printf(\"`found` is %v\\n\", found)\n",
    "\n",
    "\t\tfound, _ = find(&table, \"World!\")\n",
    "\t\tfmt.printf(\"`found` is %v\\n\", found)\n",
    "\n",
    "\t\t// I would not personally design a hash table like this in production\n",
    "\t\t// but this is a nice basic example\n",
    "\t\t// A better approach would either use a `u64` or equivalent for the key\n",
    "\t\t// and let the user specify the hashing function or make the user store\n",
    "\t\t// the hashing procedure with the table\n",
    "\t}\n",
    "\n",
    "\t{ // Parametric polymorphic union\n",
    "\t\tError :: enum {\n",
    "\t\t\tFoo0,\n",
    "\t\t\tFoo1,\n",
    "\t\t\tFoo2,\n",
    "\t\t\tFoo3,\n",
    "\t\t}\n",
    "\t\tPara_Union :: union($T: typeid) {T, Error}\n",
    "\t\tr: Para_Union(int)\n",
    "\t\tfmt.println(typeid_of(type_of(r)))\n",
    "\n",
    "\t\tfmt.println(r)\n",
    "\t\tr = 123\n",
    "\t\tfmt.println(r)\n",
    "\t\tr = Error.Foo0 // r = .Foo0 is allow too, see implicit selector expressions below\n",
    "\t\tfmt.println(r)\n",
    "\t}\n",
    "\n",
    "\t{ // Polymorphic names\n",
    "\t\tfoo :: proc($N: $I, $T: typeid) -> (res: [N]T) {\n",
    "\t\t\t// `N` is the constant value passed\n",
    "\t\t\t// `I` is the type of N\n",
    "\t\t\t// `T` is the type passed\n",
    "\t\t\tfmt.printf(\"Generating an array of type %v from the value %v of type %v\\n\",\n",
    "\t\t\t\t\t   typeid_of(type_of(res)), N, typeid_of(I))\n",
    "\t\t\tfor i in 0..<N {\n",
    "\t\t\t\tres[i] = T(i*i)\n",
    "\t\t\t}\n",
    "\t\t\treturn\n",
    "\t\t}\n",
    "\n",
    "\t\tT :: int\n",
    "\t\tarray := foo(4, T)\n",
    "\t\tfor v, i in array {\n",
    "\t\t\tassert(v == T(i*i))\n",
    "\t\t}\n",
    "\n",
    "\t\t// Matrix multiplication\n",
    "\t\tmul :: proc(a: [$M][$N]$T, b: [N][$P]T) -> (c: [M][P]T) {\n",
    "\t\t\tfor i in 0..<M {\n",
    "\t\t\t\tfor j in 0..<P {\n",
    "\t\t\t\t\tfor k in 0..<N {\n",
    "\t\t\t\t\t\tc[i][j] += a[i][k] * b[k][j]\n",
    "\t\t\t\t\t}\n",
    "\t\t\t\t}\n",
    "\t\t\t}\n",
    "\t\t\treturn\n",
    "\t\t}\n",
    "\n",
    "\t\tx := [2][3]f32{\n",
    "\t\t\t{1, 2, 3},\n",
    "\t\t\t{3, 2, 1},\n",
    "\t\t}\n",
    "\t\ty := [3][2]f32{\n",
    "\t\t\t{0, 8},\n",
    "\t\t\t{6, 2},\n",
    "\t\t\t{8, 4},\n",
    "\t\t}\n",
    "\t\tz := mul(x, y)\n",
    "\t\tassert(z == {{36, 24}, {20, 32}})\n",
    "\t}\n",
    "}"
   ]
  },
  {
   "cell_type": "markdown",
   "id": "3d818cdf-5051-4b00-a2a2-c0d4fd2dc783",
   "metadata": {},
   "source": [
    "# THREADING EXAMPLE"
   ]
  },
  {
   "cell_type": "code",
   "execution_count": null,
   "id": "5481886e-c298-451f-9bda-a8eaec8fc3f6",
   "metadata": {},
   "outputs": [],
   "source": [
    "prefix_table := [?]string{\n",
    "\t\"White\",\n",
    "\t\"Red\",\n",
    "\t\"Green\",\n",
    "\t\"Blue\",\n",
    "\t\"Octarine\",\n",
    "\t\"Black\",\n",
    "}\n",
    "\n",
    "print_mutex := b64(false)\n",
    "\n",
    "@(disabled=!thread.IS_SUPPORTED)\n",
    "threading_example :: proc() {\n",
    "\tfmt.println(\"\\n# threading_example\")\n",
    "\n",
    "\tdid_acquire :: proc(m: ^b64) -> (acquired: bool) {\n",
    "\t\tres, ok := intrinsics.atomic_compare_exchange_strong(m, false, true)\n",
    "\t\treturn ok && res == false\n",
    "\t}\n",
    "\n",
    "\t{ // Basic Threads\n",
    "\t\tfmt.println(\"\\n## Basic Threads\")\n",
    "\t\tworker_proc :: proc(t: ^thread.Thread) {\n",
    "\t\t\tfor iteration in 1..=5 {\n",
    "\t\t\t\tfmt.printf(\"Thread %d is on iteration %d\\n\", t.user_index, iteration)\n",
    "\t\t\t\tfmt.printf(\"`%s`: iteration %d\\n\", prefix_table[t.user_index], iteration)\n",
    "\t\t\t\ttime.sleep(1 * time.Millisecond)\n",
    "\t\t\t}\n",
    "\t\t}\n",
    "\n",
    "\t\tthreads := make([dynamic]^thread.Thread, 0, len(prefix_table))\n",
    "\t\tdefer delete(threads)\n",
    "\n",
    "\t\tfor _ in prefix_table {\n",
    "\t\t\tif t := thread.create(worker_proc); t != nil {\n",
    "\t\t\t\tt.init_context = context\n",
    "\t\t\t\tt.user_index = len(threads)\n",
    "\t\t\t\tappend(&threads, t)\n",
    "\t\t\t\tthread.start(t)\n",
    "\t\t\t}\n",
    "\t\t}\n",
    "\n",
    "\t\tfor len(threads) > 0 {\n",
    "\t\t\tfor i := 0; i < len(threads); /**/ {\n",
    "\t\t\t\tif t := threads[i]; thread.is_done(t) {\n",
    "\t\t\t\t\tfmt.printf(\"Thread %d is done\\n\", t.user_index)\n",
    "\t\t\t\t\tthread.destroy(t)\n",
    "\n",
    "\t\t\t\t\tordered_remove(&threads, i)\n",
    "\t\t\t\t} else {\n",
    "\t\t\t\t\ti += 1\n",
    "\t\t\t\t}\n",
    "\t\t\t}\n",
    "\t\t}\n",
    "\t}\n",
    "\n",
    "\t{ // Thread Pool\n",
    "\t\tfmt.println(\"\\n## Thread Pool\")\n",
    "\t\ttask_proc :: proc(t: thread.Task) {\n",
    "\t\t\tindex := t.user_index % len(prefix_table)\n",
    "\t\t\tfor iteration in 1..=5 {\n",
    "\t\t\t\tfor !did_acquire(&print_mutex) { thread.yield() } // Allow one thread to print at a time.\n",
    "\n",
    "\t\t\t\tfmt.printf(\"Worker Task %d is on iteration %d\\n\", t.user_index, iteration)\n",
    "\t\t\t\tfmt.printf(\"`%s`: iteration %d\\n\", prefix_table[index], iteration)\n",
    "\n",
    "\t\t\t\tprint_mutex = false\n",
    "\n",
    "\t\t\t\ttime.sleep(1 * time.Millisecond)\n",
    "\t\t\t}\n",
    "\t\t}\n",
    "\n",
    "\t\tN :: 3\n",
    "\n",
    "\t\tpool: thread.Pool\n",
    "\t\tthread.pool_init(&pool, allocator=context.allocator, thread_count=N)\n",
    "\t\tdefer thread.pool_destroy(&pool)\n",
    "\n",
    "\n",
    "\t\tfor i in 0..<30 {\n",
    "\t\t\t// be mindful of the allocator used for tasks. The allocator needs to be thread safe, or be owned by the task for exclusive use \n",
    "\t\t\tthread.pool_add_task(&pool, allocator=context.allocator, procedure=task_proc, data=nil, user_index=i)\n",
    "\t\t}\n",
    "\n",
    "\t\tthread.pool_start(&pool)\n",
    "\n",
    "\t\t{\n",
    "\t\t\t// Wait a moment before we cancel a thread\n",
    "\t\t\ttime.sleep(5 * time.Millisecond)\n",
    "\n",
    "\t\t\t// Allow one thread to print at a time.\n",
    "\t\t\tfor !did_acquire(&print_mutex) { thread.yield() }\n",
    "\n",
    "\t\t\tthread.terminate(pool.threads[N - 1], 0)\n",
    "\t\t\tfmt.println(\"Canceled last thread\")\n",
    "\t\t\tprint_mutex = false\n",
    "\t\t}\n",
    "\n",
    "\t\tthread.pool_finish(&pool)\n",
    "\t}\n",
    "}"
   ]
  },
  {
   "cell_type": "markdown",
   "id": "840b0002-b1ea-47b0-8531-d3c76432e4d9",
   "metadata": {},
   "source": [
    "# ARRAY PROGRAMMING"
   ]
  },
  {
   "cell_type": "code",
   "execution_count": null,
   "id": "5ddac79d-793d-4311-8435-6550a9d39c4c",
   "metadata": {},
   "outputs": [],
   "source": [
    "array_programming :: proc() {\n",
    "\tfmt.println(\"\\n# array programming\")\n",
    "\t{\n",
    "\t\ta := [3]f32{1, 2, 3}\n",
    "\t\tb := [3]f32{5, 6, 7}\n",
    "\t\tc := a * b\n",
    "\t\td := a + b\n",
    "\t\te := 1 +  (c - d) / 2\n",
    "\t\tfmt.printf(\"%.1f\\n\", e) // [0.5, 3.0, 6.5]\n",
    "\t}\n",
    "\n",
    "\t{\n",
    "\t\ta := [3]f32{1, 2, 3}\n",
    "\t\tb := swizzle(a, 2, 1, 0)\n",
    "\t\tassert(b == [3]f32{3, 2, 1})\n",
    "\n",
    "\t\tc := swizzle(a, 0, 0)\n",
    "\t\tassert(c == [2]f32{1, 1})\n",
    "\t\tassert(c == 1)\n",
    "\t}\n",
    "\n",
    "\t{\n",
    "\t\tVector3 :: distinct [3]f32\n",
    "\t\ta := Vector3{1, 2, 3}\n",
    "\t\tb := Vector3{5, 6, 7}\n",
    "\t\tc := (a * b)/2 + 1\n",
    "\t\td := c.x + c.y + c.z\n",
    "\t\tfmt.printf(\"%.1f\\n\", d) // 22.0\n",
    "\n",
    "\t\tcross :: proc(a, b: Vector3) -> Vector3 {\n",
    "\t\t\ti := swizzle(a, 1, 2, 0) * swizzle(b, 2, 0, 1)\n",
    "\t\t\tj := swizzle(a, 2, 0, 1) * swizzle(b, 1, 2, 0)\n",
    "\t\t\treturn i - j\n",
    "\t\t}\n",
    "\n",
    "\t\tcross_shorter :: proc(a, b: Vector3) -> Vector3 {\n",
    "\t\t\ti := a.yzx * b.zxy\n",
    "\t\t\tj := a.zxy * b.yzx\n",
    "\t\t\treturn i - j\n",
    "\t\t}\n",
    "\n",
    "\t\tblah :: proc(a: Vector3) -> f32 {\n",
    "\t\t\treturn a.x + a.y + a.z\n",
    "\t\t}\n",
    "\n",
    "\t\tx := cross(a, b)\n",
    "\t\tfmt.println(x)\n",
    "\t\tfmt.println(blah(x))\n",
    "\t}\n",
    "}"
   ]
  },
  {
   "cell_type": "markdown",
   "id": "adaf4315-b393-4fa9-8935-43cf7be90b69",
   "metadata": {},
   "source": [
    "# MAP TYPE"
   ]
  },
  {
   "cell_type": "code",
   "execution_count": null,
   "id": "3597b5c0-b854-48b5-bf48-1f19b298b4dd",
   "metadata": {},
   "outputs": [],
   "source": [
    "map_type :: proc() {\n",
    "\tfmt.println(\"\\n# map type\")\n",
    "\n",
    "\tm := make(map[string]int)\n",
    "\tdefer delete(m)\n",
    "\n",
    "\tm[\"Bob\"] = 2\n",
    "\tm[\"Ted\"] = 5\n",
    "\tfmt.println(m[\"Bob\"])\n",
    "\n",
    "\tdelete_key(&m, \"Ted\")\n",
    "\n",
    "\t// If an element of a key does not exist, the zero value of the\n",
    "\t// element will be returned. To check to see if an element exists\n",
    "\t// can be done in two ways:\n",
    "\telem, ok := m[\"Bob\"]\n",
    "\texists := \"Bob\" in m\n",
    "\t_, _ = elem, ok\n",
    "\t_ = exists\n",
    "}"
   ]
  },
  {
   "cell_type": "markdown",
   "id": "be45dde5-13ee-45eb-9395-ddadf2132da0",
   "metadata": {},
   "source": [
    "# IMPLICIT SELECTOR EXPRESSION"
   ]
  },
  {
   "cell_type": "code",
   "execution_count": null,
   "id": "b832b013-f7ba-4ac9-9079-219fe090aead",
   "metadata": {},
   "outputs": [],
   "source": [
    "implicit_selector_expression :: proc() {\n",
    "\tfmt.println(\"\\n# implicit selector expression\")\n",
    "\n",
    "\tFoo :: enum {A, B, C}\n",
    "\n",
    "\tf: Foo\n",
    "\tf = Foo.A\n",
    "\tf = .A\n",
    "\n",
    "\tBAR :: bit_set[Foo]{.B, .C}\n",
    "\n",
    "\tswitch f {\n",
    "\tcase .A:\n",
    "\t\tfmt.println(\"HITHER\")\n",
    "\tcase .B:\n",
    "\t\tfmt.println(\"NEVER\")\n",
    "\tcase .C:\n",
    "\t\tfmt.println(\"FOREVER\")\n",
    "\t}\n",
    "\n",
    "\tmy_map := make(map[Foo]int)\n",
    "\tdefer delete(my_map)\n",
    "\n",
    "\tmy_map[.A] = 123\n",
    "\tmy_map[Foo.B] = 345\n",
    "\n",
    "\tfmt.println(my_map[.A] + my_map[Foo.B] + my_map[.C])\n",
    "}"
   ]
  },
  {
   "cell_type": "markdown",
   "id": "6188f876-583c-4681-8b4b-6cb72c518d63",
   "metadata": {},
   "source": [
    "# PARTIAL SWITCH"
   ]
  },
  {
   "cell_type": "code",
   "execution_count": null,
   "id": "ba303995-a684-4bce-8d48-3cc51415bf0f",
   "metadata": {},
   "outputs": [],
   "source": [
    "partial_switch :: proc() {\n",
    "\tfmt.println(\"\\n# partial_switch\")\n",
    "\t{ // enum\n",
    "\t\tFoo :: enum {\n",
    "\t\t\tA,\n",
    "\t\t\tB,\n",
    "\t\t\tC,\n",
    "\t\t\tD,\n",
    "\t\t}\n",
    "\n",
    "\t\tf := Foo.A\n",
    "\t\tswitch f {\n",
    "\t\tcase .A: fmt.println(\"A\")\n",
    "\t\tcase .B: fmt.println(\"B\")\n",
    "\t\tcase .C: fmt.println(\"C\")\n",
    "\t\tcase .D: fmt.println(\"D\")\n",
    "\t\tcase:    fmt.println(\"?\")\n",
    "\t\t}\n",
    "\n",
    "\t\t#partial switch f {\n",
    "\t\tcase .A: fmt.println(\"A\")\n",
    "\t\tcase .D: fmt.println(\"D\")\n",
    "\t\t}\n",
    "\t}\n",
    "\t{ // union\n",
    "\t\tFoo :: union {int, bool}\n",
    "\t\tf: Foo = 123\n",
    "\t\tswitch _ in f {\n",
    "\t\tcase int:  fmt.println(\"int\")\n",
    "\t\tcase bool: fmt.println(\"bool\")\n",
    "\t\tcase:\n",
    "\t\t}\n",
    "\n",
    "\t\t#partial switch _ in f {\n",
    "\t\tcase bool: fmt.println(\"bool\")\n",
    "\t\t}\n",
    "\t}\n",
    "}"
   ]
  },
  {
   "cell_type": "markdown",
   "id": "6cf25c74-5534-497e-96dd-3f009827b41b",
   "metadata": {},
   "source": [
    "# CSTRING EXAMPLE"
   ]
  },
  {
   "cell_type": "code",
   "execution_count": null,
   "id": "de79c1f2-6bfd-4133-b8fa-411bd376e8a7",
   "metadata": {},
   "outputs": [],
   "source": [
    "cstring_example :: proc() {\n",
    "\tfmt.println(\"\\n# cstring_example\")\n",
    "\n",
    "\tW :: \"Hellope\"\n",
    "\tX :: cstring(W)\n",
    "\tY :: string(X)\n",
    "\n",
    "\tw := W\n",
    "\t_ = w\n",
    "\tx: cstring = X\n",
    "\ty: string = Y\n",
    "\tz := string(x)\n",
    "\tfmt.println(x, y, z)\n",
    "\tfmt.println(len(x), len(y), len(z))\n",
    "\tfmt.println(len(W), len(X), len(Y))\n",
    "\t// IMPORTANT NOTE for cstring variables\n",
    "\t// len(cstring) is O(N)\n",
    "\t// cast(string)cstring is O(N)\n",
    "}"
   ]
  },
  {
   "cell_type": "markdown",
   "id": "251ac590-a656-4581-ac2b-f76ddfe64b4f",
   "metadata": {},
   "source": [
    "# BIT SET TYPE"
   ]
  },
  {
   "cell_type": "code",
   "execution_count": null,
   "id": "71437fea-a657-4be5-9d46-8838c61f16f2",
   "metadata": {},
   "outputs": [],
   "source": [
    "bit_set_type :: proc() {\n",
    "\tfmt.println(\"\\n# bit_set type\")\n",
    "\n",
    "\t{\n",
    "\t\tDay :: enum {\n",
    "\t\t\tSunday,\n",
    "\t\t\tMonday,\n",
    "\t\t\tTuesday,\n",
    "\t\t\tWednesday,\n",
    "\t\t\tThursday,\n",
    "\t\t\tFriday,\n",
    "\t\t\tSaturday,\n",
    "\t\t}\n",
    "\n",
    "\t\tDays :: distinct bit_set[Day]\n",
    "\t\tWEEKEND :: Days{.Sunday, .Saturday}\n",
    "\n",
    "\t\td: Days\n",
    "\t\td = {.Sunday, .Monday}\n",
    "\t\te := d + WEEKEND\n",
    "\t\te += {.Monday}\n",
    "\t\tfmt.println(d, e)\n",
    "\n",
    "\t\tok := .Saturday in e // `in` is only allowed for `map` and `bit_set` types\n",
    "\t\tfmt.println(ok)\n",
    "\t\tif .Saturday in e {\n",
    "\t\t\tfmt.println(\"Saturday in\", e)\n",
    "\t\t}\n",
    "\t\tX :: .Saturday in WEEKEND // Constant evaluation\n",
    "\t\tfmt.println(X)\n",
    "\t\tfmt.println(\"Cardinality:\", card(e))\n",
    "\t}\n",
    "\t{\n",
    "\t\tx: bit_set['A'..='Z']\n",
    "\t\t#assert(size_of(x) == size_of(u32))\n",
    "\t\ty: bit_set[0..=8; u16]\n",
    "\t\tfmt.println(typeid_of(type_of(x))) // bit_set[A..=Z]\n",
    "\t\tfmt.println(typeid_of(type_of(y))) // bit_set[0..=8; u16]\n",
    "\n",
    "\t\tx += {'F'}\n",
    "\t\tassert('F' in x)\n",
    "\t\tx -= {'F'}\n",
    "\t\tassert('F' not_in x)\n",
    "\n",
    "\t\ty += {1, 4, 2}\n",
    "\t\tassert(2 in y)\n",
    "\t}\n",
    "\t{\n",
    "\t\tLetters :: bit_set['A'..='Z']\n",
    "\t\ta := Letters{'A', 'B'}\n",
    "\t\tb := Letters{'A', 'B', 'C', 'D', 'F'}\n",
    "\t\tc := Letters{'A', 'B'}\n",
    "\n",
    "\t\tassert(a <= b) // 'a' is a subset of 'b'\n",
    "\t\tassert(b >= a) // 'b' is a superset of 'a'\n",
    "\t\tassert(a < b)  // 'a' is a strict subset of 'b'\n",
    "\t\tassert(b > a)  // 'b' is a strict superset of 'a'\n",
    "\n",
    "\t\tassert(!(a < c)) // 'a' is a not strict subset of 'c'\n",
    "\t\tassert(!(c > a)) // 'c' is a not strict superset of 'a'\n",
    "\t}\n",
    "}"
   ]
  },
  {
   "cell_type": "markdown",
   "id": "f1686665-134e-4e5b-92fb-5e4af9347947",
   "metadata": {},
   "source": [
    "# DEFERRED PROCEDURE ASSOCIATIONS"
   ]
  },
  {
   "cell_type": "code",
   "execution_count": null,
   "id": "05ee202e-9f88-42ae-a213-4f4c4882f42c",
   "metadata": {},
   "outputs": [],
   "source": [
    "deferred_procedure_associations :: proc() {\n",
    "\tfmt.println(\"\\n# deferred procedure associations\")\n",
    "\n",
    "\t@(deferred_out=closure)\n",
    "\topen :: proc(s: string) -> bool {\n",
    "\t\tfmt.println(s)\n",
    "\t\treturn true\n",
    "\t}\n",
    "\n",
    "\tclosure :: proc(ok: bool) {\n",
    "\t\tfmt.println(\"Goodbye?\", ok)\n",
    "\t}\n",
    "\n",
    "\tif open(\"Welcome\") {\n",
    "\t\tfmt.println(\"Something in the middle, mate.\")\n",
    "\t}\n",
    "}"
   ]
  },
  {
   "cell_type": "markdown",
   "id": "38a29f2f-8513-4116-b06a-34f30a2eeec9",
   "metadata": {},
   "source": [
    "# REFLECTION"
   ]
  },
  {
   "cell_type": "code",
   "execution_count": null,
   "id": "777bce4a-f00f-45c6-a86c-d7d1663a1046",
   "metadata": {},
   "outputs": [],
   "source": [
    "reflection :: proc() {\n",
    "\tfmt.println(\"\\n# reflection\")\n",
    "\n",
    "\tFoo :: struct {\n",
    "\t\tx: int    `tag1`,\n",
    "\t\ty: string `json:\"y_field\"`,\n",
    "\t\tz: bool, // no tag\n",
    "\t}\n",
    "\n",
    "\tid := typeid_of(Foo)\n",
    "\tnames := reflect.struct_field_names(id)\n",
    "\ttypes := reflect.struct_field_types(id)\n",
    "\ttags  := reflect.struct_field_tags(id)\n",
    "\n",
    "\tassert(len(names) == len(types) && len(names) == len(tags))\n",
    "\n",
    "\tfmt.println(\"Foo :: struct {\")\n",
    "\tfor tag, i in tags {\n",
    "\t\tname, type := names[i], types[i]\n",
    "\t\tif tag != \"\" {\n",
    "\t\t\tfmt.printf(\"\\t%s: %T `%s`,\\n\", name, type, tag)\n",
    "\t\t} else {\n",
    "\t\t\tfmt.printf(\"\\t%s: %T,\\n\", name, type)\n",
    "\t\t}\n",
    "\t}\n",
    "\tfmt.println(\"}\")\n",
    "\n",
    "\n",
    "\tfor tag, i in tags {\n",
    "\t\tif val, ok := reflect.struct_tag_lookup(tag, \"json\"); ok {\n",
    "\t\t\tfmt.printf(\"json: %s -> %s\\n\", names[i], val)\n",
    "\t\t}\n",
    "\t}\n",
    "}"
   ]
  },
  {
   "cell_type": "markdown",
   "id": "3b2081a1-2a45-410a-b9e7-8cab0cbcf1fe",
   "metadata": {},
   "source": [
    "# QUATERNIONS"
   ]
  },
  {
   "cell_type": "code",
   "execution_count": null,
   "id": "f7af4d60-3991-474b-9309-e7330144eac8",
   "metadata": {},
   "outputs": [],
   "source": [
    "quaternions :: proc() {\n",
    "\t// Not just an April Fool's Joke any more, but a fully working thing!\n",
    "\tfmt.println(\"\\n# quaternions\")\n",
    "\n",
    "\t{ // Quaternion operations\n",
    "\t\tq := 1 + 2i + 3j + 4k\n",
    "\t\tr := quaternion(real=5, imag=6, jmag=7, kmag=8)\n",
    "\t\tt := q * r\n",
    "\t\tfmt.printf(\"(%v) * (%v) = %v\\n\", q, r, t)\n",
    "\t\tv := q / r\n",
    "\t\tfmt.printf(\"(%v) / (%v) = %v\\n\", q, r, v)\n",
    "\t\tu := q + r\n",
    "\t\tfmt.printf(\"(%v) + (%v) = %v\\n\", q, r, u)\n",
    "\t\ts := q - r\n",
    "\t\tfmt.printf(\"(%v) - (%v) = %v\\n\", q, r, s)\n",
    "\t}\n",
    "\t{ // The quaternion types\n",
    "\t\tq128: quaternion128 // 4xf32\n",
    "\t\tq256: quaternion256 // 4xf64\n",
    "\t\tq128 = quaternion(w=1, x=0, y=0, z=0)\n",
    "\t\tq256 = 1 // quaternion(x=0, y=0, z=0, w=1)\n",
    "\n",
    "\t\t// NOTE: The internal memory layout of a quaternion is xyzw\n",
    "\t}\n",
    "\t{ // Built-in procedures\n",
    "\t\tq := 1 + 2i + 3j + 4k\n",
    "\t\tfmt.println(\"q =\", q)\n",
    "\t\tfmt.println(\"real(q) =\", real(q))\n",
    "\t\tfmt.println(\"imag(q) =\", imag(q))\n",
    "\t\tfmt.println(\"jmag(q) =\", jmag(q))\n",
    "\t\tfmt.println(\"kmag(q) =\", kmag(q))\n",
    "\t\tfmt.println(\"conj(q) =\", conj(q))\n",
    "\t\tfmt.println(\"abs(q)  =\", abs(q))\n",
    "\t}\n",
    "\t{ // Conversion of a complex type to a quaternion type\n",
    "\t\tc := 1 + 2i\n",
    "\t\tq := quaternion256(c)\n",
    "\t\tfmt.println(c)\n",
    "\t\tfmt.println(q)\n",
    "\t}\n",
    "\t{ // Memory layout of Quaternions\n",
    "\t\tq := 1 + 2i + 3j + 4k\n",
    "\t\ta := transmute([4]f64)q\n",
    "\t\tfmt.println(\"Quaternion memory layout: xyzw/(ijkr)\")\n",
    "\t\tfmt.println(q) // 1.000+2.000i+3.000j+4.000k\n",
    "\t\tfmt.println(a) // [2.000, 3.000, 4.000, 1.000]\n",
    "\t}\n",
    "}"
   ]
  },
  {
   "cell_type": "markdown",
   "id": "760f255f-a5b3-4ec2-8e03-72990f656593",
   "metadata": {},
   "source": [
    "# UNROLL FOR STATEMENT"
   ]
  },
  {
   "cell_type": "code",
   "execution_count": null,
   "id": "f12ca7a6-0cb7-4e15-b3e5-e087edf7d8d6",
   "metadata": {},
   "outputs": [],
   "source": [
    "unroll_for_statement :: proc() {\n",
    "\tfmt.println(\"\\n#'#unroll for' statements\")\n",
    "\n",
    "\t// '#unroll for' works the same as if the 'inline' prefix did not\n",
    "\t// exist but these ranged loops are explicitly unrolled which can\n",
    "\t// be very very useful for certain optimizations\n",
    "\n",
    "\tfmt.println(\"Ranges\")\n",
    "\t#unroll for x, i in 1..<4 {\n",
    "\t\tfmt.println(x, i)\n",
    "\t}\n",
    "\n",
    "\tfmt.println(\"Strings\")\n",
    "\t#unroll for r, i in \"Hello, 世界\" {\n",
    "\t\tfmt.println(r, i)\n",
    "\t}\n",
    "\n",
    "\tfmt.println(\"Arrays\")\n",
    "\t#unroll for elem, idx in ([4]int{1, 4, 9, 16}) {\n",
    "\t\tfmt.println(elem, idx)\n",
    "\t}\n",
    "\n",
    "\n",
    "\tFoo_Enum :: enum {\n",
    "\t\tA = 1,\n",
    "\t\tB,\n",
    "\t\tC = 6,\n",
    "\t\tD,\n",
    "\t}\n",
    "\tfmt.println(\"Enum types\")\n",
    "\t#unroll for elem, idx in Foo_Enum {\n",
    "\t\tfmt.println(elem, idx)\n",
    "\t}\n",
    "}"
   ]
  },
  {
   "cell_type": "markdown",
   "id": "d9841a44-34fb-4f9d-b7ec-fa3cc6fc30d3",
   "metadata": {},
   "source": [
    "# WHERE CLAUSES"
   ]
  },
  {
   "cell_type": "code",
   "execution_count": null,
   "id": "b71d9669-a871-462b-a89d-a5d8aee28fd7",
   "metadata": {},
   "outputs": [],
   "source": [
    "where_clauses :: proc() {\n",
    "\tfmt.println(\"\\n#procedure 'where' clauses\")\n",
    "\n",
    "\t{ // Sanity checks\n",
    "\t\tsimple_sanity_check :: proc(x: [2]int)\n",
    "\t\t\twhere len(x) > 1,\n",
    "\t\t\t\t  type_of(x) == [2]int {\n",
    "\t\t\tfmt.println(x)\n",
    "\t\t}\n",
    "\t}\n",
    "\t{ // Parametric polymorphism checks\n",
    "\t\tcross_2d :: proc(a, b: $T/[2]$E) -> E\n",
    "\t\t\twhere intrinsics.type_is_numeric(E) {\n",
    "\t\t\treturn a.x*b.y - a.y*b.x\n",
    "\t\t}\n",
    "\t\tcross_3d :: proc(a, b: $T/[3]$E) -> T\n",
    "\t\t\twhere intrinsics.type_is_numeric(E) {\n",
    "\t\t\tx := a.y*b.z - a.z*b.y\n",
    "\t\t\ty := a.z*b.x - a.x*b.z\n",
    "\t\t\tz := a.x*b.y - a.y*b.z\n",
    "\t\t\treturn T{x, y, z}\n",
    "\t\t}\n",
    "\n",
    "\t\ta := [2]int{1, 2}\n",
    "\t\tb := [2]int{5, -3}\n",
    "\t\tfmt.println(cross_2d(a, b))\n",
    "\n",
    "\t\tx := [3]f32{1, 4, 9}\n",
    "\t\ty := [3]f32{-5, 0, 3}\n",
    "\t\tfmt.println(cross_3d(x, y))\n",
    "\n",
    "\t\t// Failure case\n",
    "\t\t// i := [2]bool{true, false}\n",
    "\t\t// j := [2]bool{false, true}\n",
    "\t\t// fmt.println(cross_2d(i, j))\n",
    "\n",
    "\t}\n",
    "\n",
    "\t{ // Procedure groups usage\n",
    "\t\tfoo :: proc(x: [$N]int) -> bool\n",
    "\t\t\twhere N > 2 {\n",
    "\t\t\tfmt.println(#procedure, \"was called with the parameter\", x)\n",
    "\t\t\treturn true\n",
    "\t\t}\n",
    "\n",
    "\t\tbar :: proc(x: [$N]int) -> bool\n",
    "\t\t\twhere 0 < N,\n",
    "\t\t\t\t  N <= 2 {\n",
    "\t\t\tfmt.println(#procedure, \"was called with the parameter\", x)\n",
    "\t\t\treturn false\n",
    "\t\t}\n",
    "\n",
    "\t\tbaz :: proc{foo, bar}\n",
    "\n",
    "\t\tx := [3]int{1, 2, 3}\n",
    "\t\ty := [2]int{4, 9}\n",
    "\t\tok_x := baz(x)\n",
    "\t\tok_y := baz(y)\n",
    "\t\tassert(ok_x == true)\n",
    "\t\tassert(ok_y == false)\n",
    "\t}\n",
    "\n",
    "\t{ // Record types\n",
    "\t\tFoo :: struct($T: typeid, $N: int)\n",
    "\t\t\twhere intrinsics.type_is_integer(T),\n",
    "\t\t\t\t  N > 2 {\n",
    "\t\t\tx: [N]T,\n",
    "\t\t\ty: [N-2]T,\n",
    "\t\t}\n",
    "\n",
    "\t\tT :: i32\n",
    "\t\tN :: 5\n",
    "\t\tf: Foo(T, N)\n",
    "\t\t#assert(size_of(f) == (N+N-2)*size_of(T))\n",
    "\t}\n",
    "}"
   ]
  },
  {
   "cell_type": "markdown",
   "id": "49112a16-b918-4ace-b9b6-24132dbe783d",
   "metadata": {},
   "source": [
    "# FOREIGN SYSTEM"
   ]
  },
  {
   "cell_type": "code",
   "execution_count": null,
   "id": "d36d93de-578a-4250-a40b-792cba45ce71",
   "metadata": {},
   "outputs": [],
   "source": [
    "when ODIN_OS == .Windows {\n",
    "\tforeign import kernel32 \"system:kernel32.lib\"\n",
    "}\n",
    "\n",
    "foreign_system :: proc() {\n",
    "\tfmt.println(\"\\n#foreign system\")\n",
    "\twhen ODIN_OS == .Windows {\n",
    "\t\t// It is sometimes necessarily to interface with foreign code,\n",
    "\t\t// such as a C library. In Odin, this is achieved through the\n",
    "\t\t// foreign system. You can “import” a library into the code\n",
    "\t\t// using the same semantics as a normal import declaration.\n",
    "\n",
    "\t\t// This foreign import declaration will create a\n",
    "\t\t// “foreign import name” which can then be used to associate\n",
    "\t\t// entities within a foreign block.\n",
    "\n",
    "\t\tforeign kernel32 {\n",
    "\t\t\tExitProcess :: proc \"stdcall\" (exit_code: u32) ---\n",
    "\t\t}\n",
    "\n",
    "\t\t// Foreign procedure declarations have the cdecl/c calling\n",
    "\t\t// convention by default unless specified otherwise. Due to\n",
    "\t\t// foreign procedures do not have a body declared within this\n",
    "\t\t// code, you need append the --- symbol to the end to distinguish\n",
    "\t\t// it as a procedure literal without a body and not a procedure type.\n",
    "\n",
    "\t\t// The attributes system can be used to change specific properties\n",
    "\t\t// of entities declared within a block:\n",
    "\n",
    "\t\t@(default_calling_convention = \"std\")\n",
    "\t\tforeign kernel32 {\n",
    "\t\t\t@(link_name=\"GetLastError\") get_last_error :: proc() -> i32 ---\n",
    "\t\t}\n",
    "\n",
    "\t\t// Example using the link_prefix attribute\n",
    "\t\t@(default_calling_convention = \"std\")\n",
    "\t\t@(link_prefix = \"Get\")\n",
    "\t\tforeign kernel32 {\n",
    "\t\t\tLastError :: proc() -> i32 ---\n",
    "\t\t}\n",
    "\t}\n",
    "}"
   ]
  },
  {
   "cell_type": "markdown",
   "id": "41ace328-e6aa-4c13-8170-bc997655d34f",
   "metadata": {},
   "source": [
    "# RANGED FIELDS FOR ARRAY COMPOUND LITERALS"
   ]
  },
  {
   "cell_type": "code",
   "execution_count": null,
   "id": "23657f05-84e2-42e6-9716-58f40db3b886",
   "metadata": {},
   "outputs": [],
   "source": [
    "ranged_fields_for_array_compound_literals :: proc() {\n",
    "\tfmt.println(\"\\n#ranged fields for array compound literals\")\n",
    "\t{ // Normal Array Literal\n",
    "\t\tfoo := [?]int{1, 4, 9, 16}\n",
    "\t\tfmt.println(foo)\n",
    "\t}\n",
    "\t{ // Indexed\n",
    "\t\tfoo := [?]int{\n",
    "\t\t\t3 = 16,\n",
    "\t\t\t1 = 4,\n",
    "\t\t\t2 = 9,\n",
    "\t\t\t0 = 1,\n",
    "\t\t}\n",
    "\t\tfmt.println(foo)\n",
    "\t}\n",
    "\t{ // Ranges\n",
    "\t\ti := 2\n",
    "\t\tfoo := [?]int {\n",
    "\t\t\t0 = 123,\n",
    "\t\t\t5..=9 = 54,\n",
    "\t\t\t10..<16 = i*3 + (i-1)*2,\n",
    "\t\t}\n",
    "\t\t#assert(len(foo) == 16)\n",
    "\t\tfmt.println(foo) // [123, 0, 0, 0, 0, 54, 54, 54, 54, 54, 8, 8, 8, 8, 8]\n",
    "\t}\n",
    "\t{ // Slice and Dynamic Array support\n",
    "\t\ti := 2\n",
    "\t\tfoo_slice := []int {\n",
    "\t\t\t0 = 123,\n",
    "\t\t\t5..=9 = 54,\n",
    "\t\t\t10..<16 = i*3 + (i-1)*2,\n",
    "\t\t}\n",
    "\t\tassert(len(foo_slice) == 16)\n",
    "\t\tfmt.println(foo_slice) // [123, 0, 0, 0, 0, 54, 54, 54, 54, 54, 8, 8, 8, 8, 8]\n",
    "\n",
    "\t\tfoo_dynamic_array := [dynamic]int {\n",
    "\t\t\t0 = 123,\n",
    "\t\t\t5..=9 = 54,\n",
    "\t\t\t10..<16 = i*3 + (i-1)*2,\n",
    "\t\t}\n",
    "\t\tassert(len(foo_dynamic_array) == 16)\n",
    "\t\tfmt.println(foo_dynamic_array) // [123, 0, 0, 0, 0, 54, 54, 54, 54, 54, 8, 8, 8, 8, 8]\n",
    "\t}\n",
    "}"
   ]
  },
  {
   "cell_type": "markdown",
   "id": "bb6869d6-32e4-4864-a0d7-668c7a1e5563",
   "metadata": {},
   "source": [
    "# DEPRECATED ATTRIBUTE"
   ]
  },
  {
   "cell_type": "code",
   "execution_count": null,
   "id": "77ee3d48-9f25-429e-86c3-51941ed1fd3c",
   "metadata": {},
   "outputs": [],
   "source": [
    "deprecated_attribute :: proc() {\n",
    "\t@(deprecated=\"Use foo_v2 instead\")\n",
    "\tfoo_v1 :: proc(x: int) {\n",
    "\t\tfmt.println(\"foo_v1\")\n",
    "\t}\n",
    "\tfoo_v2 :: proc(x: int) {\n",
    "\t\tfmt.println(\"foo_v2\")\n",
    "\t}\n",
    "\n",
    "\t// NOTE: Uncomment to see the warning messages\n",
    "\t// foo_v1(1)\n",
    "}"
   ]
  },
  {
   "cell_type": "markdown",
   "id": "f456d268-fa56-46e1-89ed-2dde9ab0741c",
   "metadata": {},
   "source": [
    "# RANGE STATEMENTS WITH MULTIPLE RETURN VALUES"
   ]
  },
  {
   "cell_type": "code",
   "execution_count": null,
   "id": "42844a2b-01f9-4bd4-aee3-037e555ae50c",
   "metadata": {},
   "outputs": [],
   "source": [
    "range_statements_with_multiple_return_values :: proc() {\n",
    "\tfmt.println(\"\\n#range statements with multiple return values\")\n",
    "\tMy_Iterator :: struct {\n",
    "\t\tindex: int,\n",
    "\t\tdata:  []i32,\n",
    "\t}\n",
    "\tmake_my_iterator :: proc(data: []i32) -> My_Iterator {\n",
    "\t\treturn My_Iterator{data = data}\n",
    "\t}\n",
    "\tmy_iterator :: proc(it: ^My_Iterator) -> (val: i32, idx: int, cond: bool) {\n",
    "\t\tif cond = it.index < len(it.data); cond {\n",
    "\t\t\tval = it.data[it.index]\n",
    "\t\t\tidx = it.index\n",
    "\t\t\tit.index += 1\n",
    "\t\t}\n",
    "\t\treturn\n",
    "\t}\n",
    "\n",
    "\tdata := make([]i32, 6)\n",
    "\tfor _, i in data {\n",
    "\t\tdata[i] = i32(i*i)\n",
    "\t}\n",
    "\n",
    "\t{ // Manual Style\n",
    "\t\tit := make_my_iterator(data)\n",
    "\t\tfor {\n",
    "\t\t\tval, _, cond := my_iterator(&it)\n",
    "\t\t\tif !cond {\n",
    "\t\t\t\tbreak\n",
    "\t\t\t}\n",
    "\t\t\tfmt.println(val)\n",
    "\t\t}\n",
    "\t}\n",
    "\t{ // or_break\n",
    "\t\tit := make_my_iterator(data)\n",
    "\t\tloop: for {\n",
    "\t\t\tval, _ := my_iterator(&it) or_break loop\n",
    "\t\t\tfmt.println(val)\n",
    "\t\t}\n",
    "\t}\n",
    "\t{ // first value\n",
    "\t\tit := make_my_iterator(data)\n",
    "\t\tfor val in my_iterator(&it) {\n",
    "\t\t\tfmt.println(val)\n",
    "\t\t}\n",
    "\t}\n",
    "\t{ // first and second value\n",
    "\t\tit := make_my_iterator(data)\n",
    "\t\tfor val, idx in my_iterator(&it) {\n",
    "\t\t\tfmt.println(val, idx)\n",
    "\t\t}\n",
    "\t}\n",
    "}"
   ]
  },
  {
   "cell_type": "markdown",
   "id": "db4f7a0d-5d30-47b7-a573-cccb630dedf3",
   "metadata": {},
   "source": [
    "# SOA STRUCT LAYOUT"
   ]
  },
  {
   "cell_type": "code",
   "execution_count": null,
   "id": "bc894057-705b-435d-9c1c-c029ec4479f6",
   "metadata": {},
   "outputs": [],
   "source": [
    "soa_struct_layout :: proc() {\n",
    "\tfmt.println(\"\\n#SOA Struct Layout\")\n",
    "\n",
    "\t{\n",
    "\t\tVector3 :: struct {x, y, z: f32}\n",
    "\n",
    "\t\tN :: 2\n",
    "\t\tv_aos: [N]Vector3\n",
    "\t\tv_aos[0].x = 1\n",
    "\t\tv_aos[0].y = 4\n",
    "\t\tv_aos[0].z = 9\n",
    "\n",
    "\t\tfmt.println(len(v_aos))\n",
    "\t\tfmt.println(v_aos[0])\n",
    "\t\tfmt.println(v_aos[0].x)\n",
    "\t\tfmt.println(&v_aos[0].x)\n",
    "\n",
    "\t\tv_aos[1] = {0, 3, 4}\n",
    "\t\tv_aos[1].x = 2\n",
    "\t\tfmt.println(v_aos[1])\n",
    "\t\tfmt.println(v_aos)\n",
    "\n",
    "\t\tv_soa: #soa[N]Vector3\n",
    "\n",
    "\t\tv_soa[0].x = 1\n",
    "\t\tv_soa[0].y = 4\n",
    "\t\tv_soa[0].z = 9\n",
    "\n",
    "\n",
    "\t\t// Same syntax as AOS and treat as if it was an array\n",
    "\t\tfmt.println(len(v_soa))\n",
    "\t\tfmt.println(v_soa[0])\n",
    "\t\tfmt.println(v_soa[0].x)\n",
    "\t\tfmt.println(&v_soa[0].x)\n",
    "\t\tv_soa[1] = {0, 3, 4}\n",
    "\t\tv_soa[1].x = 2\n",
    "\t\tfmt.println(v_soa[1])\n",
    "\n",
    "\t\t// Can use SOA syntax if necessary\n",
    "\t\tv_soa.x[0] = 1\n",
    "\t\tv_soa.y[0] = 4\n",
    "\t\tv_soa.z[0] = 9\n",
    "\t\tfmt.println(v_soa.x[0])\n",
    "\n",
    "\t\t// Same pointer addresses with both syntaxes\n",
    "\t\tassert(&v_soa[0].x == &v_soa.x[0])\n",
    "\n",
    "\n",
    "\t\t// Same fmt printing\n",
    "\t\tfmt.println(v_aos)\n",
    "\t\tfmt.println(v_soa)\n",
    "\t}\n",
    "\t{\n",
    "\t\t// Works with arrays of length <= 4 which have the implicit fields xyzw/rgba\n",
    "\t\tVector3 :: distinct [3]f32\n",
    "\n",
    "\t\tN :: 2\n",
    "\t\tv_aos: [N]Vector3\n",
    "\t\tv_aos[0].x = 1\n",
    "\t\tv_aos[0].y = 4\n",
    "\t\tv_aos[0].z = 9\n",
    "\n",
    "\t\tv_soa: #soa[N]Vector3\n",
    "\n",
    "\t\tv_soa[0].x = 1\n",
    "\t\tv_soa[0].y = 4\n",
    "\t\tv_soa[0].z = 9\n",
    "\t}\n",
    "\t{\n",
    "\t\t// SOA Slices\n",
    "\t\t// Vector3 :: struct {x, y, z: f32}\n",
    "\t\tVector3 :: struct {x: i8, y: i16, z: f32}\n",
    "\n",
    "\t\tN :: 3\n",
    "\t\tv: #soa[N]Vector3\n",
    "\t\tv[0].x = 1\n",
    "\t\tv[0].y = 4\n",
    "\t\tv[0].z = 9\n",
    "\n",
    "\t\ts: #soa[]Vector3\n",
    "\t\ts = v[:]\n",
    "\t\tassert(len(s) == N)\n",
    "\t\tfmt.println(s)\n",
    "\t\tfmt.println(s[0].x)\n",
    "\n",
    "\t\ta := s[1:2]\n",
    "\t\tassert(len(a) == 1)\n",
    "\t\tfmt.println(a)\n",
    "\n",
    "\t\td: #soa[dynamic]Vector3\n",
    "\n",
    "\t\tappend_soa(&d, Vector3{1, 2, 3}, Vector3{4, 5, 9}, Vector3{-4, -4, 3})\n",
    "\t\tfmt.println(d)\n",
    "\t\tfmt.println(len(d))\n",
    "\t\tfmt.println(cap(d))\n",
    "\t\tfmt.println(d[:])\n",
    "\t}\n",
    "\t{ // soa_zip and soa_unzip\n",
    "\t\tfmt.println(\"\\nsoa_zip and soa_unzip\")\n",
    "\n",
    "\t\tx := []i32{1, 3, 9}\n",
    "\t\ty := []f32{2, 4, 16}\n",
    "\t\tz := []b32{true, false, true}\n",
    "\n",
    "\t\t// produce an #soa slice the normal slices passed\n",
    "\t\ts := soa_zip(a=x, b=y, c=z)\n",
    "\n",
    "\t\t// iterate over the #soa slice\n",
    "\t\tfor v, i in s {\n",
    "\t\t\tfmt.println(v, i) // exactly the same as s[i]\n",
    "\t\t\t// NOTE: 'v' is NOT a temporary value but has a specialized addressing mode\n",
    "\t\t\t// which means that when accessing v.a etc, it does the correct transformation\n",
    "\t\t\t// internally:\n",
    "\t\t\t//         s[i].a === s.a[i]\n",
    "\t\t\tfmt.println(v.a, v.b, v.c)\n",
    "\t\t}\n",
    "\n",
    "\t\t// Recover the slices from the #soa slice\n",
    "\t\ta, b, c := soa_unzip(s)\n",
    "\t\tfmt.println(a, b, c)\n",
    "\t}\n",
    "}"
   ]
  },
  {
   "cell_type": "markdown",
   "id": "255bfa7d-1e8a-4101-9767-6a9659bf4d25",
   "metadata": {},
   "source": [
    "# CONSTANT LITERAL EXPRESSIONS"
   ]
  },
  {
   "cell_type": "code",
   "execution_count": null,
   "id": "cd18da2c-b0ac-4783-82e3-e41975ee1190",
   "metadata": {},
   "outputs": [],
   "source": [
    "constant_literal_expressions :: proc() {\n",
    "\tfmt.println(\"\\n#constant literal expressions\")\n",
    "\n",
    "\tBar :: struct {x, y: f32}\n",
    "\tFoo :: struct {a, b: int, using c: Bar}\n",
    "\n",
    "\tFOO_CONST :: Foo{b = 2, a = 1, c = {3, 4}}\n",
    "\n",
    "\n",
    "\tfmt.println(FOO_CONST.a)\n",
    "\tfmt.println(FOO_CONST.b)\n",
    "\tfmt.println(FOO_CONST.c)\n",
    "\tfmt.println(FOO_CONST.c.x)\n",
    "\tfmt.println(FOO_CONST.c.y)\n",
    "\tfmt.println(FOO_CONST.x) // using works as expected\n",
    "\tfmt.println(FOO_CONST.y)\n",
    "\n",
    "\tfmt.println(\"-------\")\n",
    "\n",
    "\tARRAY_CONST :: [3]int{1 = 4, 2 = 9, 0 = 1}\n",
    "\n",
    "\tfmt.println(ARRAY_CONST[0])\n",
    "\tfmt.println(ARRAY_CONST[1])\n",
    "\tfmt.println(ARRAY_CONST[2])\n",
    "\n",
    "\tfmt.println(\"-------\")\n",
    "\n",
    "\tFOO_ARRAY_DEFAULTS :: [3]Foo{{}, {}, {}}\n",
    "\tfmt.println(FOO_ARRAY_DEFAULTS[2].x)\n",
    "\n",
    "\tfmt.println(\"-------\")\n",
    "\n",
    "\tBaz :: enum{A=5, B, C, D}\n",
    "\tENUM_ARRAY_CONST :: [Baz]int{.A ..= .C = 1, .D = 16}\n",
    "\n",
    "\tfmt.println(ENUM_ARRAY_CONST[.A])\n",
    "\tfmt.println(ENUM_ARRAY_CONST[.B])\n",
    "\tfmt.println(ENUM_ARRAY_CONST[.C])\n",
    "\tfmt.println(ENUM_ARRAY_CONST[.D])\n",
    "\n",
    "\tfmt.println(\"-------\")\n",
    "\n",
    "\tSparse_Baz :: enum{A=5, B, C, D=16}\n",
    "\t#assert(len(Sparse_Baz) < len(#sparse[Sparse_Baz]int))\n",
    "\tSPARSE_ENUM_ARRAY_CONST :: #sparse[Sparse_Baz]int{.A ..= .C = 1, .D = 16}\n",
    "\n",
    "\tfmt.println(SPARSE_ENUM_ARRAY_CONST[.A])\n",
    "\tfmt.println(SPARSE_ENUM_ARRAY_CONST[.B])\n",
    "\tfmt.println(SPARSE_ENUM_ARRAY_CONST[.C])\n",
    "\tfmt.println(SPARSE_ENUM_ARRAY_CONST[.D])\n",
    "\n",
    "\tfmt.println(\"-------\")\n",
    "\n",
    "\n",
    "\tSTRING_CONST :: \"Hellope!\"\n",
    "\n",
    "\tfmt.println(STRING_CONST[0])\n",
    "\tfmt.println(STRING_CONST[2])\n",
    "\tfmt.println(STRING_CONST[3])\n",
    "\n",
    "\tfmt.println(STRING_CONST[0:5])\n",
    "\tfmt.println(STRING_CONST[3:][:4])\n",
    "}"
   ]
  },
  {
   "cell_type": "markdown",
   "id": "7bb6c30e-9352-436e-aa4e-f4609e0948fc",
   "metadata": {},
   "source": [
    "# UNION MAYBE"
   ]
  },
  {
   "cell_type": "code",
   "execution_count": null,
   "id": "15ef9600-8a9c-4b3d-8c05-7251897150b6",
   "metadata": {},
   "outputs": [],
   "source": [
    "union_maybe :: proc() {\n",
    "\tfmt.println(\"\\n#union based maybe\")\n",
    "\n",
    "\t// NOTE: This is already built-in, and this is just a reimplementation to explain the behaviour\n",
    "\tMaybe :: union($T: typeid) {T}\n",
    "\n",
    "\ti: Maybe(u8)\n",
    "\tp: Maybe(^u8) // No tag is stored for pointers, nil is the sentinel value\n",
    "\n",
    "\t// Tag size will be as small as needed for the number of variants\n",
    "\t#assert(size_of(i) == size_of(u8) + size_of(u8))\n",
    "\t// No need to store a tag here, the `nil` state is shared with the variant's `nil`\n",
    "\t#assert(size_of(p) == size_of(^u8))\n",
    "\n",
    "\ti = 123\n",
    "\tx := i.?\n",
    "\ty, y_ok := p.?\n",
    "\tp = &x\n",
    "\tz, z_ok := p.?\n",
    "\n",
    "\tfmt.println(i, p)\n",
    "\tfmt.println(x, &x)\n",
    "\tfmt.println(y, y_ok)\n",
    "\tfmt.println(z, z_ok)\n",
    "}\n"
   ]
  },
  {
   "cell_type": "markdown",
   "id": "148472de-a48d-40be-aaf1-bd133fdb02d5",
   "metadata": {},
   "source": [
    "# EXPLICIT CONTEXT DEFINITION"
   ]
  },
  {
   "cell_type": "code",
   "execution_count": null,
   "id": "1b5526b9-da55-4629-87e1-3ff62d473b87",
   "metadata": {},
   "outputs": [],
   "source": [
    "explicit_context_definition :: proc \"c\" () {\n",
    "\t// Try commenting the following statement out below\n",
    "\tcontext = runtime.default_context()\n",
    "\n",
    "\tfmt.println(\"\\n#explicit context definition\")\n",
    "\tdummy_procedure()\n",
    "}"
   ]
  },
  {
   "cell_type": "markdown",
   "id": "693b0ef6-cb66-480b-bca0-50f3b5611f48",
   "metadata": {},
   "source": [
    "# OR_ELSE OPERATOR"
   ]
  },
  {
   "cell_type": "code",
   "execution_count": null,
   "id": "10764f80-02c5-4d44-bf48-4eac03f4e903",
   "metadata": {},
   "outputs": [],
   "source": [
    "or_else_operator :: proc() {\n",
    "\tfmt.println(\"\\n#'or_else'\")\n",
    "\t{\n",
    "\t\tm: map[string]int\n",
    "\t\ti: int\n",
    "\t\tok: bool\n",
    "\n",
    "\t\tif i, ok = m[\"hellope\"]; !ok {\n",
    "\t\t\ti = 123\n",
    "\t\t}\n",
    "\t\t// The above can be mapped to 'or_else'\n",
    "\t\ti = m[\"hellope\"] or_else 123\n",
    "\n",
    "\t\tassert(i == 123)\n",
    "\t}\n",
    "\t{\n",
    "\t\t// 'or_else' can be used with type assertions too, as they\n",
    "\t\t// have optional ok semantics\n",
    "\t\tv: union{int, f64}\n",
    "\t\ti: int\n",
    "\t\ti = v.(int) or_else 123\n",
    "\t\ti = v.? or_else 123 // Type inference magic\n",
    "\t\tassert(i == 123)\n",
    "\n",
    "\t\tm: Maybe(int)\n",
    "\t\ti = m.? or_else 456\n",
    "\t\tassert(i == 456)\n",
    "\t}\n",
    "}"
   ]
  },
  {
   "cell_type": "markdown",
   "id": "45f5f5f8-4b27-4309-af13-20550f9e0e5e",
   "metadata": {},
   "source": [
    "# OR_RETURN OPERATOR"
   ]
  },
  {
   "cell_type": "code",
   "execution_count": null,
   "id": "67bb6581-1344-448e-82fe-f97cdbc8617e",
   "metadata": {},
   "outputs": [],
   "source": [
    "or_return_operator :: proc() {\n",
    "\tfmt.println(\"\\n#'or_return'\")\n",
    "\t// The concept of 'or_return' will work by popping off the end value in a multiple\n",
    "\t// valued expression and checking whether it was not 'nil' or 'false', and if so,\n",
    "\t// set the end return value to value if possible. If the procedure only has one\n",
    "\t// return value, it will do a simple return. If the procedure had multiple return\n",
    "\t// values, 'or_return' will require that all parameters be named so that the end\n",
    "\t// value could be assigned to by name and then an empty return could be called.\n",
    "\n",
    "\tError :: enum {\n",
    "\t\tNone,\n",
    "\t\tSomething_Bad,\n",
    "\t\tSomething_Worse,\n",
    "\t\tThe_Worst,\n",
    "\t\tYour_Mum,\n",
    "\t}\n",
    "\n",
    "\tcaller_1 :: proc() -> Error {\n",
    "\t\treturn .None\n",
    "\t}\n",
    "\n",
    "\tcaller_2 :: proc() -> (int, Error) {\n",
    "\t\treturn 123, .None\n",
    "\t}\n",
    "\tcaller_3 :: proc() -> (int, int, Error) {\n",
    "\t\treturn 123, 345, .None\n",
    "\t}\n",
    "\n",
    "\tfoo_1 :: proc() -> Error {\n",
    "\t\t// This can be a common idiom in many code bases\n",
    "\t\tn0, err := caller_2()\n",
    "\t\tif err != nil {\n",
    "\t\t\treturn err\n",
    "\t\t}\n",
    "\n",
    "\t\t// The above idiom can be transformed into the following\n",
    "\t\tn1 := caller_2() or_return\n",
    "\n",
    "\n",
    "\t\t// And if the expression is 1-valued, it can be used like this\n",
    "\t\tcaller_1() or_return\n",
    "\t\t// which is functionally equivalent to\n",
    "\t\tif err1 := caller_1(); err1 != nil {\n",
    "\t\t\treturn err1\n",
    "\t\t}\n",
    "\n",
    "\t\t// Multiple return values still work with 'or_return' as it only\n",
    "\t\t// pops off the end value in the multi-valued expression\n",
    "\t\tn0, n1 = caller_3() or_return\n",
    "\n",
    "\t\treturn .None\n",
    "\t}\n",
    "\tfoo_2 :: proc() -> (n: int, err: Error) {\n",
    "\t\t// It is more common that your procedure returns multiple values\n",
    "\t\t// If 'or_return' is used within a procedure multiple parameters (2+),\n",
    "\t\t// then all the parameters must be named so that the remaining parameters\n",
    "\t\t// so that a bare 'return' statement can be used\n",
    "\n",
    "\t\t// This can be a common idiom in many code bases\n",
    "\t\tx: int\n",
    "\t\tx, err = caller_2()\n",
    "\t\tif err != nil {\n",
    "\t\t\treturn\n",
    "\t\t}\n",
    "\n",
    "\t\t// The above idiom can be transformed into the following\n",
    "\t\ty := caller_2() or_return\n",
    "\t\t_ = y\n",
    "\n",
    "\t\t// And if the expression is 1-valued, it can be used like this\n",
    "\t\tcaller_1() or_return\n",
    "\n",
    "\t\t// which is functionally equivalent to\n",
    "\t\tif err1 := caller_1(); err1 != nil {\n",
    "\t\t\terr = err1\n",
    "\t\t\treturn\n",
    "\t\t}\n",
    "\n",
    "\t\t// If using a non-bare 'return' statement is required, setting the return values\n",
    "\t\t// using the normal idiom is a better choice and clearer to read.\n",
    "\t\tif z, zerr := caller_2(); zerr != nil {\n",
    "\t\t\treturn -345 * z, zerr\n",
    "\t\t}\n",
    "\n",
    "\t\tdefer if err != nil {\n",
    "\t\t\tfmt.println(\"Error in\", #procedure, \":\" , err)\n",
    "\t\t}\n",
    "\n",
    "\t\tn = 123\n",
    "\t\treturn\n",
    "\t}\n",
    "\n",
    "\tfoo_1()\n",
    "\tfoo_2()\n",
    "}"
   ]
  },
  {
   "cell_type": "markdown",
   "id": "55b4fcb7-2b2f-4124-8ebb-e5036979bde9",
   "metadata": {},
   "source": [
    "# OR_BREAK AND OR_CONTINUE OPERATORS"
   ]
  },
  {
   "cell_type": "code",
   "execution_count": null,
   "id": "5203984a-677e-4c23-b7d1-7379e9538d82",
   "metadata": {},
   "outputs": [],
   "source": [
    "or_break_and_or_continue_operators :: proc() {\n",
    "\tfmt.println(\"\\n#'or_break' and 'or_continue'\")\n",
    "\t// The concept of 'or_break' and 'or_continue' is very similar to that of 'or_return'.\n",
    "\t// The difference is that unlike 'or_return', the value does not get returned from\n",
    "\t// the current procedure but rather discarded if it is 'false' or not 'nil', and then\n",
    "\t// the specified branch (i.e. break or continue).\n",
    "\t// The or branch expression can be labelled if a specific statement needs to be used.\n",
    "\n",
    "\tError :: enum {\n",
    "\t\tNone,\n",
    "\t\tSomething_Bad,\n",
    "\t\tSomething_Worse,\n",
    "\t\tThe_Worst,\n",
    "\t\tYour_Mum,\n",
    "\t}\n",
    "\n",
    "\tcaller_1 :: proc() -> Error {\n",
    "\t\treturn .Something_Bad\n",
    "\t}\n",
    "\n",
    "\tcaller_2 :: proc() -> (int, Error) {\n",
    "\t\treturn 123, .Something_Worse\n",
    "\t}\n",
    "\tcaller_3 :: proc() -> (int, int, Error) {\n",
    "\t\treturn 123, 345, .None\n",
    "\t}\n",
    "\n",
    "\tfor { // common approach\n",
    "\t\terr := caller_1()\n",
    "\t\tif err != nil {\n",
    "\t\t\tbreak\n",
    "\t\t}\n",
    "\t}\n",
    "\tfor { // or_break approach\n",
    "\t\tcaller_1() or_break\n",
    "\t}\n",
    "\n",
    "\tfor { // or_break approach with multiple values\n",
    "\t\tn := caller_2() or_break\n",
    "\t\t_ = n\n",
    "\t}\n",
    "\n",
    "\tloop: for { // or_break approach with named label\n",
    "\t\tn := caller_2() or_break loop\n",
    "\t\t_ = n\n",
    "\t}\n",
    "\n",
    "\tfor { // or_continue\n",
    "\t\tx, y := caller_3() or_continue\n",
    "\t\t_, _ = x, y\n",
    "\n",
    "\t\tbreak\n",
    "\t}\n",
    "\n",
    "\tcontinue_loop: for { // or_continue with named label\n",
    "\t\tx, y := caller_3() or_continue continue_loop\n",
    "\t\t_, _ = x, y\n",
    "\n",
    "\t\tbreak\n",
    "\t}\n",
    "\n",
    "}"
   ]
  },
  {
   "cell_type": "markdown",
   "id": "80ac5a59-45be-4f0d-a1c5-df60a2cbee3c",
   "metadata": {},
   "source": [
    "# ARBITRARY PRECISION MATHEMATICS"
   ]
  },
  {
   "cell_type": "code",
   "execution_count": null,
   "id": "698736f5-636f-4bbc-9fb0-2a47c55bb07d",
   "metadata": {},
   "outputs": [],
   "source": [
    "arbitrary_precision_mathematics :: proc() {\n",
    "\tfmt.println(\"\\n# core:math/big\")\n",
    "\n",
    "\tprint_bigint :: proc(name: string, a: ^big.Int, base := i8(10), print_name := true, newline := true, print_extra_info := true) {\n",
    "\t\tbig.assert_if_nil(a)\n",
    "\n",
    "\t\tas, err := big.itoa(a, base)\n",
    "\t\tdefer delete(as)\n",
    "\n",
    "\t\tcb := big.internal_count_bits(a)\n",
    "\t\tif print_name {\n",
    "\t\t\tfmt.printf(name)\n",
    "\t\t}\n",
    "\t\tif err != nil {\n",
    "\t\t\tfmt.printf(\" (Error: %v) \", err)\n",
    "\t\t}\n",
    "\t\tfmt.printf(as)\n",
    "\t\tif print_extra_info {\n",
    "\t\t\tfmt.printf(\" (base: %v, bits: %v, digits: %v)\", base, cb, a.used)\n",
    "\t\t}\n",
    "\t\tif newline {\n",
    "\t\t\tfmt.println()\n",
    "\t\t}\n",
    "\t}\n",
    "\n",
    "\ta, b, c, d, e, f, res := &big.Int{}, &big.Int{}, &big.Int{}, &big.Int{}, &big.Int{}, &big.Int{}, &big.Int{}\n",
    "\tdefer big.destroy(a, b, c, d, e, f, res)\n",
    "\n",
    "\t// How many bits should the random prime be?\n",
    "\tbits   := 64\n",
    "\t// Number of Rabin-Miller trials, -1 for automatic.\n",
    "\ttrials := -1\n",
    "\n",
    "\t// Default prime generation flags\n",
    "\tflags := big.Primality_Flags{}\n",
    "\n",
    "\terr := big.internal_random_prime(a, bits, trials, flags)\n",
    "\tif err != nil {\n",
    "\t\tfmt.printf(\"Error %v while generating random prime.\\n\", err)\n",
    "\t} else {\n",
    "\t\tprint_bigint(\"Random Prime A: \", a, 10)\n",
    "\t\tfmt.printf(\"Random number iterations until prime found: %v\\n\", big.RANDOM_PRIME_ITERATIONS_USED)\n",
    "\t}\n",
    "\n",
    "\t// If we want to pack this Int into a buffer of u32, how many do we need?\n",
    "\tcount := big.internal_int_pack_count(a, u32)\n",
    "\tbuf := make([]u32, count)\n",
    "\tdefer delete(buf)\n",
    "\n",
    "\twritten: int\n",
    "\twritten, err = big.internal_int_pack(a, buf)\n",
    "\tfmt.printf(\"\\nPacked into u32 buf: %v | err: %v | written: %v\\n\", buf, err, written)\n",
    "\n",
    "\t// If we want to pack this Int into a buffer of bytes of which only the bottom 6 bits are used, how many do we need?\n",
    "\tnails := 2\n",
    "\n",
    "\tcount = big.internal_int_pack_count(a, u8, nails)\n",
    "\tbyte_buf := make([]u8, count)\n",
    "\tdefer delete(byte_buf)\n",
    "\n",
    "\twritten, err = big.internal_int_pack(a, byte_buf, nails)\n",
    "\tfmt.printf(\"\\nPacked into buf of 6-bit bytes: %v | err: %v | written: %v\\n\", byte_buf, err, written)\n",
    "\n",
    "\n",
    "\n",
    "\t// Pick another random big Int, not necesssarily prime.\n",
    "\terr = big.random(b, 2048)\n",
    "\tprint_bigint(\"\\n2048 bit random number: \", b)\n",
    "\n",
    "\t// Calculate GCD + LCM in one fell swoop\n",
    "\tbig.gcd_lcm(c, d, a, b)\n",
    "\n",
    "\tprint_bigint(\"\\nGCD of random prime A and random number B: \", c)\n",
    "\tprint_bigint(\"\\nLCM of random prime A and random number B (in base 36): \", d, 36)\n",
    "}"
   ]
  },
  {
   "cell_type": "markdown",
   "id": "defe22ac-2aaa-4dd0-b973-501d8824a778",
   "metadata": {},
   "source": [
    "# MATRIX TYPE"
   ]
  },
  {
   "cell_type": "code",
   "execution_count": null,
   "id": "09185f53-fab8-4153-82ab-d3e733accff9",
   "metadata": {},
   "outputs": [],
   "source": [
    "matrix_type :: proc() {\n",
    "\tfmt.println(\"\\n# matrix type\")\n",
    "\t// A matrix is a mathematical type built into Odin. It is a regular array of numbers,\n",
    "\t// arranged in rows and columns\n",
    "\n",
    "\t{\n",
    "\t\t// The following represents a matrix that has 2 rows and 3 columns\n",
    "\t\tm: matrix[2, 3]f32\n",
    "\n",
    "\t\tm = matrix[2, 3]f32{\n",
    "\t\t\t1, 9, -13,\n",
    "\t\t\t20, 5, -6,\n",
    "\t\t}\n",
    "\n",
    "\t\t// Element types of integers, float, and complex numbers are supported by matrices.\n",
    "\t\t// There is no support for booleans, quaternions, or any compound type.\n",
    "\n",
    "\t\t// Indexing a matrix can be used with the matrix indexing syntax\n",
    "\t\t// This mirrors other type usages: type on the left, usage on the right\n",
    "\n",
    "\t\telem := m[1, 2] // row 1, column 2\n",
    "\t\tassert(elem == -6)\n",
    "\n",
    "\n",
    "\t\t// Scalars act as if they are scaled identity matrices\n",
    "\t\t// and can be assigned to matrices as them\n",
    "\t\tb := matrix[2, 2]f32{}\n",
    "\t\tf := f32(3)\n",
    "\t\tb = f\n",
    "\n",
    "\t\tfmt.println(\"b\", b)\n",
    "\t\tfmt.println(\"b == f\", b == f)\n",
    "\n",
    "\t}\n",
    "\n",
    "\t{ // Matrices support multiplication between matrices\n",
    "\t\ta := matrix[2, 3]f32{\n",
    "\t\t\t2, 3, 1,\n",
    "\t\t\t4, 5, 0,\n",
    "\t\t}\n",
    "\n",
    "\t\tb := matrix[3, 2]f32{\n",
    "\t\t\t1, 2,\n",
    "\t\t\t3, 4,\n",
    "\t\t\t5, 6,\n",
    "\t\t}\n",
    "\n",
    "\t\tfmt.println(\"a\", a)\n",
    "\t\tfmt.println(\"b\", b)\n",
    "\n",
    "\t\tc := a * b\n",
    "\t\t#assert(type_of(c) == matrix[2, 2]f32)\n",
    "\t\tfmt.println(\"c = a * b\", c)\n",
    "\t}\n",
    "\n",
    "\t{ // Matrices support multiplication between matrices and arrays\n",
    "\t\tm := matrix[4, 4]f32{\n",
    "\t\t\t1, 2, 3, 4,\n",
    "\t\t\t5, 5, 4, 2,\n",
    "\t\t\t0, 1, 3, 0,\n",
    "\t\t\t0, 1, 4, 1,\n",
    "\t\t}\n",
    "\n",
    "\t\tv := [4]f32{1, 5, 4, 3}\n",
    "\n",
    "\t\t// treating 'v' as a column vector\n",
    "\t\tfmt.println(\"m * v\", m * v)\n",
    "\n",
    "\t\t// treating 'v' as a row vector\n",
    "\t\tfmt.println(\"v * m\", v * m)\n",
    "\n",
    "\t\t// Support with non-square matrices\n",
    "\t\ts := matrix[2, 4]f32{ // [4][2]f32\n",
    "\t\t\t2, 4, 3, 1,\n",
    "\t\t\t7, 8, 6, 5,\n",
    "\t\t}\n",
    "\n",
    "\t\tw := [2]f32{1, 2}\n",
    "\t\tr: [4]f32 = w * s\n",
    "\t\tfmt.println(\"r\", r)\n",
    "\t}\n",
    "\n",
    "\t{ // Component-wise operations\n",
    "\t\t// if the element type supports it\n",
    "\t\t// Not support for '/', '%', or '%%' operations\n",
    "\n",
    "\t\ta := matrix[2, 2]i32{\n",
    "\t\t\t1, 2,\n",
    "\t\t\t3, 4,\n",
    "\t\t}\n",
    "\n",
    "\t\tb := matrix[2, 2]i32{\n",
    "\t\t\t-5,  1,\n",
    "\t\t\t 9, -7,\n",
    "\t\t}\n",
    "\n",
    "\t\tc0 := a + b\n",
    "\t\tc1 := a - b\n",
    "\t\tc2 := a & b\n",
    "\t\tc3 := a | b\n",
    "\t\tc4 := a ~ b\n",
    "\t\tc5 := a &~ b\n",
    "\n",
    "\t\t// component-wise multiplication\n",
    "\t\t// since a * b would be a standard matrix multiplication\n",
    "\t\tc6 := intrinsics.hadamard_product(a, b)\n",
    "\n",
    "\n",
    "\t\tfmt.println(\"a + b\",  c0)\n",
    "\t\tfmt.println(\"a - b\",  c1)\n",
    "\t\tfmt.println(\"a & b\",  c2)\n",
    "\t\tfmt.println(\"a | b\",  c3)\n",
    "\t\tfmt.println(\"a ~ b\",  c4)\n",
    "\t\tfmt.println(\"a &~ b\", c5)\n",
    "\t\tfmt.println(\"hadamard_product(a, b)\", c6)\n",
    "\t}\n",
    "\n",
    "\t{ // Submatrix casting square matrices\n",
    "\t\t// Casting a square matrix to another square matrix with same element type\n",
    "\t\t// is supported.\n",
    "\t\t// If the cast is to a smaller matrix type, the top-left submatrix is taken.\n",
    "\t\t// If the cast is to a larger matrix type, the matrix is extended with zeros\n",
    "\t\t// everywhere and ones in the diagonal for the unfilled elements of the\n",
    "\t\t// extended matrix.\n",
    "\n",
    "\t\tmat2 :: distinct matrix[2, 2]f32\n",
    "\t\tmat4 :: distinct matrix[4, 4]f32\n",
    "\n",
    "\t\tm2 := mat2{\n",
    "\t\t\t1, 3,\n",
    "\t\t\t2, 4,\n",
    "\t\t}\n",
    "\n",
    "\t\tm4 := mat4(m2)\n",
    "\t\tassert(m4[2, 2] == 1)\n",
    "\t\tassert(m4[3, 3] == 1)\n",
    "\t\tfmt.printf(\"m2 %#v\\n\", m2)\n",
    "\t\tfmt.println(\"m4\", m4)\n",
    "\t\tfmt.println(\"mat2(m4)\", mat2(m4))\n",
    "\t\tassert(mat2(m4) == m2)\n",
    "\n",
    "\t\tb4 := mat4{\n",
    "\t\t\t1, 2, 0, 0,\n",
    "\t\t\t3, 4, 0, 0,\n",
    "\t\t\t5, 0, 6, 0,\n",
    "\t\t\t0, 7, 0, 8,\n",
    "\t\t}\n",
    "\t\tfmt.println(\"b4\", intrinsics.matrix_flatten(b4))\n",
    "\t}\n",
    "\n",
    "\t{ // Casting non-square matrices\n",
    "\t\t// Casting a matrix to another matrix is allowed as long as they share\n",
    "\t\t// the same element type and the number of elements (rows*columns).\n",
    "\t\t// Matrices in Odin are stored in column-major order, which means\n",
    "\t\t// the casts will preserve this element order.\n",
    "\n",
    "\t\tmat2x4 :: distinct matrix[2, 4]f32\n",
    "\t\tmat4x2 :: distinct matrix[4, 2]f32\n",
    "\n",
    "\t\tx := mat2x4{\n",
    "\t\t\t1, 3, 5, 7,\n",
    "\t\t\t2, 4, 6, 8,\n",
    "\t\t}\n",
    "\n",
    "\t\ty := mat4x2(x)\n",
    "\t\tfmt.println(\"x\", x)\n",
    "\t\tfmt.println(\"y\", y)\n",
    "\t}\n",
    "\n",
    "\t// TECHNICAL INFORMATION: the internal representation of a matrix in Odin is stored\n",
    "\t// in column-major format\n",
    "\t// e.g. matrix[2, 3]f32 is internally [3][2]f32 (with different a alignment requirement)\n",
    "\t// Column-major is used in order to utilize (SIMD) vector instructions effectively on\n",
    "\t// modern hardware, if possible.\n",
    "\t//\n",
    "\t// Unlike normal arrays, matrices try to maximize alignment to allow for the (SIMD) vectorization\n",
    "\t// properties whilst keeping zero padding (either between columns or at the end of the type).\n",
    "\t//\n",
    "\t// Zero padding is a compromise for use with third-party libraries, instead of optimizing for performance.\n",
    "\t// Padding between columns was not taken even if that would have allowed each column to be loaded\n",
    "\t// individually into a SIMD register with the correct alignment properties.\n",
    "\t//\n",
    "\t// Currently, matrices are limited to a maximum of 16 elements (rows*columns), and a minimum of 1 element.\n",
    "\t// This is because matrices are stored as values (not a reference type), and thus operations on them will\n",
    "\t// be stored on the stack. Restricting the maximum element count minimizing the possibility of stack overflows.\n",
    "\n",
    "\t// 'intrinsics' Procedures (Compiler Level)\n",
    "\t// \ttranspose(m)\n",
    "\t//\t\ttransposes a matrix\n",
    "\t// \touter_product(a, b)\n",
    "\t// \t\ttakes two array-like data types and returns the outer product\n",
    "\t//\t\tof the values in a matrix\n",
    "\t// \thadamard_product(a, b)\n",
    "\t// \t\tcomponent-wise multiplication of two matrices of the same type\n",
    "\t// \tmatrix_flatten(m)\n",
    "\t//\t\tconverts the matrix into a flatten array of elements\n",
    "\t//\t\tin column-major order\n",
    "\t//\t\tExample:\n",
    "\t//\t\tm := matrix[2, 2]f32{\n",
    "\t//\t\t\tx0, x1,\n",
    "\t//\t\t\ty0, y1,\n",
    "\t//\t\t}\n",
    "\t//\t\tarray: [4]f32 = matrix_flatten(m)\n",
    "\t//\t\tassert(array == {x0, y0, x1, y1})\n",
    "\t//\tconj(x)\n",
    "\t//\t\tconjugates the elements of a matrix for complex element types only\n",
    "\n",
    "\t// Procedures in \"core:math/linalg\" and related (Runtime Level) (all square matrix procedures)\n",
    "\t// \tdeterminant(m)\n",
    "\t// \tadjugate(m)\n",
    "\t// \tinverse(m)\n",
    "\t// \tinverse_transpose(m)\n",
    "\t// \thermitian_adjoint(m)\n",
    "\t// \ttrace(m)\n",
    "\t// \tmatrix_minor(m)\n",
    "}"
   ]
  },
  {
   "cell_type": "markdown",
   "id": "a31523b2-c8f6-45f2-a84c-1db2016a4d43",
   "metadata": {},
   "source": [
    "# BIT FIELD TYPE"
   ]
  },
  {
   "cell_type": "code",
   "execution_count": null,
   "id": "c78d224d-40ac-41e1-88df-df7fbfde0160",
   "metadata": {},
   "outputs": [],
   "source": [
    "bit_field_type :: proc() {\n",
    "\tfmt.println(\"\\n# bit_field type\")\n",
    "\t// A `bit_field` is a record type in Odin that is akin to a bit-packed struct.\n",
    "\t// IMPORTNAT NOTE: `bit_field` is NOT equivalent to `bit_set` as it has different sematics and use cases.\n",
    "\n",
    "\t{\n",
    "\t\t// `bit_field` fields are accessed by using a dot:\n",
    "\t\tFoo :: bit_field u16 {          // backing type must be an integer or array of integers\n",
    "\t\t    x: i32     | 3,             // signed integers will be signed extended on use\n",
    "\t\t    y: u16     | 2 + 3,         // general expressions\n",
    "\t\t    z: My_Enum | SOME_CONSTANT, // ability to define the bit-width elsewhere\n",
    "\t\t    w: bool    | 2 when SOME_CONSTANT > 10 else 1,\n",
    "\t\t}\n",
    "\n",
    "\t\tv := Foo{}\n",
    "\t\tv.x = 3 // truncates the value to fit into 3 bits\n",
    "\t\tfmt.println(v.x) // accessing will convert `v.x` to an `i32` and do an appropriate sign extension\n",
    "\n",
    "\n",
    "\t\tMy_Enum :: enum u8 {A, B, C, D}\n",
    "\t\tSOME_CONSTANT :: 7\n",
    "\t}\n",
    "\n",
    "\t{\n",
    "\t\t// A `bit_field` is different from a struct in that you must specify the backing type.\n",
    "\t\t// This backing type must be an integer or a fixed-length array of integers.\n",
    "\t\t// This is useful if there needs to be a specific alignment or access pattern for the record.\n",
    "\n",
    "\t\tBar :: bit_field u32   {}\n",
    "\t\tBaz :: bit_field [4]u8 {}\n",
    "\t}\n",
    "\n",
    "\t// IMPORTANT NOTES:\n",
    "\t//  * If _all_ of the fields in a bit_field are 1-bit in size and they are all booleans,\n",
    "\t//    please consider using a `bit_set` instead.\n",
    "\t//  * Odin's `bit_field` and C's bit-fields might not be compatible\n",
    "\t//     * Odin's `bit_field`s have a well defined layout (Least-Significant-Bit)\n",
    "\t//     * C's bit-fields on `struct`s are undefined and are not portable across targets and compilers\n",
    "\t//  * A `bit_field`'s field type can only be one of the following:\n",
    "\t//     * Integer\n",
    "\t//     * Boolean\n",
    "\t//     * Enum\n",
    "}"
   ]
  }
 ],
 "metadata": {
  "kernelspec": {
   "display_name": "JODIN",
   "language": "odin",
   "name": "jodin"
  },
  "language_info": {
   "file_extension": ".odin",
   "mimetype": "text/odin",
   "name": "odin"
  }
 },
 "nbformat": 4,
 "nbformat_minor": 5
}

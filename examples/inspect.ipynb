{
 "cells": [
  {
   "cell_type": "code",
   "execution_count": null,
   "id": "673bd483-565d-4623-aaa7-58aa93c5afbf",
   "metadata": {},
   "outputs": [],
   "source": [
    "import \"base:runtime\"\n",
    "import \"core:fmt\"\n",
    "import \"core:image\""
   ]
  },
  {
   "cell_type": "code",
   "execution_count": null,
   "id": "db656c87-51e1-4a40-84f6-342558615ef5",
   "metadata": {},
   "outputs": [],
   "source": [
    "// Integer\n",
    "a: int = 420\n",
    "jodin.inspect_detailed(a)"
   ]
  },
  {
   "cell_type": "code",
   "execution_count": null,
   "id": "0df684ad-9d09-4665-9a96-1e37b5a68150",
   "metadata": {},
   "outputs": [],
   "source": [
    "// Rune\n",
    "b: rune = 'k'\n",
    "jodin.inspect_detailed(b)"
   ]
  },
  {
   "cell_type": "code",
   "execution_count": null,
   "id": "714f13e3-22b9-4496-9468-e05f0bfbaa40",
   "metadata": {},
   "outputs": [],
   "source": [
    "// Float\n",
    "c: f64 = 4.20\n",
    "jodin.inspect_detailed(c)"
   ]
  },
  {
   "cell_type": "code",
   "execution_count": null,
   "id": "7573afe5-5443-4a04-87de-a1c6715f2e1f",
   "metadata": {},
   "outputs": [],
   "source": [
    "// Complex\n",
    "d: complex64 = 4 + 20i\n",
    "jodin.inspect_detailed(d)"
   ]
  },
  {
   "cell_type": "code",
   "execution_count": null,
   "id": "84715c1c-cf7e-451f-ad6f-8cde24b9c1af",
   "metadata": {},
   "outputs": [],
   "source": [
    "// Quaternion\n",
    "e: quaternion64 = 1 + 2i + 3j + 4k\n",
    "jodin.inspect_detailed(e)"
   ]
  },
  {
   "cell_type": "code",
   "execution_count": null,
   "id": "4c8af154-1f1b-43b8-a394-57a4b081b08b",
   "metadata": {},
   "outputs": [],
   "source": [
    "// String\n",
    "f: string = \"text\"\n",
    "jodin.inspect_detailed(f)"
   ]
  },
  {
   "cell_type": "code",
   "execution_count": null,
   "id": "d4ef436b-0092-4eb3-b505-19ca8687fc29",
   "metadata": {},
   "outputs": [],
   "source": [
    "// Boolean\n",
    "g: bool = false\n",
    "jodin.inspect_detailed(g)"
   ]
  },
  {
   "cell_type": "code",
   "execution_count": null,
   "id": "0adfff9b-afc3-4048-9f8c-03b8d47fbc82",
   "metadata": {},
   "outputs": [],
   "source": [
    "// Type_Id\n",
    "h: typeid = int\n",
    "jodin.inspect_detailed(h)"
   ]
  },
  {
   "cell_type": "code",
   "execution_count": null,
   "id": "08e4fd9f-8a7a-4c8e-91ee-f700fd455199",
   "metadata": {},
   "outputs": [],
   "source": [
    "// Pointer\n",
    "i: ^int = new(int)\n",
    "i^ = 420\n",
    "jodin.inspect_detailed(i)"
   ]
  },
  {
   "cell_type": "code",
   "execution_count": null,
   "id": "1be9ab37-f1f1-4e35-807a-242be8fc42d3",
   "metadata": {},
   "outputs": [],
   "source": [
    "// Multi_Pointer\n",
    "j: [^]int = new(int)\n",
    "j[0] = 420\n",
    "jodin.inspect_detailed(j)"
   ]
  },
  {
   "cell_type": "code",
   "execution_count": null,
   "id": "c16f0653-41c2-43bb-8b3d-6e872f871fed",
   "metadata": {},
   "outputs": [],
   "source": [
    "// Procedure\n",
    "jodin.inspect_detailed(fmt.println)"
   ]
  },
  {
   "cell_type": "code",
   "execution_count": null,
   "id": "fb18174d-40d0-4729-831c-289fe06c4fac",
   "metadata": {},
   "outputs": [],
   "source": [
    "// Array\n",
    "k: [4]int = { 1, 2, 3, 4 }\n",
    "jodin.inspect_detailed(k)"
   ]
  },
  {
   "cell_type": "code",
   "execution_count": null,
   "id": "2807d622-c14a-41c0-8d2c-4047b1105eb2",
   "metadata": {},
   "outputs": [],
   "source": [
    "// Enumerated_Array\n",
    "L:: enum{ ONE, TWO, THREE, FOUR }\n",
    "l: [L]int = [L]int{ 1, 2, 3, 4 }\n",
    "jodin.inspect_detailed(l)"
   ]
  },
  {
   "cell_type": "code",
   "execution_count": null,
   "id": "9677ab42-18a7-4cb2-bd09-cd817cc70007",
   "metadata": {},
   "outputs": [],
   "source": [
    "// Dynamic_Array\n",
    "m: [dynamic]int\n",
    "append(&m, 1, 2, 3, 4)\n",
    "jodin.inspect_detailed(m)"
   ]
  },
  {
   "cell_type": "code",
   "execution_count": null,
   "id": "93ed48f9-9390-482f-ad59-49832a8100bc",
   "metadata": {},
   "outputs": [],
   "source": [
    "// Slice\n",
    "n: []int = make([]int, 4)\n",
    "n = { 1, 2, 3, 4 }\n",
    "jodin.inspect_detailed(n)"
   ]
  },
  {
   "cell_type": "code",
   "execution_count": null,
   "id": "b0dbe10f-a51a-4947-a204-0905ee3951b2",
   "metadata": {},
   "outputs": [],
   "source": [
    "// Struct\n",
    "p_str: string = \"text\"\n",
    "p: runtime.Raw_String = transmute(runtime.Raw_String)p_str\n",
    "jodin.inspect_detailed(p)"
   ]
  },
  {
   "cell_type": "code",
   "execution_count": null,
   "id": "5d75154e-f841-4af8-86bd-bd18c7f7c5e2",
   "metadata": {},
   "outputs": [],
   "source": [
    "// Union\n",
    "q: union{ int, f32 } = int(329)\n",
    "jodin.inspect_detailed(q)"
   ]
  },
  {
   "cell_type": "code",
   "execution_count": null,
   "id": "c3495c35-a55e-4cd1-9502-407dc7c48ebe",
   "metadata": {},
   "outputs": [],
   "source": [
    "// Enum\n",
    "r: enum { ONE, TWO, THREE, FOUR } = .THREE\n",
    "jodin.inspect_detailed(r)"
   ]
  },
  {
   "cell_type": "code",
   "execution_count": null,
   "id": "f8f711c4-3115-4309-bde3-ea08faab3c2d",
   "metadata": {},
   "outputs": [],
   "source": [
    "// Map\n",
    "s: map[string]int = map[string]int{\n",
    "    \"one\" = 1,\n",
    "    \"two\" = 2,\n",
    "    \"three\" = 3,\n",
    "    \"four\" = 4 }\n",
    "jodin.inspect_detailed(s)"
   ]
  },
  {
   "cell_type": "code",
   "execution_count": null,
   "id": "19df7c2c-0014-4c59-969f-ac46f1765880",
   "metadata": {},
   "outputs": [],
   "source": [
    "// Bit_Set\n",
    "// t: bit_set[1..=4] = { 1, 3 }\n",
    "// jodin.inspect_detailed(t)"
   ]
  },
  {
   "cell_type": "code",
   "execution_count": null,
   "id": "fd76ed01-99cf-4b35-b1f7-6c62180ab923",
   "metadata": {},
   "outputs": [],
   "source": [
    "// Simd_Vector\n",
    "u: #simd[4]int = { 1, 2, 3, 4 }\n",
    "jodin.inspect_detailed(u)"
   ]
  },
  {
   "cell_type": "code",
   "execution_count": null,
   "id": "e9c20ad7-dece-41d5-93f0-e9b2e1d9977d",
   "metadata": {},
   "outputs": [],
   "source": [
    "// Matrix\n",
    "v: matrix[4, 4]int = {\n",
    "    1, 2, 3, 4,\n",
    "    1, 2, 3, 4,\n",
    "    1, 2, 3, 4,\n",
    "    1, 2, 3, 4 }\n",
    "jodin.inspect_detailed(v)"
   ]
  },
  {
   "cell_type": "code",
   "execution_count": null,
   "id": "cfbbb733-8b49-4c1b-90ce-5b04843f60c6",
   "metadata": {},
   "outputs": [],
   "source": [
    "// Bit_Field\n",
    "W:: bit_field u16 {\n",
    "    one:   int | 1,\n",
    "    two:   int | 2,\n",
    "    three: int | 3,\n",
    "    four:  int | 4 }\n",
    "w: W\n",
    "jodin.inspect_detailed(w)"
   ]
  }
 ],
 "metadata": {
  "kernelspec": {
   "display_name": "JODIN",
   "language": "odin",
   "name": "jodin"
  },
  "language_info": {
   "name": ""
  }
 },
 "nbformat": 4,
 "nbformat_minor": 5
}

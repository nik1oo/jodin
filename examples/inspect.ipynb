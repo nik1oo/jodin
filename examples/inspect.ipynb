{
 "cells": [
  {
   "cell_type": "code",
   "execution_count": 1,
   "id": "673bd483-565d-4623-aaa7-58aa93c5afbf",
   "metadata": {},
   "outputs": [
    {
     "name": "stdout",
     "output_type": "stream",
     "text": [
      "\u001b[0m\u001b[2;31m\u001b[0m"
     ]
    }
   ],
   "source": [
    "import \"base:runtime\"\n",
    "import \"core:fmt\"\n",
    "import \"core:image\""
   ]
  },
  {
   "cell_type": "markdown",
   "id": "0459b0c9-a07b-4070-aca1-9a8a66cfdc38",
   "metadata": {},
   "source": [
    "### Integer"
   ]
  },
  {
   "cell_type": "code",
   "execution_count": 2,
   "id": "db656c87-51e1-4a40-84f6-342558615ef5",
   "metadata": {},
   "outputs": [
    {
     "name": "stdout",
     "output_type": "stream",
     "text": [
      "\u001b[0m\u001b[1;34mValue:          \u001b[0m 420\n",
      "\u001b[1;34mType:           \u001b[0m int\n",
      "\u001b[1;34mSize:           \u001b[0m 8\n",
      "\u001b[1;34mAlignment:      \u001b[0m 8\n",
      "\u001b[1;34mFlags:          \u001b[0m {Type_Info_Flag.Comparable}\n",
      "\u001b[1;34mType Signed:    \u001b[0m true\n",
      "\u001b[1;34mEndianness:     \u001b[0m Platform_Endianness.Platform\n",
      "\u001b[2;31m\u001b[0m"
     ]
    }
   ],
   "source": [
    "a: int = 420\n",
    "jodin.inspect_detailed(a)"
   ]
  },
  {
   "cell_type": "markdown",
   "id": "d352ada2-15cb-476f-b45a-4f43c2512fa6",
   "metadata": {},
   "source": [
    "### Rune"
   ]
  },
  {
   "cell_type": "code",
   "execution_count": 3,
   "id": "0df684ad-9d09-4665-9a96-1e37b5a68150",
   "metadata": {},
   "outputs": [
    {
     "name": "stdout",
     "output_type": "stream",
     "text": [
      "\u001b[0m\u001b[1;34mValue:          \u001b[0m 'k'\n",
      "\u001b[1;34mType:           \u001b[0m rune\n",
      "\u001b[1;34mSize:           \u001b[0m 4\n",
      "\u001b[1;34mAlignment:      \u001b[0m 4\n",
      "\u001b[1;34mFlags:          \u001b[0m {Type_Info_Flag.Comparable}\n",
      "\u001b[2;31m\u001b[0m"
     ]
    }
   ],
   "source": [
    "b: rune = 'k'\n",
    "jodin.inspect_detailed(b)"
   ]
  },
  {
   "cell_type": "markdown",
   "id": "0f7ed6b3-3212-4fe8-bf30-ee78f626a625",
   "metadata": {},
   "source": [
    "### Float"
   ]
  },
  {
   "cell_type": "code",
   "execution_count": 4,
   "id": "714f13e3-22b9-4496-9468-e05f0bfbaa40",
   "metadata": {},
   "outputs": [
    {
     "name": "stdout",
     "output_type": "stream",
     "text": [
      "\u001b[0m\u001b[1;34mValue:          \u001b[0m 4.2\n",
      "\u001b[1;34mType:           \u001b[0m f64\n",
      "\u001b[1;34mSize:           \u001b[0m 8\n",
      "\u001b[1;34mAlignment:      \u001b[0m 8\n",
      "\u001b[1;34mFlags:          \u001b[0m {Type_Info_Flag.Comparable}\n",
      "\u001b[1;34mEndianness:     \u001b[0m Platform_Endianness.Platform\n",
      "\u001b[2;31m\u001b[0m"
     ]
    }
   ],
   "source": [
    "c: f64 = 4.20\n",
    "jodin.inspect_detailed(c)"
   ]
  },
  {
   "cell_type": "markdown",
   "id": "616cc665-69ea-4a1c-9a96-7745d3febf18",
   "metadata": {},
   "source": [
    "### Complex"
   ]
  },
  {
   "cell_type": "code",
   "execution_count": 5,
   "id": "7573afe5-5443-4a04-87de-a1c6715f2e1f",
   "metadata": {},
   "outputs": [
    {
     "name": "stdout",
     "output_type": "stream",
     "text": [
      "\u001b[0m\u001b[1;34mValue:          \u001b[0m 4+20i\n",
      "\u001b[1;34mType:           \u001b[0m complex64\n",
      "\u001b[1;34mSize:           \u001b[0m 8\n",
      "\u001b[1;34mAlignment:      \u001b[0m 4\n",
      "\u001b[1;34mFlags:          \u001b[0m {Type_Info_Flag.Comparable}\n",
      "\u001b[2;31m\u001b[0m"
     ]
    }
   ],
   "source": [
    "d: complex64 = 4 + 20i\n",
    "jodin.inspect_detailed(d)"
   ]
  },
  {
   "cell_type": "markdown",
   "id": "d3df6523-9a47-4655-9b97-a141186fb11d",
   "metadata": {},
   "source": [
    "### Quaternion"
   ]
  },
  {
   "cell_type": "code",
   "execution_count": 6,
   "id": "84715c1c-cf7e-451f-ad6f-8cde24b9c1af",
   "metadata": {},
   "outputs": [
    {
     "name": "stdout",
     "output_type": "stream",
     "text": [
      "\u001b[0m\u001b[1;34mValue:          \u001b[0m 1+2i+3j+4k\n",
      "\u001b[1;34mType:           \u001b[0m quaternion64\n",
      "\u001b[1;34mSize:           \u001b[0m 8\n",
      "\u001b[1;34mAlignment:      \u001b[0m 2\n",
      "\u001b[1;34mFlags:          \u001b[0m {Type_Info_Flag.Comparable}\n",
      "\u001b[2;31m\u001b[0m"
     ]
    }
   ],
   "source": [
    "e: quaternion64 = 1 + 2i + 3j + 4k\n",
    "jodin.inspect_detailed(e)"
   ]
  },
  {
   "cell_type": "markdown",
   "id": "ec952d99-86a3-41a5-9077-3ccc39959358",
   "metadata": {},
   "source": [
    "### String"
   ]
  },
  {
   "cell_type": "code",
   "execution_count": 7,
   "id": "4c8af154-1f1b-43b8-a394-57a4b081b08b",
   "metadata": {},
   "outputs": [
    {
     "name": "stdout",
     "output_type": "stream",
     "text": [
      "\u001b[0m\u001b[1;34mValue:          \u001b[0m \"text\"\n",
      "\u001b[1;34mType:           \u001b[0m string\n",
      "\u001b[1;34mSize:           \u001b[0m 16\n",
      "\u001b[1;34mAlignment:      \u001b[0m 8\n",
      "\u001b[1;34mFlags:          \u001b[0m {Type_Info_Flag.Comparable}\n",
      "\u001b[1;34mIs CString:     \u001b[0m false\n",
      "\u001b[2;31m\u001b[0m"
     ]
    }
   ],
   "source": [
    "f: string = \"text\"\n",
    "jodin.inspect_detailed(f)"
   ]
  },
  {
   "cell_type": "markdown",
   "id": "d66794c4-4dc4-4b6a-9a1b-24c3a30c4aec",
   "metadata": {},
   "source": [
    "### Boolean"
   ]
  },
  {
   "cell_type": "code",
   "execution_count": 8,
   "id": "d4ef436b-0092-4eb3-b505-19ca8687fc29",
   "metadata": {},
   "outputs": [
    {
     "name": "stdout",
     "output_type": "stream",
     "text": [
      "\u001b[0m\u001b[1;34mValue:          \u001b[0m false\n",
      "\u001b[1;34mType:           \u001b[0m bool\n",
      "\u001b[1;34mSize:           \u001b[0m 1\n",
      "\u001b[1;34mAlignment:      \u001b[0m 1\n",
      "\u001b[1;34mFlags:          \u001b[0m {Type_Info_Flag.Comparable}\n",
      "\u001b[2;31m\u001b[0m"
     ]
    }
   ],
   "source": [
    "g: bool = false\n",
    "jodin.inspect_detailed(g)"
   ]
  },
  {
   "cell_type": "markdown",
   "id": "0cfd56f4-751f-48e0-86ba-6d319a426c21",
   "metadata": {},
   "source": [
    "### Type_Id"
   ]
  },
  {
   "cell_type": "code",
   "execution_count": 9,
   "id": "0adfff9b-afc3-4048-9f8c-03b8d47fbc82",
   "metadata": {},
   "outputs": [
    {
     "name": "stdout",
     "output_type": "stream",
     "text": [
      "\u001b[0m\u001b[1;34mValue:          \u001b[0m int\n",
      "\u001b[1;34mType:           \u001b[0m typeid\n",
      "\u001b[1;34mSize:           \u001b[0m 8\n",
      "\u001b[1;34mAlignment:      \u001b[0m 8\n",
      "\u001b[1;34mFlags:          \u001b[0m {Type_Info_Flag.Comparable}\n",
      "\u001b[2;31m\u001b[0m"
     ]
    }
   ],
   "source": [
    "h: typeid = int\n",
    "jodin.inspect_detailed(h)"
   ]
  },
  {
   "cell_type": "markdown",
   "id": "673fa2a7-1f67-4828-b69a-7854281db9c5",
   "metadata": {},
   "source": [
    "### Pointer"
   ]
  },
  {
   "cell_type": "code",
   "execution_count": 10,
   "id": "08e4fd9f-8a7a-4c8e-91ee-f700fd455199",
   "metadata": {},
   "outputs": [
    {
     "name": "stdout",
     "output_type": "stream",
     "text": [
      "\u001b[0m\u001b[1;34mValue:          \u001b[0m 0x2EF1378A6B8\n",
      "\u001b[1;34mType:           \u001b[0m ^int\n",
      "\u001b[1;34mSize:           \u001b[0m 8\n",
      "\u001b[1;34mAlignment:      \u001b[0m 8\n",
      "\u001b[1;34mFlags:          \u001b[0m {Type_Info_Flag.Comparable}\n",
      "\u001b[1;34mElem Type Signed:    \u001b[0m true\n",
      "\u001b[1;34mElem Endianness:     \u001b[0m Platform_Endianness.Platform\n",
      "\u001b[2;31m\u001b[0m"
     ]
    }
   ],
   "source": [
    "i: ^int = new(int)\n",
    "i^ = 420\n",
    "jodin.inspect_detailed(i)"
   ]
  },
  {
   "cell_type": "markdown",
   "id": "1b1f1df9-6ec0-4d41-a029-2f1a59401508",
   "metadata": {},
   "source": [
    "### Multi_Pointer"
   ]
  },
  {
   "cell_type": "code",
   "execution_count": 11,
   "id": "1be9ab37-f1f1-4e35-807a-242be8fc42d3",
   "metadata": {},
   "outputs": [
    {
     "name": "stdout",
     "output_type": "stream",
     "text": [
      "\u001b[0m\u001b[1;34mValue:          \u001b[0m 0x2EF145B37D0\n",
      "\u001b[1;34mType:           \u001b[0m [^]int\n",
      "\u001b[1;34mSize:           \u001b[0m 8\n",
      "\u001b[1;34mAlignment:      \u001b[0m 8\n",
      "\u001b[1;34mFlags:          \u001b[0m {Type_Info_Flag.Comparable}\n",
      "\u001b[1;34mElem Type Signed:    \u001b[0m true\n",
      "\u001b[1;34mElem Endianness:     \u001b[0m Platform_Endianness.Platform\n",
      "\u001b[2;31m\u001b[0m"
     ]
    }
   ],
   "source": [
    "j: [^]int = new(int)\n",
    "j[0] = 420\n",
    "jodin.inspect_detailed(j)"
   ]
  },
  {
   "cell_type": "markdown",
   "id": "f8c53a84-b307-4b15-be84-3d276f16bddb",
   "metadata": {},
   "source": [
    "### Procedure"
   ]
  },
  {
   "cell_type": "code",
   "execution_count": 12,
   "id": "c16f0653-41c2-43bb-8b3d-6e872f871fed",
   "metadata": {},
   "outputs": [
    {
     "name": "stdout",
     "output_type": "stream",
     "text": [
      "\u001b[0m\u001b[1;34mValue:          \u001b[0m proc([]any, string, bool) -> int @ 0x7FFECEA69940\n",
      "\u001b[1;34mType:           \u001b[0m proc([]any, string, bool) -> int\n",
      "\u001b[1;34mSize:           \u001b[0m 8\n",
      "\u001b[1;34mAlignment:      \u001b[0m 8\n",
      "\u001b[1;34mFlags:          \u001b[0m {Type_Info_Flag.Comparable}\n",
      "\u001b[1;34mParams Param 00 Name:  \u001b[0m args\n",
      "\u001b[1;34mParam 0 Elem Size:      \u001b[0m 16\n",
      "\u001b[1;34mParams Param 10 Name:  \u001b[0m sep\n",
      "\u001b[1;34mParam 1 Is CString:     \u001b[0m false\n",
      "\u001b[1;34mParams Param 20 Name:  \u001b[0m flush\n",
      "\u001b[1;34mResults Param 00 Name:  \u001b[0m \n",
      "\u001b[1;34mParam 0 Type Signed:    \u001b[0m true\n",
      "\u001b[1;34mParam 0 Endianness:     \u001b[0m Platform_Endianness.Platform\n",
      "\u001b[1;34mIs Variadic:    \u001b[0m true\n",
      "\u001b[1;34mCalling Convention:\u001b[0m Calling_Convention.Odin\n",
      "\u001b[2;31m\u001b[0m"
     ]
    }
   ],
   "source": [
    "jodin.inspect_detailed(fmt.println)"
   ]
  },
  {
   "cell_type": "markdown",
   "id": "d26251d7-ad99-4666-bac7-47231d73a718",
   "metadata": {},
   "source": [
    "### Array"
   ]
  },
  {
   "cell_type": "code",
   "execution_count": 13,
   "id": "fb18174d-40d0-4729-831c-289fe06c4fac",
   "metadata": {},
   "outputs": [
    {
     "name": "stdout",
     "output_type": "stream",
     "text": [
      "\u001b[0m\u001b[1;34mValue:          \u001b[0m {1, 2, 3, 4}\n",
      "\u001b[1;34mType:           \u001b[0m [4]int\n",
      "\u001b[1;34mSize:           \u001b[0m 32\n",
      "\u001b[1;34mAlignment:      \u001b[0m 8\n",
      "\u001b[1;34mFlags:          \u001b[0m {Type_Info_Flag.Comparable}\n",
      "\u001b[1;34mElem Type Signed:    \u001b[0m true\n",
      "\u001b[1;34mElem Endianness:     \u001b[0m Platform_Endianness.Platform\n",
      "\u001b[1;34mElem Size:      \u001b[0m 8\n",
      "\u001b[1;34mElem Size:      \u001b[0m 4\n",
      "\u001b[2;31m\u001b[0m"
     ]
    }
   ],
   "source": [
    "k: [4]int = { 1, 2, 3, 4 }\n",
    "jodin.inspect_detailed(k)"
   ]
  },
  {
   "cell_type": "markdown",
   "id": "3dc7ffd2-b832-4504-98f8-9f05ff2fc970",
   "metadata": {},
   "source": [
    "### Enumerated_Array"
   ]
  },
  {
   "cell_type": "code",
   "execution_count": 15,
   "id": "2807d622-c14a-41c0-8d2c-4047b1105eb2",
   "metadata": {},
   "outputs": [
    {
     "name": "stdout",
     "output_type": "stream",
     "text": [
      "\u001b[0m\u001b[2;31m\u001b[2;31m[JodinInterpreter] \u001b[0mPreprocessor_Error: C:/Code/jodin/src/interpreter/preprocessor.odin(169:15): Unhandled immutable value declaration enum{ ONE, TWO, THREE, FOUR } of type $v.%!(EXTRA &Enum_Type{node = Expr{expr_base = Node{pos = Pos{file = \"C:\\\\Code\\\\jodin\\\\examples\\\\temp\\\\session_16_21_29\\\\cell_16_23_45_15\\\\cell_16_23_45_15.odin\", offset = 29, line = 2, column = 5}, end = Pos{file = \"C:\\\\Code\\\\jodin\\\\examples\\\\temp\\\\session_16_21_29\\\\cell_16_23_45_15\\\\cell_16_23_45_15.odin\", offset = 58, line = 2, column = 34}, state_flags = Node_State_Flags{}, derived = 0x2EF17E4F380}, derived_expr = 0x2EF17E4F380}, tok_pos = Pos{file = \"\", offset = 0, line = 0, column = 0}, base_type = <nil>, open = Pos{file = \"C:\\\\Code\\\\jodin\\\\examples\\\\temp\\\\session_16_21_29\\\\cell_16_23_45_15\\\\cell_16_23_45_15.odin\", offset = 33, line = 2, column = 9}, fields = [0x2EF17E4F120, 0x2EF17E4F1E8, 0x2EF17E4F270, 0x2EF17E4F2F8], close = Pos{file = \"C:\\\\Code\\\\jodin\\\\examples\\\\temp\\\\session_16_21_29\\\\cell_16_23_45_15\\\\cell_16_23_45_15.odin\", offset = 57, line = 2, column = 33}, is_using = false})\n",
      "\u001b[0m"
     ]
    }
   ],
   "source": [
    "L:: enum{ ONE, TWO, THREE, FOUR }\n",
    "l: [L]int = [L]int{ 1, 2, 3, 4 }\n",
    "jodin.inspect_detailed(l)"
   ]
  },
  {
   "cell_type": "markdown",
   "id": "2777cc03-f4ad-462f-bd03-77000eb93ed4",
   "metadata": {},
   "source": [
    "### Dynamic_Array"
   ]
  },
  {
   "cell_type": "code",
   "execution_count": 16,
   "id": "9677ab42-18a7-4cb2-bd09-cd817cc70007",
   "metadata": {},
   "outputs": [
    {
     "name": "stdout",
     "output_type": "stream",
     "text": [
      "\u001b[0m\u001b[1;34mValue:          \u001b[0m {1, 2, 3, 4}\n",
      "\u001b[1;34mType:           \u001b[0m [dynamic]int\n",
      "\u001b[1;34mSize:           \u001b[0m 40\n",
      "\u001b[1;34mAlignment:      \u001b[0m 8\n",
      "\u001b[1;34mFlags:          \u001b[0m {}\n",
      "\u001b[1;34mElem Type Signed:    \u001b[0m true\n",
      "\u001b[1;34mElem Endianness:     \u001b[0m Platform_Endianness.Platform\n",
      "\u001b[1;34mElem Size:      \u001b[0m 8\n",
      "\u001b[2;31m\u001b[0m"
     ]
    }
   ],
   "source": [
    "m: [dynamic]int\n",
    "append(&m, 1, 2, 3, 4)\n",
    "jodin.inspect_detailed(m)"
   ]
  },
  {
   "cell_type": "markdown",
   "id": "65de9eb8-21e4-463a-83ad-6387aaea7574",
   "metadata": {},
   "source": [
    "### Slice"
   ]
  },
  {
   "cell_type": "code",
   "execution_count": 17,
   "id": "93ed48f9-9390-482f-ad59-49832a8100bc",
   "metadata": {},
   "outputs": [
    {
     "name": "stdout",
     "output_type": "stream",
     "text": [
      "\u001b[0m\u001b[1;34mValue:          \u001b[0m {1, 2, 3, 4}\n",
      "\u001b[1;34mType:           \u001b[0m []int\n",
      "\u001b[1;34mSize:           \u001b[0m 16\n",
      "\u001b[1;34mAlignment:      \u001b[0m 8\n",
      "\u001b[1;34mFlags:          \u001b[0m {}\n",
      "\u001b[1;34mElem Type Signed:    \u001b[0m true\n",
      "\u001b[1;34mElem Endianness:     \u001b[0m Platform_Endianness.Platform\n",
      "\u001b[1;34mElem Size:      \u001b[0m 8\n",
      "\u001b[2;31m\u001b[0m"
     ]
    }
   ],
   "source": [
    "n: []int = make([]int, 4)\n",
    "n = { 1, 2, 3, 4 }\n",
    "jodin.inspect_detailed(n)"
   ]
  },
  {
   "cell_type": "markdown",
   "id": "28dcce7f-b378-4c25-81d3-ce62d1bb03fd",
   "metadata": {},
   "source": [
    "### Struct"
   ]
  },
  {
   "cell_type": "code",
   "execution_count": 18,
   "id": "b0dbe10f-a51a-4947-a204-0905ee3951b2",
   "metadata": {},
   "outputs": [
    {
     "name": "stdout",
     "output_type": "stream",
     "text": [
      "\u001b[0m\u001b[2;31m\u001b[2;31m[JodinInterpreter] \u001b[0mPreprocessor_Error: C:/Code/jodin/src/interpreter/preprocessor.odin(187:15): Unhandled mutable value declaration transmute(runtime.Raw_String)p_str of type &Type_Cast{node = Expr{expr_base = Node{pos = Pos{file = \"C:\\\\Code\\\\jodin\\\\examples\\\\temp\\\\session_16_21_29\\\\cell_16_24_24_18\\\\cell_16_24_24_18.odin\", offset = 72, line = 3, column = 25}, end = Pos{file = \"C:\\\\Code\\\\jodin\\\\examples\\\\temp\\\\session_16_21_29\\\\cell_16_24_24_18\\\\cell_16_24_24_18.odin\", offset = 106, line = 3, column = 59}, state_flags = Node_State_Flags{}, derived = 0x2EF1AAAF8C0}, derived_expr = 0x2EF1AAAF8C0}, tok = Token{kind = \"Transmute\", text = \"transmute\", pos = Pos{file = \"C:\\\\Code\\\\jodin\\\\examples\\\\temp\\\\session_16_21_29\\\\cell_16_24_24_18\\\\cell_16_24_24_18.odin\", offset = 72, line = 3, column = 25}}, open = Pos{file = \"C:\\\\Code\\\\jodin\\\\examples\\\\temp\\\\session_16_21_29\\\\cell_16_24_24_18\\\\cell_16_24_24_18.odin\", offset = 81, line = 3, column = 34}, type = 0x2EF1AAAF770, close = Pos{file = \"C:\\\\Code\\\\jodin\\\\examples\\\\temp\\\\session_16_21_29\\\\cell_16_24_24_18\\\\cell_16_24_24_18.odin\", offset = 100, line = 3, column = 53}, expr = 0x2EF1AAAF838}.\n",
      "\u001b[0m"
     ]
    }
   ],
   "source": [
    "p_str: string = \"text\"\n",
    "p: runtime.Raw_String = transmute(runtime.Raw_String)p_str\n",
    "jodin.inspect_detailed(p)"
   ]
  },
  {
   "cell_type": "markdown",
   "id": "3179376c-2616-40fc-ba2d-836bc64c790b",
   "metadata": {},
   "source": [
    "### Union"
   ]
  },
  {
   "cell_type": "code",
   "execution_count": 19,
   "id": "5d75154e-f841-4af8-86bd-bd18c7f7c5e2",
   "metadata": {},
   "outputs": [
    {
     "name": "stdout",
     "output_type": "stream",
     "text": [
      "\u001b[0m\u001b[1;34mValue:          \u001b[0m 329\n",
      "\u001b[1;34mType:           \u001b[0m union {int, f32}\n",
      "\u001b[1;34mSize:           \u001b[0m 16\n",
      "\u001b[1;34mAlignment:      \u001b[0m 8\n",
      "\u001b[1;34mFlags:          \u001b[0m {Type_Info_Flag.Comparable}\n",
      "\u001b[1;34mTag Offset:     \u001b[0m 8\n",
      "\u001b[1;34mTag Type Type Signed:    \u001b[0m false\n",
      "\u001b[1;34mTag Type Endianness:     \u001b[0m Platform_Endianness.Platform\n",
      "\u001b[1;34mCustom Align:   \u001b[0m false\n",
      "\u001b[1;34mNo Nil:         \u001b[0m false\n",
      "\u001b[1;34mShared Nil:     \u001b[0m false\n",
      "\u001b[1;34mVariant 0 Type Signed:    \u001b[0m true\n",
      "\u001b[1;34mVariant 0 Endianness:     \u001b[0m Platform_Endianness.Platform\n",
      "\u001b[1;34mVariant 1 Endianness:     \u001b[0m Platform_Endianness.Platform\n",
      "\u001b[2;31m\u001b[0m"
     ]
    }
   ],
   "source": [
    "q: union{ int, f32 } = int(329)\n",
    "jodin.inspect_detailed(q)"
   ]
  },
  {
   "cell_type": "markdown",
   "id": "51727cc1-d1ab-443b-a80d-e2b30a7455c2",
   "metadata": {},
   "source": [
    "### Enum"
   ]
  },
  {
   "cell_type": "code",
   "execution_count": 8,
   "id": "c3495c35-a55e-4cd1-9502-407dc7c48ebe",
   "metadata": {},
   "outputs": [
    {
     "name": "stdout",
     "output_type": "stream",
     "text": [
      "\u001b[0m\u001b[2;31m\u001b[2;31m[JodinInterpreter] \u001b[0mPreprocessor_Error: C:/Code/jodin/src/interpreter/preprocessor.odin(187:15): Unhandled mutable value declaration .THREE of type &Implicit_Selector_Expr{node = Expr{expr_base = Node{pos = Pos{file = \"C:\\\\Code\\\\jodin\\\\examples\\\\temp\\\\session_16_29_17\\\\cell_16_29_53_8\\\\cell_16_29_53_8.odin\", offset = 60, line = 2, column = 37}, end = Pos{file = \"C:\\\\Code\\\\jodin\\\\examples\\\\temp\\\\session_16_29_17\\\\cell_16_29_53_8\\\\cell_16_29_53_8.odin\", offset = 66, line = 2, column = 43}, state_flags = Node_State_Flags{}, derived = 0x1CE3DF89498}, derived_expr = 0x1CE3DF89498}, field = 0x1CE3DF89410}.\n",
      "\u001b[0m"
     ]
    }
   ],
   "source": [
    "r: enum { ONE, TWO, THREE, FOUR } = .THREE\n",
    "jodin.inspect_detailed(r)"
   ]
  },
  {
   "cell_type": "markdown",
   "id": "d3fb5846-3f0a-4ab8-b2c1-472a09ee4a43",
   "metadata": {},
   "source": [
    "### Map"
   ]
  },
  {
   "cell_type": "code",
   "execution_count": 10,
   "id": "f8f711c4-3115-4309-bde3-ea08faab3c2d",
   "metadata": {},
   "outputs": [
    {
     "name": "stdout",
     "output_type": "stream",
     "text": [
      "\u001b[0m\u001b[1;34mValue:          \u001b[0m {\"four\"=4, \"one\"=1, \"three\"=3, \"two\"=2}\n",
      "\u001b[1;34mType:           \u001b[0m map[string]int\n",
      "\u001b[1;34mSize:           \u001b[0m 32\n",
      "\u001b[1;34mAlignment:      \u001b[0m 8\n",
      "\u001b[1;34mFlags:          \u001b[0m {}\n",
      "\u001b[1;34mKey Is CString:     \u001b[0m false\n",
      "\u001b[1;34mValue Type Signed:    \u001b[0m true\n",
      "\u001b[1;34mValue Endianness:     \u001b[0m Platform_Endianness.Platform\n",
      "\u001b[2;31m\u001b[0m"
     ]
    }
   ],
   "source": [
    "#+feature dynamic-literals\n",
    "s: map[string]int = map[string]int{\n",
    "    \"one\" = 1,\n",
    "    \"two\" = 2,\n",
    "    \"three\" = 3,\n",
    "    \"four\" = 4 }\n",
    "jodin.inspect_detailed(s)"
   ]
  },
  {
   "cell_type": "markdown",
   "id": "540b334a-3048-456b-9818-caeee17734ab",
   "metadata": {},
   "source": [
    "### Bit_Set"
   ]
  },
  {
   "cell_type": "code",
   "execution_count": 11,
   "id": "19df7c2c-0014-4c59-969f-ac46f1765880",
   "metadata": {},
   "outputs": [
    {
     "name": "stdout",
     "output_type": "stream",
     "text": [
      "\u001b[0m\u001b[2;31m\u001b[0m"
     ]
    }
   ],
   "source": [
    "// t: bit_set[1..=4] = { 1, 3 }\n",
    "// jodin.inspect_detailed(t)"
   ]
  },
  {
   "cell_type": "markdown",
   "id": "3fde34d2-eded-41ba-a744-3f64600321f3",
   "metadata": {},
   "source": [
    "### Simd_Vector"
   ]
  },
  {
   "cell_type": "code",
   "execution_count": 12,
   "id": "fd76ed01-99cf-4b35-b1f7-6c62180ab923",
   "metadata": {},
   "outputs": [
    {
     "name": "stdout",
     "output_type": "stream",
     "text": [
      "\u001b[0m\u001b[1;34mValue:          \u001b[0m {1, 2, 3, 4}\n",
      "\u001b[1;34mType:           \u001b[0m [4]int\n",
      "\u001b[1;34mSize:           \u001b[0m 32\n",
      "\u001b[1;34mAlignment:      \u001b[0m 8\n",
      "\u001b[1;34mFlags:          \u001b[0m {Type_Info_Flag.Comparable}\n",
      "\u001b[1;34mElem Type Signed:    \u001b[0m true\n",
      "\u001b[1;34mElem Endianness:     \u001b[0m Platform_Endianness.Platform\n",
      "\u001b[1;34mElem Size:      \u001b[0m 8\n",
      "\u001b[1;34mElem Size:      \u001b[0m 4\n",
      "\u001b[2;31m\u001b[0m"
     ]
    }
   ],
   "source": [
    "u: #simd[4]int = { 1, 2, 3, 4 }\n",
    "jodin.inspect_detailed(u)"
   ]
  },
  {
   "cell_type": "markdown",
   "id": "3b4b22b2-f35a-45ab-a415-12abca45d2e9",
   "metadata": {},
   "source": [
    "### Matrix"
   ]
  },
  {
   "cell_type": "code",
   "execution_count": 13,
   "id": "e9c20ad7-dece-41d5-93f0-e9b2e1d9977d",
   "metadata": {},
   "outputs": [
    {
     "name": "stdout",
     "output_type": "stream",
     "text": [
      "\u001b[0m\u001b[1;34mValue:          \u001b[0m {1, 2, 3, 4, 1, 2, 3, 4, 1, 2, 3, 4, 1, 2, 3, 4}\n",
      "\u001b[1;34mType:           \u001b[0m matrix[4, 4]int\n",
      "\u001b[1;34mSize:           \u001b[0m 128\n",
      "\u001b[1;34mAlignment:      \u001b[0m 32\n",
      "\u001b[1;34mFlags:          \u001b[0m {Type_Info_Flag.Comparable}\n",
      "\u001b[1;34mElem Type Signed:    \u001b[0m true\n",
      "\u001b[1;34mElem Endianness:     \u001b[0m Platform_Endianness.Platform\n",
      "\u001b[1;34mElem Size:      \u001b[0m 8\n",
      "\u001b[1;34mElem Stride:    \u001b[0m 4\n",
      "\u001b[1;34mRow Count:      \u001b[0m 4\n",
      "\u001b[1;34mColumn Count:   \u001b[0m 4\n",
      "\u001b[1;34mLayout:         \u001b[0m .Column_Major\n",
      "\u001b[2;31m\u001b[0m"
     ]
    }
   ],
   "source": [
    "v: matrix[4, 4]int = {\n",
    "    1, 2, 3, 4,\n",
    "    1, 2, 3, 4,\n",
    "    1, 2, 3, 4,\n",
    "    1, 2, 3, 4 }\n",
    "jodin.inspect_detailed(v)"
   ]
  },
  {
   "cell_type": "markdown",
   "id": "eab35bd8-12c8-4a7e-b814-3e30942fa844",
   "metadata": {},
   "source": [
    "### Bit_Field"
   ]
  },
  {
   "cell_type": "code",
   "execution_count": 15,
   "id": "cfbbb733-8b49-4c1b-90ce-5b04843f60c6",
   "metadata": {},
   "outputs": [
    {
     "name": "stdout",
     "output_type": "stream",
     "text": [
      "\u001b[0m\u001b[2;31m\u001b[2;31m[JodinInterpreter] \u001b[0mPreprocessor_Error: C:/Code/jodin/src/interpreter/preprocessor.odin(169:15): Unhandled immutable value declaration bit_field u16 {\n",
      "    one:   int | 1,\n",
      "    two:   int | 2,\n",
      "    three: int | 3,\n",
      "    four:  int | 4 } of type $v.%!(EXTRA &Bit_Field_Type{node = Expr{expr_base = Node{pos = Pos{file = \"C:\\\\Code\\\\jodin\\\\examples\\\\temp\\\\session_16_29_17\\\\cell_16_30_47_15\\\\cell_16_30_47_15.odin\", offset = 29, line = 2, column = 5}, end = Pos{file = \"C:\\\\Code\\\\jodin\\\\examples\\\\temp\\\\session_16_29_17\\\\cell_16_30_47_15\\\\cell_16_30_47_15.odin\", offset = 125, line = 6, column = 21}, state_flags = Node_State_Flags{}, derived = 0x1CE44375C48}, derived_expr = 0x1CE44375C48}, tok_pos = Pos{file = \"C:\\\\Code\\\\jodin\\\\examples\\\\temp\\\\session_16_29_17\\\\cell_16_30_47_15\\\\cell_16_30_47_15.odin\", offset = 29, line = 2, column = 5}, backing_type = 0x1CE44375120, open = Pos{file = \"C:\\\\Code\\\\jodin\\\\examples\\\\temp\\\\session_16_29_17\\\\cell_16_30_47_15\\\\cell_16_30_47_15.odin\", offset = 43, line = 2, column = 19}, fields = [0x1CE44375370, 0x1CE44375648, 0x1CE443758E0, 0x1CE44375B78], close = Pos{file = \"C:\\\\Code\\\\jodin\\\\examples\\\\temp\\\\session_16_29_17\\\\cell_16_30_47_15\\\\cell_16_30_47_15.odin\", offset = 124, line = 6, column = 20}})\n",
      "\u001b[0m"
     ]
    }
   ],
   "source": [
    "W:: bit_field u16 {\n",
    "    one:   int | 1,\n",
    "    two:   int | 2,\n",
    "    three: int | 3,\n",
    "    four:  int | 4 }\n",
    "w: W\n",
    "jodin.inspect_detailed(w)"
   ]
  }
 ],
 "metadata": {
  "kernelspec": {
   "display_name": "JODIN",
   "language": "odin",
   "name": "jodin"
  },
  "language_info": {
   "file_extension": ".odin",
   "mimetype": "text/odin",
   "name": "odin"
  }
 },
 "nbformat": 4,
 "nbformat_minor": 5
}

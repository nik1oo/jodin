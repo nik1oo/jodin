{
 "cells": [
  {
   "cell_type": "markdown",
   "id": "de502b91-a635-4057-a907-7d33e64b95c9",
   "metadata": {},
   "source": [
    "### GLFW Example\n",
    "You can use the `#+async` tag to start a cell and leave it running, while you modify its data in other cells."
   ]
  },
  {
   "cell_type": "code",
   "execution_count": 1,
   "id": "1db69860-8c81-435b-a48f-debd15f359bf",
   "metadata": {},
   "outputs": [
    {
     "name": "stdout",
     "output_type": "stream",
     "text": [
      "\u001b[0m\u001b[2;31m\u001b[0m"
     ]
    }
   ],
   "source": [
    "import \"core:fmt\"\n",
    "import \"vendor:glfw\"\n",
    "import gl \"vendor:OpenGL\"\n",
    "import \"core:thread\""
   ]
  },
  {
   "cell_type": "code",
   "execution_count": 6,
   "id": "96b0d3ef-1634-405f-a24d-6cfd7ec22357",
   "metadata": {},
   "outputs": [
    {
     "name": "stdout",
     "output_type": "stream",
     "text": [
      "\u001b[0m\u001b[2;31m\u001b[0m"
     ]
    }
   ],
   "source": [
    "#+no-link\n",
    "w: string = \"wow\"\n",
    "fmt.println(14)"
   ]
  },
  {
   "cell_type": "code",
   "execution_count": 2,
   "id": "d7ae8245-921b-47ce-9f84-1eb2539a0679",
   "metadata": {},
   "outputs": [
    {
     "name": "stdout",
     "output_type": "stream",
     "text": [
      "\u001b[0m\u001b[2;31m\u001b[0m"
     ]
    }
   ],
   "source": [
    "color: [4]f32 = { 0, 0, 0, 1 }"
   ]
  },
  {
   "cell_type": "code",
   "execution_count": 2,
   "id": "ea191842-95ab-47a6-93a0-b3625348e9ac",
   "metadata": {},
   "outputs": [
    {
     "name": "stdout",
     "output_type": "stream",
     "text": [
      "\u001b[0m\u001b[2;31m\u001b[0m"
     ]
    }
   ],
   "source": [
    "#+async\n",
    "x: int = 14\n",
    "sync: for i: int = 0; i < 4; i += 1 {\n",
    "    fmt.println(x)\n",
    "}"
   ]
  },
  {
   "cell_type": "code",
   "execution_count": 4,
   "id": "1c50d134-e2e9-4026-a5d0-7db50489a796",
   "metadata": {},
   "outputs": [
    {
     "name": "stdout",
     "output_type": "stream",
     "text": [
      "\u001b[0m\u001b[2;31m\u001b[0m"
     ]
    }
   ],
   "source": [
    "#+async\n",
    "ok: bool = bool(glfw.Init())\n",
    "if ! ok do return\n",
    "window: glfw.WindowHandle = glfw.CreateWindow(920, 920, \"jodin glfw example\", nil, nil)\n",
    "glfw.MakeContextCurrent(window)\n",
    "gl.load_up_to(4, 5, glfw.gl_set_proc_address)\n",
    "sync: for (!glfw.WindowShouldClose(window)) {\n",
    "    gl.ClearColor(color.x, color.y, color.z, color.w)\n",
    "    gl.Clear(gl.COLOR_BUFFER_BIT)\n",
    "    glfw.SwapBuffers(window)\n",
    "    glfw.PollEvents() }\n",
    "glfw.Terminate()"
   ]
  },
  {
   "cell_type": "code",
   "execution_count": null,
   "id": "1c952c0c-8bf5-4695-8c2f-1a9dd9322501",
   "metadata": {},
   "outputs": [],
   "source": [
    "color = { 1, 1, 0, 0 }"
   ]
  }
 ],
 "metadata": {
  "kernelspec": {
   "display_name": "JODIN",
   "language": "odin",
   "name": "jodin"
  },
  "language_info": {
   "file_extension": ".odin",
   "mimetype": "text/odin",
   "name": "odin"
  }
 },
 "nbformat": 4,
 "nbformat_minor": 5
}

{
 "cells": [
  {
   "cell_type": "markdown",
   "id": "de502b91-a635-4057-a907-7d33e64b95c9",
   "metadata": {},
   "source": [
    "### GLFW Example\n",
    "You can use the `#+async` tag to start a cell and leave it running, while you modify its data in other cells."
   ]
  },
  {
   "cell_type": "code",
   "execution_count": 3,
   "id": "1db69860-8c81-435b-a48f-debd15f359bf",
   "metadata": {},
   "outputs": [
    {
     "name": "stdout",
     "output_type": "stream",
     "text": [
      "\u001b[0m\u001b[2;31m\u001b[0m"
     ]
    }
   ],
   "source": [
    "import \"core:fmt\"\n",
    "import \"vendor:glfw\"\n",
    "import gl \"vendor:OpenGL\"\n",
    "import \"core:thread\"\n",
    "import \"core:sync\"\n",
    "data_mutex: sync.Mutex = {}"
   ]
  },
  {
   "cell_type": "code",
   "execution_count": 4,
   "id": "d7ae8245-921b-47ce-9f84-1eb2539a0679",
   "metadata": {},
   "outputs": [
    {
     "name": "stdout",
     "output_type": "stream",
     "text": [
      "\u001b[0m\u001b[2;31m\u001b[0m"
     ]
    }
   ],
   "source": [
    "color: [4]f32 = { 0, 0, 0, 1 }"
   ]
  },
  {
   "cell_type": "code",
   "execution_count": 5,
   "id": "1c50d134-e2e9-4026-a5d0-7db50489a796",
   "metadata": {},
   "outputs": [
    {
     "name": "stdout",
     "output_type": "stream",
     "text": [
      "\u001b[0m\u001b[2;31m\u001b[0m"
     ]
    }
   ],
   "source": [
    "#+async\n",
    "ok: bool = bool(glfw.Init())\n",
    "if ! ok do return\n",
    "window: glfw.WindowHandle = glfw.CreateWindow(920, 920, \"jodin glfw example\", nil, nil)\n",
    "glfw.MakeContextCurrent(window)\n",
    "gl.load_up_to(4, 5, glfw.gl_set_proc_address)\n",
    "for (!glfw.WindowShouldClose(window)) {\n",
    "    sync.mutex_lock(&data_mutex)\n",
    "    defer sync.mutex_unlock(&data_mutex)\n",
    "    gl.ClearColor(color.x, color.y, color.z, color.w)\n",
    "    gl.Clear(gl.COLOR_BUFFER_BIT)\n",
    "    glfw.SwapBuffers(window)\n",
    "    glfw.PollEvents() }\n",
    "glfw.Terminate()"
   ]
  },
  {
   "cell_type": "code",
   "execution_count": null,
   "id": "1c952c0c-8bf5-4695-8c2f-1a9dd9322501",
   "metadata": {},
   "outputs": [],
   "source": [
    "sync.mutex_lock(&data_mutex)\n",
    "defer sync.mutex_unlock(&data_mutex)\n",
    "color = { 0, 0, 1, 0 }"
   ]
  }
 ],
 "metadata": {
  "kernelspec": {
   "display_name": "JODIN",
   "language": "odin",
   "name": "jodin"
  },
  "language_info": {
   "file_extension": ".odin",
   "mimetype": "text/odin",
   "name": "odin"
  }
 },
 "nbformat": 4,
 "nbformat_minor": 5
}

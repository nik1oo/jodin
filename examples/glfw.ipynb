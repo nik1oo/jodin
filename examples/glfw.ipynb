{
 "cells": [
  {
   "cell_type": "markdown",
   "id": "de502b91-a635-4057-a907-7d33e64b95c9",
   "metadata": {},
   "source": [
    "jodin demo"
   ]
  },
  {
   "cell_type": "code",
   "execution_count": 1,
   "id": "1db69860-8c81-435b-a48f-debd15f359bf",
   "metadata": {},
   "outputs": [
    {
     "name": "stdout",
     "output_type": "stream",
     "text": [
      "\u001b[0m\u001b[2;31m\u001b[0m"
     ]
    }
   ],
   "source": [
    "import \"core:fmt\"\n",
    "import \"vendor:glfw\"\n",
    "import gl \"vendor:OpenGL\"\n",
    "import \"core:thread\"\n",
    "import \"core:time\"\n",
    "import \"core:math\""
   ]
  },
  {
   "cell_type": "code",
   "execution_count": 2,
   "id": "d7ae8245-921b-47ce-9f84-1eb2539a0679",
   "metadata": {},
   "outputs": [
    {
     "name": "stdout",
     "output_type": "stream",
     "text": [
      "\u001b[0m\u001b[2;31m\u001b[0m"
     ]
    }
   ],
   "source": [
    "t: f64\n",
    "color: [4]f32 = { 0, 0, 0, 1 }"
   ]
  },
  {
   "cell_type": "code",
   "execution_count": 3,
   "id": "1c50d134-e2e9-4026-a5d0-7db50489a796",
   "metadata": {},
   "outputs": [
    {
     "name": "stdout",
     "output_type": "stream",
     "text": [
      "\u001b[0m\u001b[2;31m\u001b[0m"
     ]
    }
   ],
   "source": [
    "#+async\n",
    "ok: bool = bool(glfw.Init())\n",
    "if ! ok do return\n",
    "window: glfw.WindowHandle = glfw.CreateWindow(920, 920, \"jodin glfw example\", nil, nil)\n",
    "glfw.MakeContextCurrent(window)\n",
    "gl.load_up_to(4, 5, glfw.gl_set_proc_address)\n",
    "sync: for !glfw.WindowShouldClose(window) {\n",
    "    gl.ClearColor(color.x, color.y, color.z, color.w)\n",
    "    gl.Clear(gl.COLOR_BUFFER_BIT)\n",
    "    glfw.SwapBuffers(window)\n",
    "    glfw.PollEvents() }\n",
    "glfw.Terminate()"
   ]
  },
  {
   "cell_type": "code",
   "execution_count": 5,
   "id": "83de5bd6",
   "metadata": {},
   "outputs": [
    {
     "name": "stdout",
     "output_type": "stream",
     "text": [
      "\u001b[0m\u001b[2;31m\u001b[0m"
     ]
    }
   ],
   "source": [
    "color = { 0, 0, 1, 1 }"
   ]
  },
  {
   "cell_type": "code",
   "execution_count": null,
   "id": "1c952c0c-8bf5-4695-8c2f-1a9dd9322501",
   "metadata": {},
   "outputs": [
    {
     "name": "stdout",
     "output_type": "stream",
     "text": [
      "\u001b[0m\u001b[2;31m\u001b[0m"
     ]
    }
   ],
   "source": [
    "#+async\n",
    "sync: for {\n",
    "    t = f64(time.now()._nsec)\n",
    "    color = { abs(f32(math.sin_f64(t / 1_000_000_000))), 0, 0, 0 } }"
   ]
  },
  {
   "cell_type": "code",
   "execution_count": 5,
   "id": "14ef8ae2",
   "metadata": {},
   "outputs": [
    {
     "name": "stdout",
     "output_type": "stream",
     "text": [
      "\u001b[0m\u001b[2;31m\u001b[0m"
     ]
    }
   ],
   "source": [
    "TEXTURE_V:: `\n",
    "#version 460\n",
    "uniform vec2 pos;\n",
    "uniform vec2 size;\n",
    "uniform vec2 window_size;\n",
    "out vec2 tex_coord;\n",
    "vec2 project(vec2 point) {\n",
    "\treturn 2 * point / window_size; }\n",
    "void main(void) {\n",
    "\tfloat x0 = pos.x - size.x / 2;\n",
    "\tfloat x1 = pos.x + size.x / 2;\n",
    "\tfloat y0 = pos.y - size.y / 2;\n",
    "\tfloat y1 = pos.y + size.y / 2;\n",
    "\tgl_Position = vec4(pos_x0, pos_y1, 0, 1);\n",
    "    tex_coord = vec2(0, 1);\n",
    "\tif((gl_VertexID + 1) % 6 < 3) {\n",
    "\t\tgl_Position.x = pos_x1;\n",
    "\t\ttex_coord.x = 1; }\n",
    "\tif(gl_VertexID % 2 == 0) {\n",
    "\t\tgl_Position.y = pos_y0;\n",
    "\t\ttex_coord.y = 0; } }\n",
    "\tgl_Position.xy = project(gl_Position.xy); }`\n",
    "\n",
    "TEXTURE_F:: `\n",
    "#version 460 core\n",
    "layout (binding = 0) uniform sampler2D samp;\n",
    "in vec2 tex_coord;\n",
    "out vec4 color;\n",
    "void main(void) {\n",
    "\tcolor = texture(samp, tex_coord); }\n",
    "`"
   ]
  },
  {
   "cell_type": "code",
   "execution_count": 6,
   "id": "99fb0e9a",
   "metadata": {},
   "outputs": [
    {
     "name": "stdout",
     "output_type": "stream",
     "text": [
      "\u001b[0m\u001b[2;31m\u001b[2;31m[JodinInterpreter] \u001b[0mDLL_Error: C:/Code/jodin/src/interpreter/cell.odin(281:24): Could not find symbol init_shader.\n",
      "\u001b[1;34m[CellContent]----------------------------------------\n",
      "Shader:: struct {\n",
      "\thandle:    u32,\n",
      "\tname:      string,\n",
      "\tvert_path: string,\n",
      "\tfrag_path: string }\n",
      "\n",
      "Texture_Shader:: struct {\n",
      "\tusing shader: Shader,\n",
      "\tpos:          i32,\n",
      "\tsize:         i32,\n",
      "\twindow_size:  i32 }\n",
      "\n",
      "init_shader:: proc($Type: typeid, name: string, vert_source, frag_source: string) -> (shader: ^Type, ok: bool) {\n",
      "\tshader = new(Type)\n",
      "\tshader.name = strings.clone(name)\n",
      "\tshader.vert_source = vert_source\n",
      "\tshader.frag_source = frag_source\n",
      "\tok = compile_shader(Type,shader)\n",
      "\tif !ok do return nil, false\n",
      "\tfield_names: []string = reflect.struct_field_names(Type)\n",
      "\tfield_offsets: []uintptr = reflect.struct_field_offsets(Type)\n",
      "\tfield_types: []^runtime.Type_Info = reflect.struct_field_types(Type)\n",
      "\tfor param, i in field_names {\n",
      "\t\t#partial switch type: = reflect.type_kind(field_types[i].id); type {\n",
      "\t\tcase reflect.Type_Kind.Integer:\n",
      "\t\t\t((^i32)(uintptr(shader) + field_offsets[i]))^ = get_shader_param_handle(u32(shader.handle),field_names[i])\n",
      "\t\tcase reflect.Type_Kind.Named:\n",
      "\t\t\tcontinue } }\n",
      "\treturn shader, true }\n",
      "\n",
      "compile_shader:: proc($Type: typeid, shader: ^Type) -> (ok: bool) {\n",
      "\tshader.handle, ok = gl.load_shaders_source(shader.vert_source, shader.frag_source)\n",
      "\tmessage, message_type: = gl.get_last_error_message()\n",
      "\tif message_type != .NONE do fmt.eprintln(message)\n",
      "\treturn ok }\n",
      "-----------------------------------------------------\u001b[0m\n",
      "\u001b[1;34m[CellSource]-----------------------------------------\n",
      "\n",
      "package cell_10_52_51_6\n",
      "import \"shared:jodin\"\n",
      "import \"core:io\"\n",
      "import \"core:os\"\n",
      "import \"core:sync\"\n",
      "import \"core:fmt\"\n",
      "import \"vendor:glfw\"\n",
      "import gl \"vendor:OpenGL\"\n",
      "import \"core:thread\"\n",
      "import \"core:time\"\n",
      "import \"core:math\"\n",
      "@(export) __cell__: ^jodin.Cell = nil\n",
      "__data_mutex__: ^sync.Ticket_Mutex = nil\n",
      "__stdout__, __stderr__, __iopub__, __original_stdout__, __original_stderr__: os.Handle\n",
      "__symmap__: ^map[string]rawptr = nil\n",
      "t: ^f64\n",
      "color: ^[4]f32\n",
      "@(export) init_shader :: proc($Type: typeid, name: string, vert_source, frag_source: string) -> (shader: ^Type, ok: bool) {\n",
      "\tshader = new(Type)\n",
      "\tshader.name = strings.clone(name)\n",
      "\tshader.vert_source = vert_source\n",
      "\tshader.frag_source = frag_source\n",
      "\tok = compile_shader(Type,shader)\n",
      "\tif !ok do return nil, false\n",
      "\tfield_names: []string = reflect.struct_field_names(Type)\n",
      "\tfield_offsets: []uintptr = reflect.struct_field_offsets(Type)\n",
      "\tfield_types: []^runtime.Type_Info = reflect.struct_field_types(Type)\n",
      "\tfor param, i in field_names {\n",
      "\t\t#partial switch type: = reflect.type_kind(field_types[i].id); type {\n",
      "\t\tcase reflect.Type_Kind.Integer:\n",
      "\t\t\t((^i32)(uintptr(shader) + field_offsets[i]))^ = get_shader_param_handle(u32(shader.handle),field_names[i])\n",
      "\t\tcase reflect.Type_Kind.Named:\n",
      "\t\t\tcontinue } }\n",
      "\treturn shader, true }\n",
      "@(export) compile_shader :: proc($Type: typeid, shader: ^Type) -> (ok: bool) {\n",
      "\tshader.handle, ok = gl.load_shaders_source(shader.vert_source, shader.frag_source)\n",
      "\tmessage, message_type: = gl.get_last_error_message()\n",
      "\tif message_type != .NONE do fmt.eprintln(message)\n",
      "\treturn ok }\n",
      "@(export) __update_symmap__:: proc() {\n",
      "}\n",
      "@(export) __apply_symmap__:: proc() {\n",
      "t = (cast(^f64)__symmap__[\"t\"])\n",
      "color = (cast(^[4]f32)__symmap__[\"color\"])\n",
      "}\n",
      "TEXTURE_V:: `\n",
      "#version 460\n",
      "uniform vec2 pos;\n",
      "uniform vec2 size;\n",
      "uniform vec2 window_size;\n",
      "out vec2 tex_coord;\n",
      "vec2 project(vec2 point) {\n",
      "\treturn 2 * point / window_size; }\n",
      "void main(void) {\n",
      "\tfloat x0 = pos.x - size.x / 2;\n",
      "\tfloat x1 = pos.x + size.x / 2;\n",
      "\tfloat y0 = pos.y - size.y / 2;\n",
      "\tfloat y1 = pos.y + size.y / 2;\n",
      "\tgl_Position = vec4(pos_x0, pos_y1, 0, 1);\n",
      "    tex_coord = vec2(0, 1);\n",
      "\tif((gl_VertexID + 1) % 6 < 3) {\n",
      "\t\tgl_Position.x = pos_x1;\n",
      "\t\ttex_coord.x = 1; }\n",
      "\tif(gl_VertexID % 2 == 0) {\n",
      "\t\tgl_Position.y = pos_y0;\n",
      "\t\ttex_coord.y = 0; } }\n",
      "\tgl_Position.xy = project(gl_Position.xy); }`\n",
      "TEXTURE_F:: `\n",
      "#version 460 core\n",
      "layout (binding = 0) uniform sampler2D samp;\n",
      "in vec2 tex_coord;\n",
      "out vec4 color;\n",
      "void main(void) {\n",
      "\tcolor = texture(samp, tex_coord); }\n",
      "`\n",
      "\n",
      "\n",
      "\n",
      "\n",
      "Shader:: struct {\n",
      "\thandle:    u32,\n",
      "\tname:      string,\n",
      "\tvert_path: string,\n",
      "\tfrag_path: string }\n",
      "Texture_Shader:: struct {\n",
      "\tusing shader: Shader,\n",
      "\tpos:          i32,\n",
      "\tsize:         i32,\n",
      "\twindow_size:  i32 }\n",
      "\n",
      "@(export) __init__:: proc(_cell: ^jodin.Cell, _stdout: os.Handle, _stderr: os.Handle, _iopub: os.Handle, _symmap: ^map[string]rawptr) {\n",
      "\t__data_mutex__ = &_cell.session.data_mutex\n",
      "\tsync.ticket_mutex_lock(__data_mutex__); defer sync.ticket_mutex_unlock(__data_mutex__)\n",
      "\t__cell__ = _cell\n",
      "\tsync.mutex_lock(&__cell__.mutex); defer sync.mutex_unlock(&__cell__.mutex)\n",
      "\tcontext = __cell__.cell_context\n",
      "\t__original_stdout__ = os.stdout\n",
      "\t__original_stderr__ = os.stderr\n",
      "\t__stdout__ = _stdout; os.stdout = __stdout__\n",
      "\t__stderr__ = _stderr; os.stderr = __stderr__\n",
      "\t__iopub__ = _iopub\n",
      "\t__symmap__ = _symmap\n",
      "}\n",
      "@(export) __main__:: proc() {\n",
      "\tsync.ticket_mutex_lock(__data_mutex__); defer sync.ticket_mutex_unlock(__data_mutex__)\n",
      "\tsync.mutex_lock(&__cell__.mutex); defer sync.mutex_unlock(&__cell__.mutex)\n",
      "\tcontext = __cell__.cell_context\n",
      "\tos.stdout = __original_stdout__\n",
      "\tos.stderr = __original_stderr__\n",
      "}\n",
      "\n",
      "-----------------------------------------------------\u001b[0m\n",
      "\u001b[0m"
     ]
    }
   ],
   "source": [
    "Shader:: struct {\n",
    "\thandle:    u32,\n",
    "\tname:      string,\n",
    "\tvert_path: string,\n",
    "\tfrag_path: string }\n",
    "\n",
    "Texture_Shader:: struct {\n",
    "\tusing shader: Shader,\n",
    "\tpos:          i32,\n",
    "\tsize:         i32,\n",
    "\twindow_size:  i32 }\n",
    "\n",
    "init_shader:: proc($Type: typeid, name: string, vert_source, frag_source: string) -> (shader: ^Type, ok: bool) {\n",
    "\tshader = new(Type)\n",
    "\tshader.name = strings.clone(name)\n",
    "\tshader.vert_source = vert_source\n",
    "\tshader.frag_source = frag_source\n",
    "\tok = compile_shader(Type,shader)\n",
    "\tif !ok do return nil, false\n",
    "\tfield_names: []string = reflect.struct_field_names(Type)\n",
    "\tfield_offsets: []uintptr = reflect.struct_field_offsets(Type)\n",
    "\tfield_types: []^runtime.Type_Info = reflect.struct_field_types(Type)\n",
    "\tfor param, i in field_names {\n",
    "\t\t#partial switch type: = reflect.type_kind(field_types[i].id); type {\n",
    "\t\tcase reflect.Type_Kind.Integer:\n",
    "\t\t\t((^i32)(uintptr(shader) + field_offsets[i]))^ = get_shader_param_handle(u32(shader.handle),field_names[i])\n",
    "\t\tcase reflect.Type_Kind.Named:\n",
    "\t\t\tcontinue } }\n",
    "\treturn shader, true }\n",
    "\n",
    "compile_shader:: proc($Type: typeid, shader: ^Type) -> (ok: bool) {\n",
    "\tshader.handle, ok = gl.load_shaders_source(shader.vert_source, shader.frag_source)\n",
    "\tmessage, message_type: = gl.get_last_error_message()\n",
    "\tif message_type != .NONE do fmt.eprintln(message)\n",
    "\treturn ok }"
   ]
  },
  {
   "cell_type": "markdown",
   "id": "83606c9a",
   "metadata": {},
   "source": [
    "Window"
   ]
  },
  {
   "cell_type": "markdown",
   "id": "fb2c0449",
   "metadata": {},
   "source": [
    "Character Motion"
   ]
  }
 ],
 "metadata": {
  "kernelspec": {
   "display_name": "JODIN",
   "language": "odin",
   "name": "jodin"
  },
  "language_info": {
   "file_extension": ".odin",
   "mimetype": "text/odin",
   "name": "odin"
  }
 },
 "nbformat": 4,
 "nbformat_minor": 5
}
